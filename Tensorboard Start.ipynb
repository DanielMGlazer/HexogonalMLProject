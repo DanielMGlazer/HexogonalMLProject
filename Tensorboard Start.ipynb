{
 "cells": [
  {
   "cell_type": "code",
   "execution_count": 2,
   "metadata": {
    "init_cell": true
   },
   "outputs": [],
   "source": [
    "from tensorflow.keras.callbacks import TensorBoard as tb"
   ]
  },
  {
   "cell_type": "code",
   "execution_count": 4,
   "metadata": {
    "init_cell": true
   },
   "outputs": [],
   "source": [
    "%load_ext tensorboard"
   ]
  },
  {
   "cell_type": "code",
   "execution_count": 5,
   "metadata": {},
   "outputs": [
    {
     "data": {
      "text/plain": [
       "Reusing TensorBoard on port 6006 (pid 944), started 21:36:13 ago. (Use '!kill 944' to kill it.)"
      ]
     },
     "metadata": {},
     "output_type": "display_data"
    },
    {
     "data": {
      "text/html": [
       "\n",
       "      <iframe id=\"tensorboard-frame-dbeb9874343d4336\" width=\"100%\" height=\"800\" frameborder=\"0\">\n",
       "      </iframe>\n",
       "      <script>\n",
       "        (function() {\n",
       "          const frame = document.getElementById(\"tensorboard-frame-dbeb9874343d4336\");\n",
       "          const url = new URL(\"/\", window.location);\n",
       "          url.port = 6006;\n",
       "          frame.src = url;\n",
       "        })();\n",
       "      </script>\n",
       "  "
      ],
      "text/plain": [
       "<IPython.core.display.HTML object>"
      ]
     },
     "metadata": {},
     "output_type": "display_data"
    }
   ],
   "source": [
    "%tensorboard --logdir Training_logs/"
   ]
  },
  {
   "cell_type": "code",
   "execution_count": 6,
   "metadata": {},
   "outputs": [
    {
     "name": "stdout",
     "output_type": "stream",
     "text": [
      "Known TensorBoard instances:\n",
      "  - port 6006: logdir logs/fit (started 6 days, 20:13:07 ago; pid 10216)\n",
      "  - port 6006: logdir logs/fit (started 6 days, 0:35:11 ago; pid 10656)\n",
      "  - port 6006: logdir /logs/fit (started 22:55:10 ago; pid 12548)\n",
      "  - port 6006: logdir Training_set_6_10/logs/fit (started 5 days, 19:50:24 ago; pid 13120)\n",
      "  - port 6006: logdir Training_set_6_10/logs/fit (started 5 days, 19:44:49 ago; pid 15348)\n",
      "  - port 6006: logdir logs (started 23:03:57 ago; pid 15440)\n",
      "  - port 6006: logdir logs (started 5 days, 20:13:19 ago; pid 16588)\n",
      "  - port 6006: logdir /logs/fit (started 23:23:24 ago; pid 16776)\n",
      "  - port 6006: logdir /logs/fit (started 23:27:04 ago; pid 1848)\n",
      "  - port 6006: logdir /logs/fit (started 23:07:10 ago; pid 19904)\n",
      "  - port 6006: logdir logs/fit (started 22:54:19 ago; pid 20584)\n",
      "  - port 56645: logdir /logs/fit (started 23:46:12 ago; pid 24592)\n",
      "  - port 63949: logdir /logs/fit (started 23:19:20 ago; pid 26664)\n",
      "  - port 6006: logdir Training_logs/ (started 22:18:34 ago; pid 3588)\n",
      "  - port 6006: logdir Training_logs/ (started 21:47:25 ago; pid 944)\n"
     ]
    }
   ],
   "source": [
    "from tensorboard import notebook\n",
    "notebook.list()"
   ]
  },
  {
   "cell_type": "code",
   "execution_count": null,
   "metadata": {},
   "outputs": [],
   "source": []
  }
 ],
 "metadata": {
  "kernelspec": {
   "display_name": "Python 3",
   "language": "python",
   "name": "python3"
  },
  "language_info": {
   "codemirror_mode": {
    "name": "ipython",
    "version": 3
   },
   "file_extension": ".py",
   "mimetype": "text/x-python",
   "name": "python",
   "nbconvert_exporter": "python",
   "pygments_lexer": "ipython3",
   "version": "3.7.7"
  }
 },
 "nbformat": 4,
 "nbformat_minor": 4
}
