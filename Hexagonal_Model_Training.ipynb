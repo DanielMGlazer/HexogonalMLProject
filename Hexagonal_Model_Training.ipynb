{
 "cells": [
  {
   "cell_type": "code",
   "execution_count": 1,
   "metadata": {
    "tags": []
   },
   "outputs": [],
   "source": [
    "import tensorflow as tf\n",
    "import datetime\n",
    "from tensorflow.keras import layers\n",
    "from tensorflow.keras.layers import Input,Conv2D,MaxPooling2D,Flatten,Dense,Dropout\n",
    "from tensorflow.keras import models\n",
    "from tensorflow.keras.models import Model \n",
    "from tensorflow.keras import optimizers\n",
    "from tensorflow.keras import callbacks\n",
    "from tensorflow.keras import backend as K\n",
    "from kerastuner.tuners import Hyperband\n",
    "import numpy as np\n",
    "import matplotlib.pyplot as plt\n",
    "from tensorflow.keras.utils import to_categorical,plot_model\n",
    "from tensorflow.keras.preprocessing.image import ImageDataGenerator\n",
    "from tensorflow.keras.preprocessing import image\n",
    "from tensorflow.keras.losses import MeanSquaredError\n",
    "import os, shutil\n",
    "#from PIL import Image, ImageDraw, ImageFont, ImageColor\n",
    "import random \n",
    "import pandas as pd\n",
    "import pydot\n",
    "from tensorflow.keras.utils import Sequence\n",
    "from my_classes import DataGenerator, DataGeneratorAug, DataGeneratorMultiInputAug, DataGeneratorPeakMask"
   ]
  },
  {
   "cell_type": "code",
   "execution_count": 2,
   "metadata": {
    "tags": []
   },
   "outputs": [
    {
     "data": {
      "text/plain": [
       "(400000, 19)"
      ]
     },
     "execution_count": 2,
     "metadata": {},
     "output_type": "execute_result"
    }
   ],
   "source": [
    "train_dataset_dir ='\\\\Users\\\\danie\\\\Penn_State_REU_Jupyter\\\\Hexagon ML Project GitHub\\\\Training_set_7_27' \n",
    "df=pd.read_csv(os.path.join(train_dataset_dir,\"training_dataframe_full.csv\"))\n",
    "\n",
    "df.shape"
   ]
  },
  {
   "cell_type": "code",
   "execution_count": 3,
   "metadata": {
    "code_folding": []
   },
   "outputs": [],
   "source": [
    "def build_model():\n",
    "    model = models.Sequential()                                  \n",
    "    model.add(layers.Conv2D(32, (3,3) ,activation='relu',padding='same', input_shape=(32,32,2)))\n",
    "    model.add(layers.MaxPooling2D((2,2),padding=\"same\"))\n",
    "    model.add(layers.Conv2D(64,(3,3), activation='relu',padding='same'))\n",
    "    model.add(layers.MaxPooling2D((2,2),padding='same'))\n",
    "    model.add(layers.Conv2D(64,(3,3), activation='relu'))\n",
    "    model.add(layers.MaxPooling2D((2,2)))\n",
    "    model.add(layers.Dropout(0.1))\n",
    "    model.add(layers.Flatten())\n",
    "    model.add(layers.Dense(64, activation='relu'))\n",
    "    model.add(layers.Dropout(0.3))\n",
    "    model.add(layers.Dense(32, activation='relu'))\n",
    "    model.add(layers.Dropout(0.3))\n",
    "    model.add(layers.Dense(8))\n",
    "    return model\n",
    "\n",
    "def get_compiled_model():\n",
    "    model=build_model()\n",
    "    def root_mean_squared_error(y_true, y_pred):\n",
    "        return K.sqrt(K.mean(K.square(y_pred - y_true)))\n",
    "    model.compile(optimizer='Adam', loss=root_mean_squared_error, metrics=['mse','mae'])\n",
    "    return model"
   ]
  },
  {
   "cell_type": "code",
   "execution_count": 3,
   "metadata": {
    "scrolled": false
   },
   "outputs": [],
   "source": [
    "# def build_model():\n",
    "#     input_img = Input(shape=(32,32,1),name='image')\n",
    "#     input_len = Input(shape=(1),name='length')\n",
    "    \n",
    "#     conv_1 = Conv2D(32, (3,3) ,activation='relu',padding='same')(input_img)\n",
    "#     pool_1 = MaxPooling2D((2,2),padding='same')(conv_1)\n",
    "#     conv_2 = Conv2D(64,(3,3), activation='relu')(pool_1)\n",
    "#     pool_2 = MaxPooling2D((2,2))(conv_2)\n",
    "#     conv_3 = Conv2D(64,(3,3), activation='relu')(pool_2)\n",
    "#     pool_3 = MaxPooling2D((2,2))(conv_3)\n",
    "#     dropout_1= Dropout(0.1)(pool_3)\n",
    "#     flatten_1 = Flatten()(dropout_1)\n",
    "    \n",
    "#     x = layers.concatenate([flatten_1,input_len])\n",
    "#     dense_1 = Dense(128, activation='relu')(x)\n",
    "#     dropout_2= Dropout(0.3)(dense_1)\n",
    "#     dense_2 = Dense(64, activation='relu')(dropout_2)\n",
    "#     dropout_3= Dropout(0.3)(dense_2)\n",
    "#     out=Dense(8)(dropout_3)\n",
    "\n",
    "#     model=Model(inputs=[input_img,input_len],outputs=out)\n",
    "#     return model\n",
    "\n",
    "\n",
    "# def get_compiled_model():\n",
    "#     model=build_model()\n",
    "#     def root_mean_squared_error(y_true, y_pred):\n",
    "#         return K.sqrt(K.mean(K.square(y_pred - y_true)))\n",
    "#     model.compile(optimizer='Adam', loss=root_mean_squared_error, metrics=['mse','mae'])\n",
    "#     return model\n",
    "\n",
    "# model=build_model()\n",
    "# model.summary()\n",
    "# plot_model(model,show_shapes=True)"
   ]
  },
  {
   "cell_type": "code",
   "execution_count": 4,
   "metadata": {},
   "outputs": [],
   "source": [
    "validation_split_frac=0.2\n",
    "batch_size=200\n",
    "array_dim=(32,32,1)\n",
    "\n",
    "train_partition=df['filename'].values[:int(df.shape[0]*(1-validation_split_frac))]\n",
    "val_partition=df['filename'].values[int(df.shape[0]*(1-validation_split_frac)):]\n",
    "partition={\"train\":train_partition,'validation':val_partition}\n",
    "\n",
    "#Creates a dictionary with keys as the data filenames and entries as the labels\n",
    "label_names=['x_coord','y_coord','neighbor1x','neighbor1y','neighbor2x','neighbor2y','neighbor3x','neighbor3y']\n",
    "ID_list=df['filename'].values\n",
    "label_list=df[label_names].values\n",
    "#extra_inputs_list=df['bl'].values\n",
    "labels={}\n",
    "#extra_inputs={}\n",
    "i=0\n",
    "for ID in ID_list:\n",
    "    labels[ID]=label_list[i]\n",
    "    #extra_inputs[ID]=extra_inputs_list[i]\n",
    "    i+=1\n",
    "\n",
    "# training_generator=DataGeneratorMultiInputAug(partition['train'],labels,extra_inputs,shuffle=True,directory=train_dataset_dir,batch_size=batch_size,dim=array_dim,norm='divmax')\n",
    "# validation_generator=DataGeneratorMultiInputAug(partition['validation'],labels,extra_inputs,shuffle=True,directory=train_dataset_dir,batch_size=batch_size,dim=array_dim,norm='divmax')\n",
    "\n",
    "# training_generator=DataGeneratorAug(partition['train'],labels,shuffle=True,directory=train_dataset_dir,batch_size=batch_size,dim=array_dim,norm='divmax')\n",
    "# validation_generator=DataGeneratorAug(partition['validation'],labels,shuffle=True,directory=train_dataset_dir,batch_size=batch_size,dim=array_dim,norm='divmax')\n",
    "\n",
    "training_generator=DataGeneratorPeakMask(partition['train'],labels,shuffle=True,directory=train_dataset_dir,batch_size=batch_size,dim=array_dim,norm='divmax')\n",
    "validation_generator=DataGeneratorPeakMask(partition['validation'],labels,shuffle=True,directory=train_dataset_dir,batch_size=batch_size,dim=array_dim,norm='divmax')"
   ]
  },
  {
   "cell_type": "code",
   "execution_count": 5,
   "metadata": {
    "code_folding": [],
    "scrolled": true,
    "tags": []
   },
   "outputs": [
    {
     "name": "stdout",
     "output_type": "stream",
     "text": [
      "WARNING:tensorflow:sample_weight modes were coerced from\n",
      "  ...\n",
      "    to  \n",
      "  ['...']\n",
      "WARNING:tensorflow:sample_weight modes were coerced from\n",
      "  ...\n",
      "    to  \n",
      "  ['...']\n",
      "Train for 1600 steps, validate for 400 steps\n",
      "Epoch 1/20\n",
      "WARNING:tensorflow:From D:\\anaconda3\\envs\\PythonGPU\\lib\\site-packages\\tensorflow_core\\python\\ops\\resource_variable_ops.py:1786: calling BaseResourceVariable.__init__ (from tensorflow.python.ops.resource_variable_ops) with constraint is deprecated and will be removed in a future version.\n",
      "Instructions for updating:\n",
      "If using Keras pass *_constraint arguments to layers.\n",
      "INFO:tensorflow:Assets written to: Model_Checkpoints\\run7_28_minima\\assets\n",
      "1600/1600 - 308s - loss: 0.0911 - mse: 0.0107 - mae: 0.0693 - val_loss: 0.0408 - val_mse: 0.0017 - val_mae: 0.0243\n",
      "Epoch 2/20\n",
      "INFO:tensorflow:Assets written to: Model_Checkpoints\\run7_28_minima\\assets\n",
      "1600/1600 - 329s - loss: 0.0561 - mse: 0.0032 - mae: 0.0395 - val_loss: 0.0365 - val_mse: 0.0014 - val_mae: 0.0209\n",
      "Epoch 3/20\n",
      "INFO:tensorflow:Assets written to: Model_Checkpoints\\run7_28_minima\\assets\n",
      "1600/1600 - 277s - loss: 0.0531 - mse: 0.0028 - mae: 0.0373 - val_loss: 0.0362 - val_mse: 0.0013 - val_mae: 0.0201\n",
      "Epoch 4/20\n",
      "INFO:tensorflow:Assets written to: Model_Checkpoints\\run7_28_minima\\assets\n",
      "1600/1600 - 269s - loss: 0.0520 - mse: 0.0027 - mae: 0.0365 - val_loss: 0.0331 - val_mse: 0.0011 - val_mae: 0.0198\n",
      "Epoch 5/20\n",
      "1600/1600 - 269s - loss: 0.0512 - mse: 0.0026 - mae: 0.0360 - val_loss: 0.0337 - val_mse: 0.0012 - val_mae: 0.0193\n",
      "Epoch 6/20\n",
      "INFO:tensorflow:Assets written to: Model_Checkpoints\\run7_28_minima\\assets\n",
      "1600/1600 - 272s - loss: 0.0508 - mse: 0.0026 - mae: 0.0357 - val_loss: 0.0311 - val_mse: 9.8547e-04 - val_mae: 0.0177\n",
      "Epoch 7/20\n",
      "1600/1600 - 248s - loss: 0.0503 - mse: 0.0025 - mae: 0.0354 - val_loss: 0.0313 - val_mse: 0.0010 - val_mae: 0.0177\n",
      "Epoch 8/20\n",
      "1600/1600 - 253s - loss: 0.0499 - mse: 0.0025 - mae: 0.0352 - val_loss: 0.0322 - val_mse: 0.0011 - val_mae: 0.0187\n",
      "Epoch 9/20\n",
      "INFO:tensorflow:Assets written to: Model_Checkpoints\\run7_28_minima\\assets\n",
      "1600/1600 - 251s - loss: 0.0496 - mse: 0.0025 - mae: 0.0351 - val_loss: 0.0298 - val_mse: 9.0865e-04 - val_mae: 0.0172\n",
      "Epoch 10/20\n",
      "1600/1600 - 265s - loss: 0.0495 - mse: 0.0025 - mae: 0.0350 - val_loss: 0.0305 - val_mse: 9.5301e-04 - val_mae: 0.0181\n",
      "Epoch 11/20\n",
      "1600/1600 - 246s - loss: 0.0492 - mse: 0.0024 - mae: 0.0349 - val_loss: 0.0318 - val_mse: 0.0010 - val_mae: 0.0189\n",
      "Epoch 12/20\n",
      "INFO:tensorflow:Assets written to: Model_Checkpoints\\run7_28_minima\\assets\n",
      "1600/1600 - 2660s - loss: 0.0490 - mse: 0.0024 - mae: 0.0347 - val_loss: 0.0296 - val_mse: 8.9561e-04 - val_mae: 0.0173\n",
      "Epoch 13/20\n",
      "INFO:tensorflow:Assets written to: Model_Checkpoints\\run7_28_minima\\assets\n",
      "1600/1600 - 321s - loss: 0.0487 - mse: 0.0024 - mae: 0.0346 - val_loss: 0.0293 - val_mse: 8.8348e-04 - val_mae: 0.0166\n",
      "Epoch 14/20\n",
      "1600/1600 - 257s - loss: 0.0487 - mse: 0.0024 - mae: 0.0345 - val_loss: 0.0311 - val_mse: 9.8892e-04 - val_mae: 0.0182\n",
      "Epoch 15/20\n",
      "INFO:tensorflow:Assets written to: Model_Checkpoints\\run7_28_minima\\assets\n",
      "1600/1600 - 262s - loss: 0.0485 - mse: 0.0024 - mae: 0.0345 - val_loss: 0.0293 - val_mse: 8.7494e-04 - val_mae: 0.0165\n",
      "Epoch 16/20\n",
      "INFO:tensorflow:Assets written to: Model_Checkpoints\\run7_28_minima\\assets\n",
      "1600/1600 - 266s - loss: 0.0483 - mse: 0.0023 - mae: 0.0344 - val_loss: 0.0289 - val_mse: 8.6104e-04 - val_mae: 0.0157\n",
      "Epoch 17/20\n",
      "1600/1600 - 259s - loss: 0.0483 - mse: 0.0023 - mae: 0.0344 - val_loss: 0.0301 - val_mse: 9.3095e-04 - val_mae: 0.0173\n",
      "Epoch 18/20\n",
      "1600/1600 - 264s - loss: 0.0481 - mse: 0.0023 - mae: 0.0342 - val_loss: 0.0299 - val_mse: 9.2158e-04 - val_mae: 0.0170\n",
      "Epoch 19/20\n",
      "1600/1600 - 272s - loss: 0.0481 - mse: 0.0023 - mae: 0.0343 - val_loss: 0.0294 - val_mse: 8.8144e-04 - val_mae: 0.0174\n",
      "Epoch 20/20\n",
      "1600/1600 - 267s - loss: 0.0478 - mse: 0.0023 - mae: 0.0342 - val_loss: 0.0296 - val_mse: 8.9748e-04 - val_mae: 0.0172\n",
      "INFO:tensorflow:Assets written to: Models\\run7_28_minima\\assets\n"
     ]
    }
   ],
   "source": [
    "model_name='run7_28_minima'\n",
    "model=get_compiled_model()\n",
    "num_epochs=20\n",
    "training_steps=int(df.shape[0]*(1-validation_split_frac)/batch_size)\n",
    "validation_steps=int(df.shape[0]*validation_split_frac/batch_size)\n",
    "# log_dir = os.path.join(\"Training_logs\\\\fit\", datetime.datetime.now().strftime(\"%Y%m%d-%H%M%S\"))\n",
    "# tensorboard_callback = TensorBoard(log_dir=log_dir, histogram_freq=1)\n",
    "my_callbacks=[ \n",
    "   callbacks.EarlyStopping(monitor='loss', patience=3,restore_best_weights=True),\n",
    "   callbacks.ModelCheckpoint(filepath=os.path.join(\"Model_Checkpoints\",model_name),monitor=\"val_loss\",save_best_only=True)\n",
    "]\n",
    "history=model.fit(\n",
    "    training_generator,\n",
    "    steps_per_epoch=training_steps,\n",
    "    validation_data=validation_generator,\n",
    "    validation_steps=validation_steps,\n",
    "    epochs=num_epochs,\n",
    "    verbose=2,\n",
    "    callbacks= my_callbacks,\n",
    "    workers=2\n",
    "    )\n",
    "\n",
    "# history=model.fit(\n",
    "#     generator=training_generator,\n",
    "#     validation_data=validation_generator,\n",
    "#     epochs=num_epochs,\n",
    "#     verbose=1,\n",
    "#     callbacks= my_callbacks\n",
    "#     )\n",
    "\n",
    "\n",
    "model.save(os.path.join('Models',model_name))\n",
    "hist_df = pd.DataFrame(history.history) \n",
    "hist_csv_file = os.path.join('Model_histories',model_name + '_history.csv')\n",
    "with open(hist_csv_file, mode='w') as f:\n",
    "    hist_df.to_csv(f)"
   ]
  },
  {
   "cell_type": "code",
   "execution_count": 2,
   "metadata": {},
   "outputs": [],
   "source": [
    "model_name='run7_28_minima'\n",
    "# def root_mean_squared_error(y_true, y_pred):\n",
    "#         return K.sqrt(K.mean(K.square(y_pred - y_true)))\n",
    "# model=models.load_model(os.path.join('Models',model_name),compile=False)\n",
    "# model.compile(optimizer='Adam', loss=root_mean_squared_error, metrics=['mse','mae'])\n",
    "history_dict=pd.read_csv(os.path.join('Model_histories',model_name + '_history.csv'))"
   ]
  },
  {
   "cell_type": "code",
   "execution_count": 3,
   "metadata": {},
   "outputs": [
    {
     "data": {
      "image/png": "[encoded data removed]",
      "text/plain": [
       "<Figure size 432x288 with 1 Axes>"
      ]
     },
     "metadata": {
      "needs_background": "light"
     },
     "output_type": "display_data"
    },
    {
     "data": {
      "image/png": "[encoded data removed]",
      "text/plain": [
       "<Figure size 432x288 with 1 Axes>"
      ]
     },
     "metadata": {
      "needs_background": "light"
     },
     "output_type": "display_data"
    },
    {
     "data": {
      "image/png": "[encoded data removed]",
      "text/plain": [
       "<Figure size 432x288 with 1 Axes>"
      ]
     },
     "metadata": {
      "needs_background": "light"
     },
     "output_type": "display_data"
    }
   ],
   "source": [
    "mse = history_dict['mse']\n",
    "val_mse = history_dict['val_mse']\n",
    "mae = history_dict['mae']\n",
    "val_mae = history_dict['val_mae']\n",
    "loss = history_dict['loss']\n",
    "val_loss = history_dict['val_loss']\n",
    "\n",
    "epochs = range(1, len(mse) + 1)\n",
    "os.makedirs(os.path.join('History_Plots',model_name))\n",
    "plot_dir=os.path.join('History_Plots',model_name)\n",
    "\n",
    "plt.plot(epochs, mse, 'bo', label='Training mse')\n",
    "plt.plot(epochs, val_mse, 'b', label='Validation mse')\n",
    "plt.title('Training and validation MSE '+ model_name)\n",
    "plt.legend()\n",
    "plt.savefig(os.path.join(plot_dir,model_name+\" mse.png\"))\n",
    "\n",
    "\n",
    "plt.figure()\n",
    "plt.plot(epochs, mae, 'bo', label='Training mae')\n",
    "plt.plot(epochs, val_mae, 'b', label='Validation mae')\n",
    "plt.title('Training and validation MAE '+ model_name)\n",
    "plt.legend()\n",
    "plt.savefig(os.path.join(plot_dir,model_name+\" mae.png\"))\n",
    "\n",
    "plt.figure()\n",
    "plt.plot(epochs, loss, 'bo', label='Training loss')\n",
    "plt.plot(epochs, val_loss, 'b', label='Validation loss')\n",
    "plt.title('Training and validation loss '+ model_name)\n",
    "plt.legend()\n",
    "# plt.xlim(10,)\n",
    "# plt.ylim(0.02,0.06)\n",
    "plt.savefig(os.path.join(plot_dir,model_name+\" loss.png\"))\n",
    "\n",
    "plt.show()"
   ]
  },
  {
   "cell_type": "code",
   "execution_count": 63,
   "metadata": {
    "code_folding": [
     0
    ],
    "tags": []
   },
   "outputs": [
    {
     "name": "stdout",
     "output_type": "stream",
     "text": [
      "Found 0 validated image filenames.\n",
      "Found 0 validated image filenames.\n"
     ]
    }
   ],
   "source": [
    "#Creates generators for training and validation images\n",
    "SEED=5\n",
    "validation_split_frac=0.2\n",
    "batch_size=1\n",
    "train_datagen = ImageDataGenerator(rescale=1./255,validation_split=validation_split_frac)\n",
    "test_datagen = ImageDataGenerator(rescale=1./255)  \n",
    "train_generator= train_datagen.flow_from_dataframe(\n",
    "        df,\n",
    "        directory=train_dataset_dir,\n",
    "        x_col=\"filename\",\n",
    "        y_col=['x_coord','y_coord','neighbor1x','neighbor1y','neighbor2x','neighbor2y','neighbor3x','neighbor3y'],\n",
    "        target_size=(32,32),\n",
    "        shuffle=True,\n",
    "        color_mode='grayscale',\n",
    "        seed= SEED,\n",
    "        class_mode=\"raw\",\n",
    "        batch_size=batch_size,\n",
    "        subset='training')\n",
    "\n",
    "validation_generator= train_datagen.flow_from_dataframe(\n",
    "        df,\n",
    "        directory=train_dataset_dir,\n",
    "        x_col=\"filename\",\n",
    "        y_col=['x_coord','y_coord','neighbor1x','neighbor1y','neighbor2x','neighbor2y','neighbor3x','neighbor3y'],\n",
    "        target_size=(32,32),\n",
    "        shuffle=True,\n",
    "        color_mode='grayscale',\n",
    "        seed= SEED,\n",
    "        class_mode=\"raw\",\n",
    "        batch_size=batch_size,\n",
    "        subset='validation')\n",
    "\n",
    "\n",
    "\n",
    "\n",
    "# test_generator= test_datagen.flow_from_dataframe(\n",
    "#         dft,\n",
    "#         directory=test_dataset_dir,\n",
    "#         x_col=\"filename\",\n",
    "#         y_col=['x_coord','y_coord','neighbor1x','neighbor1y','neighbor2x','neighbor2y','neighbor3x','neighbor3y'],\n",
    "#         target_size=(32,32),\n",
    "#         shuffle=True,\n",
    "#         seed= SEED,\n",
    "#         class_mode=\"raw\",\n",
    "#         batch_size=batch_size)"
   ]
  },
  {
   "cell_type": "code",
   "execution_count": 21,
   "metadata": {
    "tags": []
   },
   "outputs": [
    {
     "name": "stdout",
     "output_type": "stream",
     "text": [
      "257\n"
     ]
    }
   ],
   "source": [
    "# def build_model_hp(hp):\n",
    "#     model = models.Sequential()                                  \n",
    "#     model.add(layers.Conv2D(hp.Int('conv1_units',min_value=32,max_value=128,step=64),(hp.Int('kernel_size',min_value=3,max_value=5,step=1),hp.get('kernel_size')) ,activation='relu', input_shape=(32,32,3)))\n",
    "#     model.add(layers.MaxPooling2D((hp.get('kernel_size')-1,hp.get('kernel_size')-1)))\n",
    "#     model.add(layers.Conv2D(hp.Int('conv2_units',min_value=64,max_value=128,step=64),(hp.get('kernel_size'),hp.get('kernel_size')), activation='relu'))\n",
    "#     model.add(layers.MaxPooling2D((hp.get('kernel_size')-1,hp.get('kernel_size')-1)))\n",
    "#     model.add(layers.Conv2D(hp.Int('conv3_units',min_value=64,max_value=128,step=64),(hp.get('kernel_size'),hp.get('kernel_size')), activation='relu'))\n",
    "#     model.add(layers.MaxPooling2D((hp.get('kernel_size')-1,hp.get('kernel_size')-1)))\n",
    "#     model.add(layers.Dropout(hp.Float('dropout_rate',min_value=0.1,max_value=0.5,step=0.1)))\n",
    "#     model.add(layers.Flatten())\n",
    "#     model.add(layers.Dense(hp.Int('dense1_units',min_value=64,max_value=256,step=64,default=128), activation='relu'))\n",
    "#     model.add(layers.Dense(32, activation='relu'))\n",
    "#     model.add(layers.Dense(8))\n",
    "\n",
    "#     def root_mean_squared_error(y_true, y_pred):\n",
    "#         return K.sqrt(K.mean(K.square(y_pred - y_true)))\n",
    "#     model.compile(optimizer=optimizers.Adam(hp.Choise('learning_rate',values=[1e-2,1e-3,1e-4])), loss=root_mean_squared_error, metrics=['mse','mae'])\n",
    "#     return model\n",
    "\n",
    "def build_model_hp(hp):\n",
    "    model = models.Sequential()                                  \n",
    "    model.add(layers.Conv2D(hp.Int('conv1_units',min_value=32,max_value=128,step=64),(3,3),activation='relu',input_shape=(32,32,3)))\n",
    "    model.add(layers.MaxPooling2D((2,2)))\n",
    "    model.add(layers.Conv2D(hp.get('conv1_units')+32,(3,3), activation='relu'))\n",
    "    model.add(layers.MaxPooling2D((2,2)))\n",
    "    model.add(layers.Conv2D(hp.get('conv1_units')+32,(3,3), activation='relu'))\n",
    "    model.add(layers.MaxPooling2D((2,2)))\n",
    "    model.add(layers.Dropout(hp.Float('dropout_rate',min_value=0.1,max_value=0.5,step=0.1)))\n",
    "    model.add(layers.Flatten())\n",
    "    model.add(layers.Dense(hp.Int('dense1_units',min_value=64,max_value=256,step=64,default=128), activation='relu'))\n",
    "    model.add(layers.Dense(32, activation='relu'))\n",
    "    model.add(layers.Dense(8))\n",
    "\n",
    "    model.compile(optimizer=optimizers.Adam(hp.Choice('learning_rate',values=[1e-2,1e-3,1e-4])), loss=MeanSquaredError(), metrics=['mse','mae'])\n",
    "    return model\n"
   ]
  },
  {
   "cell_type": "code",
   "execution_count": 1,
   "metadata": {
    "tags": []
   },
   "outputs": [],
   "source": [
    "# project_name='tuner_trial1'\n",
    "# tuner= Hyperband(\n",
    "#     build_model_hp,\n",
    "#     objective='val_loss',\n",
    "#     max_epochs=50,\n",
    "#     executions_per_trial=2,\n",
    "#     directory=os.path.normpath('C:/'),\n",
    "#     project_name=project_name\n",
    "# )\n",
    "# search_epochs=50\n",
    "# training_steps=int(df.shape[0]*(1-validation_split_frac)/batch_size)\n",
    "# validation_steps=int(df.shape[0]*validation_split_frac/batch_size)\n",
    "\n",
    "# tuner.search(\n",
    "#     train_generator,\n",
    "#     steps_per_epoch=training_steps,\n",
    "#     validation_data=validation_generator,\n",
    "#     validation_steps=validation_steps,\n",
    "#     epochs=search_epochs,\n",
    "#     verbose=1,\n",
    "#     #callbacks=[callbacks.EarlyStopping(monitor='loss', patience=3,restore_best_weights=True)]\n",
    "# )\n",
    "\n",
    "# best_hp= tuner.get_best_hyperparameters()[0]\n",
    "# print(best_hp)"
   ]
  },
  {
   "cell_type": "code",
   "execution_count": null,
   "metadata": {
    "tags": []
   },
   "outputs": [],
   "source": [
    "# def build_model():\n",
    "#     input_img= Input(shape=(32,32,3))\n",
    "#     conv_1= Conv2D(32, (3,3) ,activation='relu')(input_img)\n",
    "#     pool_1= MaxPooling2D((2,2))(conv_1)\n",
    "#     conv_2= Conv2D(64,(3,3), activation='relu')(pool_1)\n",
    "#     pool_2= MaxPooling2D((2,2))(conv_2)\n",
    "#     conv_3= Conv2D(64,(3,3), activation='relu')(pool_2)\n",
    "#     pool_3= MaxPooling2D((2,2))(conv_3)\n",
    "#     dropout_1= Dropout(0.5)(pool_3)\n",
    "#     flatten_1= Flatten()(dropout_1)\n",
    "#     dense_1= Dense(128, activation='relu')(flatten_1)\n",
    "#     dense_2= Dense(64, activation='relu')(dense_1)\n",
    "\n",
    "#     out_1= Dense(1,name='x_coord')(dense_2)\n",
    "#     out_2= Dense(1,name='y_coord')(dense_2)\n",
    "#     out_3= Dense(1,name='neighbor1x')(dense_2)\n",
    "#     out_4= Dense(1,name='neighbor1y')(dense_2)\n",
    "#     out_5= Dense(1,name='neighbor2x')(dense_2)\n",
    "#     out_6= Dense(1,name='neighbor2y')(dense_2)\n",
    "#     out_7= Dense(1,name='neighbor3x')(dense_2)\n",
    "#     out_8= Dense(1,name='neighbor3y')(dense_2)\n",
    "\n",
    "#     combined_outputs=layers.concatenate([out_1,out_2,out_3,out_4,out_5,out_6,out_7,out_8],name='outputs')\n",
    "\n",
    "\n",
    "#     #model=Model(inputs=input_img,outputs=[out_1,out_2,out_3,out_4,out_5,out_6,out_7,out_8])\n",
    "#     model=Model(inputs=input_img,outputs=combined_outputs)\n",
    "#     return model\n",
    "\n",
    "# def get_compiled_model():\n",
    "#     model=build_model()\n",
    "#     def root_mean_squared_error(y_true, y_pred):\n",
    "#         return K.sqrt(K.mean(K.square(y_pred - y_true)))\n",
    "#     model.compile(\n",
    "#     optimizer='Adam',\n",
    "#     loss={'x_coord':root_mean_squared_error, 'y_coord':root_mean_squared_error,\n",
    "#         'neighbor1x':root_mean_squared_error,'neighbor1y':root_mean_squared_error,\n",
    "#         'neighbor2x':root_mean_squared_error,'neighbor2y':root_mean_squared_error,\n",
    "#         'neighbor3x':root_mean_squared_error,'neighbor3y':root_mean_squared_error},\n",
    "#     loss_weights={'x_coord':1,'y_coord':1,\n",
    "#         'neighbor1x':1,'neighbor1y':1,\n",
    "#         'neighbor2x':1,'neighbor2y':1,\n",
    "#         'neighbor3x':1,'neighbor3y':1},\n",
    "#     metrics={\"x_coord\":['mse','mae'],'y_coord':['mse','mae'],\n",
    "#         'neighbor1x':['mse','mae'],'neighbor1y':['mse','mae'],\n",
    "#         'neighbor2x':['mse','mae'],'neighbor2y':['mse','mae'],\n",
    "#         'neighbor3x':['mse','mae'],'neighbor3y':['mse','mae']}\n",
    "#     )\n",
    "#     return model\n",
    "\n",
    "# def get_compiled_model():\n",
    "#     model=build_model()\n",
    "#     model.compile(optimizer='Adam', loss=tf.keras.metrics.RootMeanSquaredError(), metrics=['mse','mae'])\n",
    "#     return model\n",
    "\n",
    "# model=build_model()\n",
    "# model.summary()\n",
    "#plot_model(model,show_shapes=True)\n"
   ]
  }
 ],
 "metadata": {
  "kernelspec": {
   "display_name": "Python 3",
   "language": "python",
   "name": "python3"
  },
  "language_info": {
   "codemirror_mode": {
    "name": "ipython",
    "version": 3
   },
   "file_extension": ".py",
   "mimetype": "text/x-python",
   "name": "python",
   "nbconvert_exporter": "python",
   "pygments_lexer": "ipython3",
   "version": "3.7.7"
  }
 },
 "nbformat": 4,
 "nbformat_minor": 2
}
