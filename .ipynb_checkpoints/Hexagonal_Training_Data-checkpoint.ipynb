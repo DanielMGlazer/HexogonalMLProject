{
 "cells": [
  {
   "cell_type": "code",
   "execution_count": 4,
   "metadata": {},
   "outputs": [],
   "source": [
    "import numpy as np\n",
    "import collections\n",
    "import math\n"
   ]
  },
  {
   "cell_type": "code",
   "execution_count": 11,
   "metadata": {},
   "outputs": [],
   "source": [
    "Point = collections.namedtuple(\"Point\", [\"x\", \"y\"])\n",
    "\n",
    "\n",
    "_Hex = collections.namedtuple(\"Hex\", [\"q\", \"r\", \"s\"])\n",
    "\n",
    "def Hex(q, r, s): #creates the hexagon datatype \n",
    "    assert not (round(q + r + s) != 0), \"q + r + s must be 0\"\n",
    "    return _Hex(q, r, s)\n",
    "\n",
    "def eq(a,b): #Returns wether or not two hexs are equal\n",
    "    return a.q==b.q and a.r==b.r and a.s==b.s\n",
    "\n",
    "#Vector operators for hexagons\n",
    "def hex_add(a, b): \n",
    "    return Hex(a.q + b.q, a.r + b.r, a.s + b.s)\n",
    "\n",
    "def hex_subtract(a, b):\n",
    "    return Hex(a.q - b.q, a.r - b.r, a.s - b.s)\n",
    "\n",
    "def hex_scale(a, k:int):\n",
    "    return Hex(a.q * k, a.r * k, a.s * k)\n",
    "\n",
    "\n",
    "def hex_length(hex): #length of the line from 0,0 to the hexagon\n",
    "    return (abs(hex.q) + abs(hex.r) + abs(hex.s)) // 2\n",
    "\n",
    "def hex_distance(a, b): #distance between two hexagons\n",
    "    return hex_length(hex_subtract(a, b))\n",
    "\n",
    "#Functions to move directionly in the lattice or aquire neibhbors\n",
    "hex_directions = [Hex(1, 0, -1), Hex(1, -1, 0), Hex(0, -1, 1), Hex(-1, 0, 1), Hex(-1, 1, 0), Hex(0, 1, -1)]\n",
    "def hex_direction(direction):\n",
    "    return hex_directions[direction]\n",
    "\n",
    "def hex_neighbor(hex, direction):\n",
    "    return hex_add(hex, hex_direction(direction))\n",
    "\n",
    "\n",
    "# Datatypes for pointy top or flattop lattices\n",
    "Orientation = collections.namedtuple(\"Orientation\", [\"f0\", \"f1\", \"f2\", \"f3\", \"b0\", \"b1\", \"b2\", \"b3\", \"start_angle\"])\n",
    "\n",
    "Layout = collections.namedtuple(\"Layout\", [\"orientation\", \"size\", \"origin\"])\n",
    "\n",
    "layout_pointy = Orientation(math.sqrt(3.0), math.sqrt(3.0) / 2.0, 0.0, 3.0 / 2.0, math.sqrt(3.0) / 3.0, -1.0 / 3.0, 0.0, 2.0 / 3.0, 0.5)\n",
    "layout_flat = Orientation(3.0 / 2.0, 0.0, math.sqrt(3.0) / 2.0, math.sqrt(3.0), 2.0 / 3.0, 0.0, -1.0 / 3.0, math.sqrt(3.0) / 3.0, 0.0)\n",
    "\n",
    "\n",
    "\n",
    "def hex_to_pixel(layout, h): #returns the x,y coordinate of the center of the hexagon\n",
    "    M = layout.orientation\n",
    "    x = (M.f0*h.q+M.f1*h.r)*layout.size.x\n",
    "    y = (M.f2*h.q+M.f3*h.r)*layout.size.y\n",
    "    return Point(x + layout.origin.x , y + layout.origin.y)\n",
    "\n",
    "\n",
    "def hex_corner_offset(layout, corner): #Returns how far off each corner is from the center point\n",
    "    M = layout.orientation\n",
    "    size = layout.size\n",
    "    angle = 2.0 * math.pi * (M.start_angle - corner) / 6.0\n",
    "    return Point(size.x * math.cos(angle), size.y * math.sin(angle))\n",
    "\n",
    "def polygon_corners(layout, h): #Creates an array of corners by applying the corner offset method to the center six times\n",
    "    corners = []\n",
    "    center = hex_to_pixel(layout, h)\n",
    "    for i in range(0, 6):\n",
    "        offset = hex_corner_offset(layout, i)\n",
    "        corners.append(Point(center.x + offset.x, center.y + offset.y))\n",
    "    return corners\n"
   ]
  },
  {
   "cell_type": "code",
   "execution_count": null,
   "metadata": {},
   "outputs": [],
   "source": []
  },
  {
   "cell_type": "code",
   "execution_count": null,
   "metadata": {},
   "outputs": [],
   "source": []
  }
 ],
 "metadata": {
  "kernelspec": {
   "display_name": "Python 3",
   "language": "python",
   "name": "python3"
  },
  "language_info": {
   "codemirror_mode": {
    "name": "ipython",
    "version": 3
   },
   "file_extension": ".py",
   "mimetype": "text/x-python",
   "name": "python",
   "nbconvert_exporter": "python",
   "pygments_lexer": "ipython3",
   "version": "3.6.10"
  }
 },
 "nbformat": 4,
 "nbformat_minor": 4
}
