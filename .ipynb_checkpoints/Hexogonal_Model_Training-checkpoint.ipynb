{
 "cells": [
  {
   "cell_type": "code",
   "execution_count": 1,
   "metadata": {
    "tags": []
   },
   "outputs": [],
   "source": [
    "import tensorflow as tf\n",
    "import datetime\n",
    "from tensorflow.keras import layers\n",
    "from tensorflow.keras.layers import Input,Conv2D,MaxPooling2D,Flatten,Dense,Dropout\n",
    "from tensorflow.keras import models\n",
    "from tensorflow.keras.models import Model \n",
    "from tensorflow.keras import optimizers\n",
    "from tensorflow.keras import callbacks\n",
    "from tensorflow.keras import backend as K\n",
    "from kerastuner.tuners import Hyperband\n",
    "import numpy as np\n",
    "import matplotlib.pyplot as plt\n",
    "from tensorflow.keras.utils import to_categorical,plot_model\n",
    "from tensorflow.keras.preprocessing.image import ImageDataGenerator\n",
    "from tensorflow.keras.preprocessing import image\n",
    "from tensorflow.keras.losses import MeanSquaredError\n",
    "import os, shutil\n",
    "#from PIL import Image, ImageDraw, ImageFont, ImageColor\n",
    "import random \n",
    "import pandas as pd\n",
    "import pydot\n",
    "from tensorflow.keras.utils import Sequence\n",
    "from my_classes import DataGenerator, DataGeneratorAug, DataGeneratorMultiInputAug"
   ]
  },
  {
   "cell_type": "code",
   "execution_count": 2,
   "metadata": {
    "tags": []
   },
   "outputs": [
    {
     "data": {
      "text/plain": [
       "(300000, 18)"
      ]
     },
     "execution_count": 2,
     "metadata": {},
     "output_type": "execute_result"
    }
   ],
   "source": [
    "train_dataset_dir ='\\\\Users\\\\danie\\\\Penn_State_REU_Jupyter\\\\Hexagon ML Project GitHub\\\\Training_set_7_01' \n",
    "#test_dataset_dir='\\\\Users\\\\danie\\\\Penn_State_REU_Jupyter\\\\Hexagon ML Project GitHub\\\\Testing_set_6_18' \n",
    "\n",
    "df=pd.read_csv(os.path.join(train_dataset_dir,\"training_dataframe.csv\"))\n",
    "#df = df.sample(frac=0.001,random_state=5).reset_index(drop=True)\n",
    "\n",
    "\n",
    "# dft = pd.read_csv(os.path.join(test_dataset_dir,\"training_dataframe.csv\"))\n",
    "# dft = dft.sample(frac=1,random_state=5).reset_index(drop=True)\n",
    "\n",
    "df.shape\n",
    "#dft.shape"
   ]
  },
  {
   "cell_type": "code",
   "execution_count": 3,
   "metadata": {
    "code_folding": []
   },
   "outputs": [],
   "source": [
    "# def build_model():\n",
    "#     model = models.Sequential()                                  \n",
    "#     model.add(layers.Conv2D(32, (3,3) ,activation='relu',padding='same', input_shape=(32,32,1)))\n",
    "#     model.add(layers.MaxPooling2D((2,2),padding=\"same\"))\n",
    "#     model.add(layers.Conv2D(64,(3,3), activation='relu'))\n",
    "#     model.add(layers.MaxPooling2D((2,2)))\n",
    "#     model.add(layers.Conv2D(64,(3,3), activation='relu'))\n",
    "#     model.add(layers.MaxPooling2D((2,2)))\n",
    "#     model.add(layers.Flatten())\n",
    "#     model.add(layers.Dense(128, activation='relu'))\n",
    "#     model.add(layers.Dropout(0.5))\n",
    "#     model.add(layers.Dense(32, activation='relu'))\n",
    "#     model.add(layers.Dense(8))\n",
    "#     return model\n",
    "\n",
    "# def get_compiled_model():\n",
    "#     model=build_model()\n",
    "#     def root_mean_squared_error(y_true, y_pred):\n",
    "#         return K.sqrt(K.mean(K.square(y_pred - y_true)))\n",
    "#     model.compile(optimizer='Adam', loss=root_mean_squared_error, metrics=['mse','mae'])\n",
    "#     return model"
   ]
  },
  {
   "cell_type": "code",
   "execution_count": 3,
   "metadata": {
    "scrolled": true
   },
   "outputs": [],
   "source": [
    "def build_model():\n",
    "    input_img = Input(shape=(32,32,1),name='image')\n",
    "    input_len = Input(shape=(1),name='length')\n",
    "    \n",
    "    conv_1 = Conv2D(32, (3,3) ,activation='relu',padding='same')(input_img)\n",
    "    pool_1 = MaxPooling2D((2,2),padding='same')(conv_1)\n",
    "    conv_2 = Conv2D(64,(3,3), activation='relu')(pool_1)\n",
    "    pool_2 = MaxPooling2D((2,2))(conv_2)\n",
    "    conv_3 = Conv2D(64,(3,3), activation='relu')(pool_2)\n",
    "    pool_3 = MaxPooling2D((2,2))(conv_3)\n",
    "    flatten_1 = Flatten()(pool_3)\n",
    "    \n",
    "    x = layers.concatenate([flatten_1,input_len])\n",
    "    dense_1 = Dense(128, activation='relu')(x)\n",
    "    dropout_1 = Dropout(0.5)(dense_1)\n",
    "    dense_2 = Dense(64, activation='relu')(dropout_1)\n",
    "    out=Dense(8)(dense_2)\n",
    "\n",
    "    model=Model(inputs=[input_img,input_len],outputs=out)\n",
    "    return model\n",
    "\n",
    "\n",
    "def get_compiled_model():\n",
    "    model=build_model()\n",
    "    def root_mean_squared_error(y_true, y_pred):\n",
    "        return K.sqrt(K.mean(K.square(y_pred - y_true)))\n",
    "    model.compile(optimizer='Adam', loss=root_mean_squared_error, metrics=['mse','mae'])\n",
    "    return model\n",
    "\n",
    "# model=build_model()\n",
    "# model.summary()\n",
    "# #plot_model(model,show_shapes=True)"
   ]
  },
  {
   "cell_type": "code",
   "execution_count": 4,
   "metadata": {},
   "outputs": [],
   "source": [
    "validation_split_frac=0.2\n",
    "batch_size=200\n",
    "array_dim=(32,32,1)\n",
    "\n",
    "train_partition=df['filename'].values[:int(df.shape[0]*(1-validation_split_frac))]\n",
    "val_partition=df['filename'].values[int(df.shape[0]*(1-validation_split_frac)):]\n",
    "partition={\"train\":train_partition,'validation':val_partition}\n",
    "\n",
    "#Creates a dictionary with keys as the data filenames and entries as the labels\n",
    "label_names=['x_coord','y_coord','neighbor1x','neighbor1y','neighbor2x','neighbor2y','neighbor3x','neighbor3y']\n",
    "ID_list=df['filename'].values\n",
    "label_list=df[label_names].values\n",
    "extra_inputs_list=df['bl'].values\n",
    "labels={}\n",
    "extra_inputs={}\n",
    "i=0\n",
    "for ID in ID_list:\n",
    "    labels[ID]=label_list[i]\n",
    "    extra_inputs[ID]=extra_inputs_list[i]\n",
    "    i+=1\n",
    "\n",
    "training_generator=DataGeneratorMultiInputAug(partition['train'],labels,extra_inputs,shuffle=True,directory=train_dataset_dir,batch_size=batch_size,dim=array_dim,norm='standardize')\n",
    "validation_generator=DataGeneratorMultiInputAug(partition['validation'],labels,extra_inputs,shuffle=True,directory=train_dataset_dir,batch_size=batch_size,dim=array_dim,norm='standardize')"
   ]
  },
  {
   "cell_type": "code",
   "execution_count": null,
   "metadata": {
    "code_folding": [],
    "scrolled": true,
    "tags": []
   },
   "outputs": [
    {
     "name": "stdout",
     "output_type": "stream",
     "text": [
      "WARNING:tensorflow:sample_weight modes were coerced from\n",
      "  ...\n",
      "    to  \n",
      "  ['...']\n",
      "WARNING:tensorflow:sample_weight modes were coerced from\n",
      "  ...\n",
      "    to  \n",
      "  ['...']\n",
      "Train for 1200 steps, validate for 300 steps\n",
      "Epoch 1/100\n",
      "WARNING:tensorflow:From D:\\anaconda3\\envs\\PythonGPU\\lib\\site-packages\\tensorflow_core\\python\\ops\\resource_variable_ops.py:1786: calling BaseResourceVariable.__init__ (from tensorflow.python.ops.resource_variable_ops) with constraint is deprecated and will be removed in a future version.\n",
      "Instructions for updating:\n",
      "If using Keras pass *_constraint arguments to layers.\n",
      "INFO:tensorflow:Assets written to: Model_Checkpoints\\run7_07_multiinput\\assets\n",
      "1200/1200 - 181s - loss: 0.0748 - mse: 0.0082 - mae: 0.0504 - val_loss: 0.0435 - val_mse: 0.0019 - val_mae: 0.0244\n",
      "Epoch 2/100\n",
      "INFO:tensorflow:Assets written to: Model_Checkpoints\\run7_07_multiinput\\assets\n",
      "1200/1200 - 132s - loss: 0.0460 - mse: 0.0022 - mae: 0.0237 - val_loss: 0.0390 - val_mse: 0.0016 - val_mae: 0.0191\n",
      "Epoch 3/100\n",
      "INFO:tensorflow:Assets written to: Model_Checkpoints\\run7_07_multiinput\\assets\n",
      "1200/1200 - 132s - loss: 0.0406 - mse: 0.0017 - mae: 0.0200 - val_loss: 0.0338 - val_mse: 0.0012 - val_mae: 0.0178\n",
      "Epoch 4/100\n",
      "INFO:tensorflow:Assets written to: Model_Checkpoints\\run7_07_multiinput\\assets\n",
      "1200/1200 - 131s - loss: 0.0381 - mse: 0.0015 - mae: 0.0183 - val_loss: 0.0332 - val_mse: 0.0011 - val_mae: 0.0162\n",
      "Epoch 5/100\n"
     ]
    }
   ],
   "source": [
    "model_name='run7_07_multiinput'\n",
    "model=get_compiled_model()\n",
    "num_epochs=100\n",
    "training_steps=int(df.shape[0]*(1-validation_split_frac)/batch_size)\n",
    "validation_steps=int(df.shape[0]*validation_split_frac/batch_size)\n",
    "# log_dir = os.path.join(\"Training_logs\\\\fit\", datetime.datetime.now().strftime(\"%Y%m%d-%H%M%S\"))\n",
    "# tensorboard_callback = TensorBoard(log_dir=log_dir, histogram_freq=1)\n",
    "my_callbacks=[ \n",
    "   callbacks.EarlyStopping(monitor='loss', patience=5,restore_best_weights=True),\n",
    "   callbacks.ModelCheckpoint(filepath=os.path.join(\"Model_Checkpoints\",model_name),monitor=\"val_loss\",save_best_only=True)\n",
    "]\n",
    "history=model.fit(\n",
    "    training_generator,\n",
    "    steps_per_epoch=training_steps,\n",
    "    validation_data=validation_generator,\n",
    "    validation_steps=validation_steps,\n",
    "    epochs=num_epochs,\n",
    "    verbose=2,\n",
    "    callbacks= my_callbacks,\n",
    "    workers=2\n",
    "    )\n",
    "\n",
    "# history=model.fit(\n",
    "#     generator=training_generator,\n",
    "#     validation_data=validation_generator,\n",
    "#     epochs=num_epochs,\n",
    "#     verbose=1,\n",
    "#     callbacks= my_callbacks\n",
    "#     )\n",
    "\n",
    "\n",
    "model.save(os.path.join('Models',model_name))\n",
    "hist_df = pd.DataFrame(history.history) \n",
    "hist_csv_file = os.path.join('Model_histories',model_name + '_history.csv')\n",
    "with open(hist_csv_file, mode='w') as f:\n",
    "    hist_df.to_csv(f)"
   ]
  },
  {
   "cell_type": "code",
   "execution_count": 6,
   "metadata": {},
   "outputs": [],
   "source": [
    "model_name='run7_05_divmax'\n",
    "# def root_mean_squared_error(y_true, y_pred):\n",
    "#         return K.sqrt(K.mean(K.square(y_pred - y_true)))\n",
    "# model=models.load_model(os.path.join('Models',model_name),compile=False)\n",
    "# model.compile(optimizer='Adam', loss=root_mean_squared_error, metrics=['mse','mae'])\n",
    "history_dict=pd.read_csv(os.path.join('Model_histories',model_name + '_history.csv'))"
   ]
  },
  {
   "cell_type": "code",
   "execution_count": 8,
   "metadata": {},
   "outputs": [
    {
     "data": {
      "image/png": "[encoded data removed]",
      "text/plain": [
       "<Figure size 432x288 with 1 Axes>"
      ]
     },
     "metadata": {
      "needs_background": "light"
     },
     "output_type": "display_data"
    },
    {
     "data": {
      "image/png": "[encoded data removed]",
      "text/plain": [
       "<Figure size 432x288 with 1 Axes>"
      ]
     },
     "metadata": {
      "needs_background": "light"
     },
     "output_type": "display_data"
    },
    {
     "data": {
      "image/png": "[encoded data removed]",
      "text/plain": [
       "<Figure size 432x288 with 1 Axes>"
      ]
     },
     "metadata": {
      "needs_background": "light"
     },
     "output_type": "display_data"
    }
   ],
   "source": [
    "mse = history_dict['mse']\n",
    "val_mse = history_dict['val_mse']\n",
    "mae = history_dict['mae']\n",
    "val_mae = history_dict['val_mae']\n",
    "loss = history_dict['loss']\n",
    "val_loss = history_dict['val_loss']\n",
    "# rmse1 = history_dict['rmse_1']\n",
    "\n",
    "epochs = range(1, len(mse) + 1)\n",
    "os.makedirs(os.path.join('History_Plots',model_name))\n",
    "plot_dir=os.path.join('History_Plots',model_name)\n",
    "\n",
    "plt.plot(epochs, mse, 'bo', label='Training mse')\n",
    "plt.plot(epochs, val_mse, 'b', label='Validation mse')\n",
    "plt.title('Training and validation MSE '+ model_name)\n",
    "plt.legend()\n",
    "plt.savefig(os.path.join(plot_dir,model_name+\" mse.png\"))\n",
    "plt.figure()\n",
    "\n",
    "\n",
    "plt.plot(epochs, mae, 'bo', label='Training mae')\n",
    "plt.plot(epochs, val_mae, 'b', label='Validation mae')\n",
    "plt.title('Training and validation MAE '+ model_name)\n",
    "plt.legend()\n",
    "plt.savefig(os.path.join(plot_dir,model_name+\" mae.png\"))\n",
    "\n",
    "plt.figure()\n",
    "plt.plot(epochs, loss, 'bo', label='Training loss')\n",
    "plt.plot(epochs, val_loss, 'b', label='Validation loss')\n",
    "plt.title('Training and validation loss '+ model_name)\n",
    "plt.legend()\n",
    "plt.savefig(os.path.join(plot_dir,model_name+\" loss.png\"))\n",
    "\n",
    "plt.show()"
   ]
  },
  {
   "cell_type": "code",
   "execution_count": 114,
   "metadata": {
    "tags": []
   },
   "outputs": [
    {
     "name": "stdout",
     "output_type": "stream",
     "text": [
      "1/3 [=========>....................] - ETA: 0s"
     ]
    },
    {
     "ename": "IndexError",
     "evalue": "tuple index out of range",
     "output_type": "error",
     "traceback": [
      "\u001b[1;31m---------------------------------------------------------------------------\u001b[0m",
      "\u001b[1;31mIndexError\u001b[0m                                Traceback (most recent call last)",
      "\u001b[1;32m<ipython-input-114-9af15883edfb>\u001b[0m in \u001b[0;36m<module>\u001b[1;34m\u001b[0m\n\u001b[0;32m      3\u001b[0m model.evaluate(\n\u001b[0;32m      4\u001b[0m     \u001b[0mpredict_test_generator\u001b[0m\u001b[1;33m,\u001b[0m\u001b[1;33m\u001b[0m\u001b[1;33m\u001b[0m\u001b[0m\n\u001b[1;32m----> 5\u001b[1;33m     \u001b[0msteps\u001b[0m\u001b[1;33m=\u001b[0m\u001b[1;36m3\u001b[0m\u001b[1;33m\u001b[0m\u001b[1;33m\u001b[0m\u001b[0m\n\u001b[0m\u001b[0;32m      6\u001b[0m )\n",
      "\u001b[1;32mD:\\anaconda3\\envs\\PythonGPU\\lib\\site-packages\\tensorflow_core\\python\\keras\\engine\\training.py\u001b[0m in \u001b[0;36mevaluate\u001b[1;34m(self, x, y, batch_size, verbose, sample_weight, steps, callbacks, max_queue_size, workers, use_multiprocessing)\u001b[0m\n\u001b[0;32m    928\u001b[0m         \u001b[0mmax_queue_size\u001b[0m\u001b[1;33m=\u001b[0m\u001b[0mmax_queue_size\u001b[0m\u001b[1;33m,\u001b[0m\u001b[1;33m\u001b[0m\u001b[1;33m\u001b[0m\u001b[0m\n\u001b[0;32m    929\u001b[0m         \u001b[0mworkers\u001b[0m\u001b[1;33m=\u001b[0m\u001b[0mworkers\u001b[0m\u001b[1;33m,\u001b[0m\u001b[1;33m\u001b[0m\u001b[1;33m\u001b[0m\u001b[0m\n\u001b[1;32m--> 930\u001b[1;33m         use_multiprocessing=use_multiprocessing)\n\u001b[0m\u001b[0;32m    931\u001b[0m \u001b[1;33m\u001b[0m\u001b[0m\n\u001b[0;32m    932\u001b[0m   def predict(self,\n",
      "\u001b[1;32mD:\\anaconda3\\envs\\PythonGPU\\lib\\site-packages\\tensorflow_core\\python\\keras\\engine\\training_v2.py\u001b[0m in \u001b[0;36mevaluate\u001b[1;34m(self, model, x, y, batch_size, verbose, sample_weight, steps, callbacks, max_queue_size, workers, use_multiprocessing, **kwargs)\u001b[0m\n\u001b[0;32m    488\u001b[0m         \u001b[0msample_weight\u001b[0m\u001b[1;33m=\u001b[0m\u001b[0msample_weight\u001b[0m\u001b[1;33m,\u001b[0m \u001b[0msteps\u001b[0m\u001b[1;33m=\u001b[0m\u001b[0msteps\u001b[0m\u001b[1;33m,\u001b[0m \u001b[0mcallbacks\u001b[0m\u001b[1;33m=\u001b[0m\u001b[0mcallbacks\u001b[0m\u001b[1;33m,\u001b[0m\u001b[1;33m\u001b[0m\u001b[1;33m\u001b[0m\u001b[0m\n\u001b[0;32m    489\u001b[0m         \u001b[0mmax_queue_size\u001b[0m\u001b[1;33m=\u001b[0m\u001b[0mmax_queue_size\u001b[0m\u001b[1;33m,\u001b[0m \u001b[0mworkers\u001b[0m\u001b[1;33m=\u001b[0m\u001b[0mworkers\u001b[0m\u001b[1;33m,\u001b[0m\u001b[1;33m\u001b[0m\u001b[1;33m\u001b[0m\u001b[0m\n\u001b[1;32m--> 490\u001b[1;33m         use_multiprocessing=use_multiprocessing, **kwargs)\n\u001b[0m\u001b[0;32m    491\u001b[0m \u001b[1;33m\u001b[0m\u001b[0m\n\u001b[0;32m    492\u001b[0m   def predict(self, model, x, batch_size=None, verbose=0, steps=None,\n",
      "\u001b[1;32mD:\\anaconda3\\envs\\PythonGPU\\lib\\site-packages\\tensorflow_core\\python\\keras\\engine\\training_v2.py\u001b[0m in \u001b[0;36m_model_iteration\u001b[1;34m(self, model, mode, x, y, batch_size, verbose, sample_weight, steps, callbacks, max_queue_size, workers, use_multiprocessing, **kwargs)\u001b[0m\n\u001b[0;32m    473\u001b[0m               \u001b[0mmode\u001b[0m\u001b[1;33m=\u001b[0m\u001b[0mmode\u001b[0m\u001b[1;33m,\u001b[0m\u001b[1;33m\u001b[0m\u001b[1;33m\u001b[0m\u001b[0m\n\u001b[0;32m    474\u001b[0m               \u001b[0mtraining_context\u001b[0m\u001b[1;33m=\u001b[0m\u001b[0mtraining_context\u001b[0m\u001b[1;33m,\u001b[0m\u001b[1;33m\u001b[0m\u001b[1;33m\u001b[0m\u001b[0m\n\u001b[1;32m--> 475\u001b[1;33m               total_epochs=1)\n\u001b[0m\u001b[0;32m    476\u001b[0m           \u001b[0mcbks\u001b[0m\u001b[1;33m.\u001b[0m\u001b[0mmake_logs\u001b[0m\u001b[1;33m(\u001b[0m\u001b[0mmodel\u001b[0m\u001b[1;33m,\u001b[0m \u001b[0mepoch_logs\u001b[0m\u001b[1;33m,\u001b[0m \u001b[0mresult\u001b[0m\u001b[1;33m,\u001b[0m \u001b[0mmode\u001b[0m\u001b[1;33m)\u001b[0m\u001b[1;33m\u001b[0m\u001b[1;33m\u001b[0m\u001b[0m\n\u001b[0;32m    477\u001b[0m \u001b[1;33m\u001b[0m\u001b[0m\n",
      "\u001b[1;32mD:\\anaconda3\\envs\\PythonGPU\\lib\\site-packages\\tensorflow_core\\python\\keras\\engine\\training_v2.py\u001b[0m in \u001b[0;36mrun_one_epoch\u001b[1;34m(model, iterator, execution_function, dataset_size, batch_size, strategy, steps_per_epoch, num_samples, mode, training_context, total_epochs)\u001b[0m\n\u001b[0;32m    126\u001b[0m         step=step, mode=mode, size=current_batch_size) as batch_logs:\n\u001b[0;32m    127\u001b[0m       \u001b[1;32mtry\u001b[0m\u001b[1;33m:\u001b[0m\u001b[1;33m\u001b[0m\u001b[1;33m\u001b[0m\u001b[0m\n\u001b[1;32m--> 128\u001b[1;33m         \u001b[0mbatch_outs\u001b[0m \u001b[1;33m=\u001b[0m \u001b[0mexecution_function\u001b[0m\u001b[1;33m(\u001b[0m\u001b[0miterator\u001b[0m\u001b[1;33m)\u001b[0m\u001b[1;33m\u001b[0m\u001b[1;33m\u001b[0m\u001b[0m\n\u001b[0m\u001b[0;32m    129\u001b[0m       \u001b[1;32mexcept\u001b[0m \u001b[1;33m(\u001b[0m\u001b[0mStopIteration\u001b[0m\u001b[1;33m,\u001b[0m \u001b[0merrors\u001b[0m\u001b[1;33m.\u001b[0m\u001b[0mOutOfRangeError\u001b[0m\u001b[1;33m)\u001b[0m\u001b[1;33m:\u001b[0m\u001b[1;33m\u001b[0m\u001b[1;33m\u001b[0m\u001b[0m\n\u001b[0;32m    130\u001b[0m         \u001b[1;31m# TODO(kaftan): File bug about tf function and errors.OutOfRangeError?\u001b[0m\u001b[1;33m\u001b[0m\u001b[1;33m\u001b[0m\u001b[1;33m\u001b[0m\u001b[0m\n",
      "\u001b[1;32mD:\\anaconda3\\envs\\PythonGPU\\lib\\site-packages\\tensorflow_core\\python\\keras\\engine\\training_v2_utils.py\u001b[0m in \u001b[0;36mexecution_function\u001b[1;34m(input_fn)\u001b[0m\n\u001b[0;32m     96\u001b[0m     \u001b[1;31m# `numpy` translates Tensors to values in Eager mode.\u001b[0m\u001b[1;33m\u001b[0m\u001b[1;33m\u001b[0m\u001b[1;33m\u001b[0m\u001b[0m\n\u001b[0;32m     97\u001b[0m     return nest.map_structure(_non_none_constant_value,\n\u001b[1;32m---> 98\u001b[1;33m                               distributed_function(input_fn))\n\u001b[0m\u001b[0;32m     99\u001b[0m \u001b[1;33m\u001b[0m\u001b[0m\n\u001b[0;32m    100\u001b[0m   \u001b[1;32mreturn\u001b[0m \u001b[0mexecution_function\u001b[0m\u001b[1;33m\u001b[0m\u001b[1;33m\u001b[0m\u001b[0m\n",
      "\u001b[1;32mD:\\anaconda3\\envs\\PythonGPU\\lib\\site-packages\\tensorflow_core\\python\\eager\\def_function.py\u001b[0m in \u001b[0;36m__call__\u001b[1;34m(self, *args, **kwds)\u001b[0m\n\u001b[0;32m    566\u001b[0m         \u001b[0mxla_context\u001b[0m\u001b[1;33m.\u001b[0m\u001b[0mExit\u001b[0m\u001b[1;33m(\u001b[0m\u001b[1;33m)\u001b[0m\u001b[1;33m\u001b[0m\u001b[1;33m\u001b[0m\u001b[0m\n\u001b[0;32m    567\u001b[0m     \u001b[1;32melse\u001b[0m\u001b[1;33m:\u001b[0m\u001b[1;33m\u001b[0m\u001b[1;33m\u001b[0m\u001b[0m\n\u001b[1;32m--> 568\u001b[1;33m       \u001b[0mresult\u001b[0m \u001b[1;33m=\u001b[0m \u001b[0mself\u001b[0m\u001b[1;33m.\u001b[0m\u001b[0m_call\u001b[0m\u001b[1;33m(\u001b[0m\u001b[1;33m*\u001b[0m\u001b[0margs\u001b[0m\u001b[1;33m,\u001b[0m \u001b[1;33m**\u001b[0m\u001b[0mkwds\u001b[0m\u001b[1;33m)\u001b[0m\u001b[1;33m\u001b[0m\u001b[1;33m\u001b[0m\u001b[0m\n\u001b[0m\u001b[0;32m    569\u001b[0m \u001b[1;33m\u001b[0m\u001b[0m\n\u001b[0;32m    570\u001b[0m     \u001b[1;32mif\u001b[0m \u001b[0mtracing_count\u001b[0m \u001b[1;33m==\u001b[0m \u001b[0mself\u001b[0m\u001b[1;33m.\u001b[0m\u001b[0m_get_tracing_count\u001b[0m\u001b[1;33m(\u001b[0m\u001b[1;33m)\u001b[0m\u001b[1;33m:\u001b[0m\u001b[1;33m\u001b[0m\u001b[1;33m\u001b[0m\u001b[0m\n",
      "\u001b[1;32mD:\\anaconda3\\envs\\PythonGPU\\lib\\site-packages\\tensorflow_core\\python\\eager\\def_function.py\u001b[0m in \u001b[0;36m_call\u001b[1;34m(self, *args, **kwds)\u001b[0m\n\u001b[0;32m    604\u001b[0m       \u001b[1;31m# In this case we have not created variables on the first call. So we can\u001b[0m\u001b[1;33m\u001b[0m\u001b[1;33m\u001b[0m\u001b[1;33m\u001b[0m\u001b[0m\n\u001b[0;32m    605\u001b[0m       \u001b[1;31m# run the first trace but we should fail if variables are created.\u001b[0m\u001b[1;33m\u001b[0m\u001b[1;33m\u001b[0m\u001b[1;33m\u001b[0m\u001b[0m\n\u001b[1;32m--> 606\u001b[1;33m       \u001b[0mresults\u001b[0m \u001b[1;33m=\u001b[0m \u001b[0mself\u001b[0m\u001b[1;33m.\u001b[0m\u001b[0m_stateful_fn\u001b[0m\u001b[1;33m(\u001b[0m\u001b[1;33m*\u001b[0m\u001b[0margs\u001b[0m\u001b[1;33m,\u001b[0m \u001b[1;33m**\u001b[0m\u001b[0mkwds\u001b[0m\u001b[1;33m)\u001b[0m\u001b[1;33m\u001b[0m\u001b[1;33m\u001b[0m\u001b[0m\n\u001b[0m\u001b[0;32m    607\u001b[0m       \u001b[1;32mif\u001b[0m \u001b[0mself\u001b[0m\u001b[1;33m.\u001b[0m\u001b[0m_created_variables\u001b[0m\u001b[1;33m:\u001b[0m\u001b[1;33m\u001b[0m\u001b[1;33m\u001b[0m\u001b[0m\n\u001b[0;32m    608\u001b[0m         raise ValueError(\"Creating variables on a non-first call to a function\"\n",
      "\u001b[1;32mD:\\anaconda3\\envs\\PythonGPU\\lib\\site-packages\\tensorflow_core\\python\\eager\\function.py\u001b[0m in \u001b[0;36m__call__\u001b[1;34m(self, *args, **kwargs)\u001b[0m\n\u001b[0;32m   2360\u001b[0m     \u001b[1;34m\"\"\"Calls a graph function specialized to the inputs.\"\"\"\u001b[0m\u001b[1;33m\u001b[0m\u001b[1;33m\u001b[0m\u001b[0m\n\u001b[0;32m   2361\u001b[0m     \u001b[1;32mwith\u001b[0m \u001b[0mself\u001b[0m\u001b[1;33m.\u001b[0m\u001b[0m_lock\u001b[0m\u001b[1;33m:\u001b[0m\u001b[1;33m\u001b[0m\u001b[1;33m\u001b[0m\u001b[0m\n\u001b[1;32m-> 2362\u001b[1;33m       \u001b[0mgraph_function\u001b[0m\u001b[1;33m,\u001b[0m \u001b[0margs\u001b[0m\u001b[1;33m,\u001b[0m \u001b[0mkwargs\u001b[0m \u001b[1;33m=\u001b[0m \u001b[0mself\u001b[0m\u001b[1;33m.\u001b[0m\u001b[0m_maybe_define_function\u001b[0m\u001b[1;33m(\u001b[0m\u001b[0margs\u001b[0m\u001b[1;33m,\u001b[0m \u001b[0mkwargs\u001b[0m\u001b[1;33m)\u001b[0m\u001b[1;33m\u001b[0m\u001b[1;33m\u001b[0m\u001b[0m\n\u001b[0m\u001b[0;32m   2363\u001b[0m     \u001b[1;32mreturn\u001b[0m \u001b[0mgraph_function\u001b[0m\u001b[1;33m.\u001b[0m\u001b[0m_filtered_call\u001b[0m\u001b[1;33m(\u001b[0m\u001b[0margs\u001b[0m\u001b[1;33m,\u001b[0m \u001b[0mkwargs\u001b[0m\u001b[1;33m)\u001b[0m  \u001b[1;31m# pylint: disable=protected-access\u001b[0m\u001b[1;33m\u001b[0m\u001b[1;33m\u001b[0m\u001b[0m\n\u001b[0;32m   2364\u001b[0m \u001b[1;33m\u001b[0m\u001b[0m\n",
      "\u001b[1;32mD:\\anaconda3\\envs\\PythonGPU\\lib\\site-packages\\tensorflow_core\\python\\eager\\function.py\u001b[0m in \u001b[0;36m_maybe_define_function\u001b[1;34m(self, args, kwargs)\u001b[0m\n\u001b[0;32m   2701\u001b[0m \u001b[1;33m\u001b[0m\u001b[0m\n\u001b[0;32m   2702\u001b[0m       \u001b[0mself\u001b[0m\u001b[1;33m.\u001b[0m\u001b[0m_function_cache\u001b[0m\u001b[1;33m.\u001b[0m\u001b[0mmissed\u001b[0m\u001b[1;33m.\u001b[0m\u001b[0madd\u001b[0m\u001b[1;33m(\u001b[0m\u001b[0mcall_context_key\u001b[0m\u001b[1;33m)\u001b[0m\u001b[1;33m\u001b[0m\u001b[1;33m\u001b[0m\u001b[0m\n\u001b[1;32m-> 2703\u001b[1;33m       \u001b[0mgraph_function\u001b[0m \u001b[1;33m=\u001b[0m \u001b[0mself\u001b[0m\u001b[1;33m.\u001b[0m\u001b[0m_create_graph_function\u001b[0m\u001b[1;33m(\u001b[0m\u001b[0margs\u001b[0m\u001b[1;33m,\u001b[0m \u001b[0mkwargs\u001b[0m\u001b[1;33m)\u001b[0m\u001b[1;33m\u001b[0m\u001b[1;33m\u001b[0m\u001b[0m\n\u001b[0m\u001b[0;32m   2704\u001b[0m       \u001b[0mself\u001b[0m\u001b[1;33m.\u001b[0m\u001b[0m_function_cache\u001b[0m\u001b[1;33m.\u001b[0m\u001b[0mprimary\u001b[0m\u001b[1;33m[\u001b[0m\u001b[0mcache_key\u001b[0m\u001b[1;33m]\u001b[0m \u001b[1;33m=\u001b[0m \u001b[0mgraph_function\u001b[0m\u001b[1;33m\u001b[0m\u001b[1;33m\u001b[0m\u001b[0m\n\u001b[0;32m   2705\u001b[0m       \u001b[1;32mreturn\u001b[0m \u001b[0mgraph_function\u001b[0m\u001b[1;33m,\u001b[0m \u001b[0margs\u001b[0m\u001b[1;33m,\u001b[0m \u001b[0mkwargs\u001b[0m\u001b[1;33m\u001b[0m\u001b[1;33m\u001b[0m\u001b[0m\n",
      "\u001b[1;32mD:\\anaconda3\\envs\\PythonGPU\\lib\\site-packages\\tensorflow_core\\python\\eager\\function.py\u001b[0m in \u001b[0;36m_create_graph_function\u001b[1;34m(self, args, kwargs, override_flat_arg_shapes)\u001b[0m\n\u001b[0;32m   2591\u001b[0m             \u001b[0marg_names\u001b[0m\u001b[1;33m=\u001b[0m\u001b[0marg_names\u001b[0m\u001b[1;33m,\u001b[0m\u001b[1;33m\u001b[0m\u001b[1;33m\u001b[0m\u001b[0m\n\u001b[0;32m   2592\u001b[0m             \u001b[0moverride_flat_arg_shapes\u001b[0m\u001b[1;33m=\u001b[0m\u001b[0moverride_flat_arg_shapes\u001b[0m\u001b[1;33m,\u001b[0m\u001b[1;33m\u001b[0m\u001b[1;33m\u001b[0m\u001b[0m\n\u001b[1;32m-> 2593\u001b[1;33m             capture_by_value=self._capture_by_value),\n\u001b[0m\u001b[0;32m   2594\u001b[0m         \u001b[0mself\u001b[0m\u001b[1;33m.\u001b[0m\u001b[0m_function_attributes\u001b[0m\u001b[1;33m,\u001b[0m\u001b[1;33m\u001b[0m\u001b[1;33m\u001b[0m\u001b[0m\n\u001b[0;32m   2595\u001b[0m         \u001b[1;31m# Tell the ConcreteFunction to clean up its graph once it goes out of\u001b[0m\u001b[1;33m\u001b[0m\u001b[1;33m\u001b[0m\u001b[1;33m\u001b[0m\u001b[0m\n",
      "\u001b[1;32mD:\\anaconda3\\envs\\PythonGPU\\lib\\site-packages\\tensorflow_core\\python\\framework\\func_graph.py\u001b[0m in \u001b[0;36mfunc_graph_from_py_func\u001b[1;34m(name, python_func, args, kwargs, signature, func_graph, autograph, autograph_options, add_control_dependencies, arg_names, op_return_value, collections, capture_by_value, override_flat_arg_shapes)\u001b[0m\n\u001b[0;32m    976\u001b[0m                                           converted_func)\n\u001b[0;32m    977\u001b[0m \u001b[1;33m\u001b[0m\u001b[0m\n\u001b[1;32m--> 978\u001b[1;33m       \u001b[0mfunc_outputs\u001b[0m \u001b[1;33m=\u001b[0m \u001b[0mpython_func\u001b[0m\u001b[1;33m(\u001b[0m\u001b[1;33m*\u001b[0m\u001b[0mfunc_args\u001b[0m\u001b[1;33m,\u001b[0m \u001b[1;33m**\u001b[0m\u001b[0mfunc_kwargs\u001b[0m\u001b[1;33m)\u001b[0m\u001b[1;33m\u001b[0m\u001b[1;33m\u001b[0m\u001b[0m\n\u001b[0m\u001b[0;32m    979\u001b[0m \u001b[1;33m\u001b[0m\u001b[0m\n\u001b[0;32m    980\u001b[0m       \u001b[1;31m# invariant: `func_outputs` contains only Tensors, CompositeTensors,\u001b[0m\u001b[1;33m\u001b[0m\u001b[1;33m\u001b[0m\u001b[1;33m\u001b[0m\u001b[0m\n",
      "\u001b[1;32mD:\\anaconda3\\envs\\PythonGPU\\lib\\site-packages\\tensorflow_core\\python\\eager\\def_function.py\u001b[0m in \u001b[0;36mwrapped_fn\u001b[1;34m(*args, **kwds)\u001b[0m\n\u001b[0;32m    437\u001b[0m         \u001b[1;31m# __wrapped__ allows AutoGraph to swap in a converted function. We give\u001b[0m\u001b[1;33m\u001b[0m\u001b[1;33m\u001b[0m\u001b[1;33m\u001b[0m\u001b[0m\n\u001b[0;32m    438\u001b[0m         \u001b[1;31m# the function a weak reference to itself to avoid a reference cycle.\u001b[0m\u001b[1;33m\u001b[0m\u001b[1;33m\u001b[0m\u001b[1;33m\u001b[0m\u001b[0m\n\u001b[1;32m--> 439\u001b[1;33m         \u001b[1;32mreturn\u001b[0m \u001b[0mweak_wrapped_fn\u001b[0m\u001b[1;33m(\u001b[0m\u001b[1;33m)\u001b[0m\u001b[1;33m.\u001b[0m\u001b[0m__wrapped__\u001b[0m\u001b[1;33m(\u001b[0m\u001b[1;33m*\u001b[0m\u001b[0margs\u001b[0m\u001b[1;33m,\u001b[0m \u001b[1;33m**\u001b[0m\u001b[0mkwds\u001b[0m\u001b[1;33m)\u001b[0m\u001b[1;33m\u001b[0m\u001b[1;33m\u001b[0m\u001b[0m\n\u001b[0m\u001b[0;32m    440\u001b[0m     \u001b[0mweak_wrapped_fn\u001b[0m \u001b[1;33m=\u001b[0m \u001b[0mweakref\u001b[0m\u001b[1;33m.\u001b[0m\u001b[0mref\u001b[0m\u001b[1;33m(\u001b[0m\u001b[0mwrapped_fn\u001b[0m\u001b[1;33m)\u001b[0m\u001b[1;33m\u001b[0m\u001b[1;33m\u001b[0m\u001b[0m\n\u001b[0;32m    441\u001b[0m \u001b[1;33m\u001b[0m\u001b[0m\n",
      "\u001b[1;32mD:\\anaconda3\\envs\\PythonGPU\\lib\\site-packages\\tensorflow_core\\python\\keras\\engine\\training_v2_utils.py\u001b[0m in \u001b[0;36mdistributed_function\u001b[1;34m(input_iterator)\u001b[0m\n\u001b[0;32m     83\u001b[0m     \u001b[0margs\u001b[0m \u001b[1;33m=\u001b[0m \u001b[0m_prepare_feed_values\u001b[0m\u001b[1;33m(\u001b[0m\u001b[0mmodel\u001b[0m\u001b[1;33m,\u001b[0m \u001b[0minput_iterator\u001b[0m\u001b[1;33m,\u001b[0m \u001b[0mmode\u001b[0m\u001b[1;33m,\u001b[0m \u001b[0mstrategy\u001b[0m\u001b[1;33m)\u001b[0m\u001b[1;33m\u001b[0m\u001b[1;33m\u001b[0m\u001b[0m\n\u001b[0;32m     84\u001b[0m     outputs = strategy.experimental_run_v2(\n\u001b[1;32m---> 85\u001b[1;33m         per_replica_function, args=args)\n\u001b[0m\u001b[0;32m     86\u001b[0m     \u001b[1;31m# Out of PerReplica outputs reduce or pick values to return.\u001b[0m\u001b[1;33m\u001b[0m\u001b[1;33m\u001b[0m\u001b[1;33m\u001b[0m\u001b[0m\n\u001b[0;32m     87\u001b[0m     all_outputs = dist_utils.unwrap_output_dict(\n",
      "\u001b[1;32mD:\\anaconda3\\envs\\PythonGPU\\lib\\site-packages\\tensorflow_core\\python\\distribute\\distribute_lib.py\u001b[0m in \u001b[0;36mexperimental_run_v2\u001b[1;34m(self, fn, args, kwargs)\u001b[0m\n\u001b[0;32m    761\u001b[0m       fn = autograph.tf_convert(fn, ag_ctx.control_status_ctx(),\n\u001b[0;32m    762\u001b[0m                                 convert_by_default=False)\n\u001b[1;32m--> 763\u001b[1;33m       \u001b[1;32mreturn\u001b[0m \u001b[0mself\u001b[0m\u001b[1;33m.\u001b[0m\u001b[0m_extended\u001b[0m\u001b[1;33m.\u001b[0m\u001b[0mcall_for_each_replica\u001b[0m\u001b[1;33m(\u001b[0m\u001b[0mfn\u001b[0m\u001b[1;33m,\u001b[0m \u001b[0margs\u001b[0m\u001b[1;33m=\u001b[0m\u001b[0margs\u001b[0m\u001b[1;33m,\u001b[0m \u001b[0mkwargs\u001b[0m\u001b[1;33m=\u001b[0m\u001b[0mkwargs\u001b[0m\u001b[1;33m)\u001b[0m\u001b[1;33m\u001b[0m\u001b[1;33m\u001b[0m\u001b[0m\n\u001b[0m\u001b[0;32m    764\u001b[0m \u001b[1;33m\u001b[0m\u001b[0m\n\u001b[0;32m    765\u001b[0m   \u001b[1;32mdef\u001b[0m \u001b[0mreduce\u001b[0m\u001b[1;33m(\u001b[0m\u001b[0mself\u001b[0m\u001b[1;33m,\u001b[0m \u001b[0mreduce_op\u001b[0m\u001b[1;33m,\u001b[0m \u001b[0mvalue\u001b[0m\u001b[1;33m,\u001b[0m \u001b[0maxis\u001b[0m\u001b[1;33m)\u001b[0m\u001b[1;33m:\u001b[0m\u001b[1;33m\u001b[0m\u001b[1;33m\u001b[0m\u001b[0m\n",
      "\u001b[1;32mD:\\anaconda3\\envs\\PythonGPU\\lib\\site-packages\\tensorflow_core\\python\\distribute\\distribute_lib.py\u001b[0m in \u001b[0;36mcall_for_each_replica\u001b[1;34m(self, fn, args, kwargs)\u001b[0m\n\u001b[0;32m   1817\u001b[0m       \u001b[0mkwargs\u001b[0m \u001b[1;33m=\u001b[0m \u001b[1;33m{\u001b[0m\u001b[1;33m}\u001b[0m\u001b[1;33m\u001b[0m\u001b[1;33m\u001b[0m\u001b[0m\n\u001b[0;32m   1818\u001b[0m     \u001b[1;32mwith\u001b[0m \u001b[0mself\u001b[0m\u001b[1;33m.\u001b[0m\u001b[0m_container_strategy\u001b[0m\u001b[1;33m(\u001b[0m\u001b[1;33m)\u001b[0m\u001b[1;33m.\u001b[0m\u001b[0mscope\u001b[0m\u001b[1;33m(\u001b[0m\u001b[1;33m)\u001b[0m\u001b[1;33m:\u001b[0m\u001b[1;33m\u001b[0m\u001b[1;33m\u001b[0m\u001b[0m\n\u001b[1;32m-> 1819\u001b[1;33m       \u001b[1;32mreturn\u001b[0m \u001b[0mself\u001b[0m\u001b[1;33m.\u001b[0m\u001b[0m_call_for_each_replica\u001b[0m\u001b[1;33m(\u001b[0m\u001b[0mfn\u001b[0m\u001b[1;33m,\u001b[0m \u001b[0margs\u001b[0m\u001b[1;33m,\u001b[0m \u001b[0mkwargs\u001b[0m\u001b[1;33m)\u001b[0m\u001b[1;33m\u001b[0m\u001b[1;33m\u001b[0m\u001b[0m\n\u001b[0m\u001b[0;32m   1820\u001b[0m \u001b[1;33m\u001b[0m\u001b[0m\n\u001b[0;32m   1821\u001b[0m   \u001b[1;32mdef\u001b[0m \u001b[0m_call_for_each_replica\u001b[0m\u001b[1;33m(\u001b[0m\u001b[0mself\u001b[0m\u001b[1;33m,\u001b[0m \u001b[0mfn\u001b[0m\u001b[1;33m,\u001b[0m \u001b[0margs\u001b[0m\u001b[1;33m,\u001b[0m \u001b[0mkwargs\u001b[0m\u001b[1;33m)\u001b[0m\u001b[1;33m:\u001b[0m\u001b[1;33m\u001b[0m\u001b[1;33m\u001b[0m\u001b[0m\n",
      "\u001b[1;32mD:\\anaconda3\\envs\\PythonGPU\\lib\\site-packages\\tensorflow_core\\python\\distribute\\distribute_lib.py\u001b[0m in \u001b[0;36m_call_for_each_replica\u001b[1;34m(self, fn, args, kwargs)\u001b[0m\n\u001b[0;32m   2162\u001b[0m         \u001b[0mself\u001b[0m\u001b[1;33m.\u001b[0m\u001b[0m_container_strategy\u001b[0m\u001b[1;33m(\u001b[0m\u001b[1;33m)\u001b[0m\u001b[1;33m,\u001b[0m\u001b[1;33m\u001b[0m\u001b[1;33m\u001b[0m\u001b[0m\n\u001b[0;32m   2163\u001b[0m         replica_id_in_sync_group=constant_op.constant(0, dtypes.int32)):\n\u001b[1;32m-> 2164\u001b[1;33m       \u001b[1;32mreturn\u001b[0m \u001b[0mfn\u001b[0m\u001b[1;33m(\u001b[0m\u001b[1;33m*\u001b[0m\u001b[0margs\u001b[0m\u001b[1;33m,\u001b[0m \u001b[1;33m**\u001b[0m\u001b[0mkwargs\u001b[0m\u001b[1;33m)\u001b[0m\u001b[1;33m\u001b[0m\u001b[1;33m\u001b[0m\u001b[0m\n\u001b[0m\u001b[0;32m   2165\u001b[0m \u001b[1;33m\u001b[0m\u001b[0m\n\u001b[0;32m   2166\u001b[0m   \u001b[1;32mdef\u001b[0m \u001b[0m_reduce_to\u001b[0m\u001b[1;33m(\u001b[0m\u001b[0mself\u001b[0m\u001b[1;33m,\u001b[0m \u001b[0mreduce_op\u001b[0m\u001b[1;33m,\u001b[0m \u001b[0mvalue\u001b[0m\u001b[1;33m,\u001b[0m \u001b[0mdestinations\u001b[0m\u001b[1;33m)\u001b[0m\u001b[1;33m:\u001b[0m\u001b[1;33m\u001b[0m\u001b[1;33m\u001b[0m\u001b[0m\n",
      "\u001b[1;32mD:\\anaconda3\\envs\\PythonGPU\\lib\\site-packages\\tensorflow_core\\python\\autograph\\impl\\api.py\u001b[0m in \u001b[0;36mwrapper\u001b[1;34m(*args, **kwargs)\u001b[0m\n\u001b[0;32m    290\u001b[0m   \u001b[1;32mdef\u001b[0m \u001b[0mwrapper\u001b[0m\u001b[1;33m(\u001b[0m\u001b[1;33m*\u001b[0m\u001b[0margs\u001b[0m\u001b[1;33m,\u001b[0m \u001b[1;33m**\u001b[0m\u001b[0mkwargs\u001b[0m\u001b[1;33m)\u001b[0m\u001b[1;33m:\u001b[0m\u001b[1;33m\u001b[0m\u001b[1;33m\u001b[0m\u001b[0m\n\u001b[0;32m    291\u001b[0m     \u001b[1;32mwith\u001b[0m \u001b[0mag_ctx\u001b[0m\u001b[1;33m.\u001b[0m\u001b[0mControlStatusCtx\u001b[0m\u001b[1;33m(\u001b[0m\u001b[0mstatus\u001b[0m\u001b[1;33m=\u001b[0m\u001b[0mag_ctx\u001b[0m\u001b[1;33m.\u001b[0m\u001b[0mStatus\u001b[0m\u001b[1;33m.\u001b[0m\u001b[0mDISABLED\u001b[0m\u001b[1;33m)\u001b[0m\u001b[1;33m:\u001b[0m\u001b[1;33m\u001b[0m\u001b[1;33m\u001b[0m\u001b[0m\n\u001b[1;32m--> 292\u001b[1;33m       \u001b[1;32mreturn\u001b[0m \u001b[0mfunc\u001b[0m\u001b[1;33m(\u001b[0m\u001b[1;33m*\u001b[0m\u001b[0margs\u001b[0m\u001b[1;33m,\u001b[0m \u001b[1;33m**\u001b[0m\u001b[0mkwargs\u001b[0m\u001b[1;33m)\u001b[0m\u001b[1;33m\u001b[0m\u001b[1;33m\u001b[0m\u001b[0m\n\u001b[0m\u001b[0;32m    293\u001b[0m \u001b[1;33m\u001b[0m\u001b[0m\n\u001b[0;32m    294\u001b[0m   \u001b[1;32mif\u001b[0m \u001b[0minspect\u001b[0m\u001b[1;33m.\u001b[0m\u001b[0misfunction\u001b[0m\u001b[1;33m(\u001b[0m\u001b[0mfunc\u001b[0m\u001b[1;33m)\u001b[0m \u001b[1;32mor\u001b[0m \u001b[0minspect\u001b[0m\u001b[1;33m.\u001b[0m\u001b[0mismethod\u001b[0m\u001b[1;33m(\u001b[0m\u001b[0mfunc\u001b[0m\u001b[1;33m)\u001b[0m\u001b[1;33m:\u001b[0m\u001b[1;33m\u001b[0m\u001b[1;33m\u001b[0m\u001b[0m\n",
      "\u001b[1;32mD:\\anaconda3\\envs\\PythonGPU\\lib\\site-packages\\tensorflow_core\\python\\keras\\engine\\training_v2_utils.py\u001b[0m in \u001b[0;36mtest_on_batch\u001b[1;34m(model, x, y, sample_weight, reset_metrics, standalone)\u001b[0m\n\u001b[0;32m    489\u001b[0m   \u001b[1;31m# Validate and standardize user data.\u001b[0m\u001b[1;33m\u001b[0m\u001b[1;33m\u001b[0m\u001b[1;33m\u001b[0m\u001b[0m\n\u001b[0;32m    490\u001b[0m   x, y, sample_weights = model._standardize_user_data(\n\u001b[1;32m--> 491\u001b[1;33m       x, y, sample_weight=sample_weight, extract_tensors_from_dataset=True)\n\u001b[0m\u001b[0;32m    492\u001b[0m \u001b[1;33m\u001b[0m\u001b[0m\n\u001b[0;32m    493\u001b[0m   \u001b[0mbatch_size\u001b[0m \u001b[1;33m=\u001b[0m \u001b[0marray_ops\u001b[0m\u001b[1;33m.\u001b[0m\u001b[0mshape\u001b[0m\u001b[1;33m(\u001b[0m\u001b[0mnest\u001b[0m\u001b[1;33m.\u001b[0m\u001b[0mflatten\u001b[0m\u001b[1;33m(\u001b[0m\u001b[0mx\u001b[0m\u001b[1;33m,\u001b[0m \u001b[0mexpand_composites\u001b[0m\u001b[1;33m=\u001b[0m\u001b[1;32mTrue\u001b[0m\u001b[1;33m)\u001b[0m\u001b[1;33m[\u001b[0m\u001b[1;36m0\u001b[0m\u001b[1;33m]\u001b[0m\u001b[1;33m)\u001b[0m\u001b[1;33m[\u001b[0m\u001b[1;36m0\u001b[0m\u001b[1;33m]\u001b[0m\u001b[1;33m\u001b[0m\u001b[1;33m\u001b[0m\u001b[0m\n",
      "\u001b[1;32mD:\\anaconda3\\envs\\PythonGPU\\lib\\site-packages\\tensorflow_core\\python\\keras\\engine\\training.py\u001b[0m in \u001b[0;36m_standardize_user_data\u001b[1;34m(self, x, y, sample_weight, class_weight, batch_size, check_steps, steps_name, steps, validation_split, shuffle, extract_tensors_from_dataset)\u001b[0m\n\u001b[0;32m   2381\u001b[0m         \u001b[0mis_dataset\u001b[0m\u001b[1;33m=\u001b[0m\u001b[0mis_dataset\u001b[0m\u001b[1;33m,\u001b[0m\u001b[1;33m\u001b[0m\u001b[1;33m\u001b[0m\u001b[0m\n\u001b[0;32m   2382\u001b[0m         \u001b[0mclass_weight\u001b[0m\u001b[1;33m=\u001b[0m\u001b[0mclass_weight\u001b[0m\u001b[1;33m,\u001b[0m\u001b[1;33m\u001b[0m\u001b[1;33m\u001b[0m\u001b[0m\n\u001b[1;32m-> 2383\u001b[1;33m         batch_size=batch_size)\n\u001b[0m\u001b[0;32m   2384\u001b[0m \u001b[1;33m\u001b[0m\u001b[0m\n\u001b[0;32m   2385\u001b[0m   def _standardize_tensors(self, x, y, sample_weight, run_eagerly, dict_inputs,\n",
      "\u001b[1;32mD:\\anaconda3\\envs\\PythonGPU\\lib\\site-packages\\tensorflow_core\\python\\keras\\engine\\training.py\u001b[0m in \u001b[0;36m_standardize_tensors\u001b[1;34m(self, x, y, sample_weight, run_eagerly, dict_inputs, is_dataset, class_weight, batch_size)\u001b[0m\n\u001b[0;32m   2467\u001b[0m           \u001b[0mshapes\u001b[0m\u001b[1;33m=\u001b[0m\u001b[1;32mNone\u001b[0m\u001b[1;33m,\u001b[0m\u001b[1;33m\u001b[0m\u001b[1;33m\u001b[0m\u001b[0m\n\u001b[0;32m   2468\u001b[0m           \u001b[0mcheck_batch_axis\u001b[0m\u001b[1;33m=\u001b[0m\u001b[1;32mFalse\u001b[0m\u001b[1;33m,\u001b[0m  \u001b[1;31m# Don't enforce the batch size.\u001b[0m\u001b[1;33m\u001b[0m\u001b[1;33m\u001b[0m\u001b[0m\n\u001b[1;32m-> 2469\u001b[1;33m           exception_prefix='target')\n\u001b[0m\u001b[0;32m   2470\u001b[0m \u001b[1;33m\u001b[0m\u001b[0m\n\u001b[0;32m   2471\u001b[0m       \u001b[1;31m# Generate sample-wise weight values given the `sample_weight` and\u001b[0m\u001b[1;33m\u001b[0m\u001b[1;33m\u001b[0m\u001b[1;33m\u001b[0m\u001b[0m\n",
      "\u001b[1;32mD:\\anaconda3\\envs\\PythonGPU\\lib\\site-packages\\tensorflow_core\\python\\keras\\engine\\training_utils.py\u001b[0m in \u001b[0;36mstandardize_input_data\u001b[1;34m(data, names, shapes, check_batch_axis, exception_prefix)\u001b[0m\n\u001b[0;32m    510\u001b[0m                        'for each key in: ' + str(names))\n\u001b[0;32m    511\u001b[0m   \u001b[1;32melif\u001b[0m \u001b[0misinstance\u001b[0m\u001b[1;33m(\u001b[0m\u001b[0mdata\u001b[0m\u001b[1;33m,\u001b[0m \u001b[1;33m(\u001b[0m\u001b[0mlist\u001b[0m\u001b[1;33m,\u001b[0m \u001b[0mtuple\u001b[0m\u001b[1;33m)\u001b[0m\u001b[1;33m)\u001b[0m\u001b[1;33m:\u001b[0m\u001b[1;33m\u001b[0m\u001b[1;33m\u001b[0m\u001b[0m\n\u001b[1;32m--> 512\u001b[1;33m     \u001b[1;32mif\u001b[0m \u001b[0misinstance\u001b[0m\u001b[1;33m(\u001b[0m\u001b[0mdata\u001b[0m\u001b[1;33m[\u001b[0m\u001b[1;36m0\u001b[0m\u001b[1;33m]\u001b[0m\u001b[1;33m,\u001b[0m \u001b[1;33m(\u001b[0m\u001b[0mlist\u001b[0m\u001b[1;33m,\u001b[0m \u001b[0mtuple\u001b[0m\u001b[1;33m)\u001b[0m\u001b[1;33m)\u001b[0m\u001b[1;33m:\u001b[0m\u001b[1;33m\u001b[0m\u001b[1;33m\u001b[0m\u001b[0m\n\u001b[0m\u001b[0;32m    513\u001b[0m       \u001b[0mdata\u001b[0m \u001b[1;33m=\u001b[0m \u001b[1;33m[\u001b[0m\u001b[0mnp\u001b[0m\u001b[1;33m.\u001b[0m\u001b[0masarray\u001b[0m\u001b[1;33m(\u001b[0m\u001b[0md\u001b[0m\u001b[1;33m)\u001b[0m \u001b[1;32mfor\u001b[0m \u001b[0md\u001b[0m \u001b[1;32min\u001b[0m \u001b[0mdata\u001b[0m\u001b[1;33m]\u001b[0m\u001b[1;33m\u001b[0m\u001b[1;33m\u001b[0m\u001b[0m\n\u001b[0;32m    514\u001b[0m     \u001b[1;32melif\u001b[0m \u001b[0mlen\u001b[0m\u001b[1;33m(\u001b[0m\u001b[0mnames\u001b[0m\u001b[1;33m)\u001b[0m \u001b[1;33m==\u001b[0m \u001b[1;36m1\u001b[0m \u001b[1;32mand\u001b[0m \u001b[0misinstance\u001b[0m\u001b[1;33m(\u001b[0m\u001b[0mdata\u001b[0m\u001b[1;33m[\u001b[0m\u001b[1;36m0\u001b[0m\u001b[1;33m]\u001b[0m\u001b[1;33m,\u001b[0m \u001b[1;33m(\u001b[0m\u001b[0mfloat\u001b[0m\u001b[1;33m,\u001b[0m \u001b[0mint\u001b[0m\u001b[1;33m)\u001b[0m\u001b[1;33m)\u001b[0m\u001b[1;33m:\u001b[0m\u001b[1;33m\u001b[0m\u001b[1;33m\u001b[0m\u001b[0m\n",
      "\u001b[1;31mIndexError\u001b[0m: tuple index out of range"
     ]
    }
   ],
   "source": [
    "#Evaluates the model on testing set\n",
    "#testing_steps=df.shape[0]//batch_size\n",
    "model.evaluate(\n",
    "    predict_test_generator,\n",
    "    steps=3\n",
    ")"
   ]
  },
  {
   "cell_type": "code",
   "execution_count": 12,
   "metadata": {
    "code_folding": [
     0
    ]
   },
   "outputs": [],
   "source": [
    "#Creates generators for training and validation arrays\n",
    "label_names=['x_coord','y_coord','neighbor1x','neighbor1y','neighbor2x','neighbor2y','neighbor3x','neighbor3y']\n",
    "validation_split_frac=0.2\n",
    "batch_size=256\n",
    "def get_input(path):\n",
    "    arr=np.load(path),(32,32,1)\n",
    "    return arr\n",
    "def get_output(path,label_file=None):\n",
    "    img_id = path.split('/')[-1].split('.')[0]\n",
    "    index = np.flatnonzero(dft['filename']==img_id)[0]\n",
    "    labels = label_file[label_names].loc[index].to_numpy()\n",
    "    return labels\n",
    "def training_generator(files,label_file,batch_size=batch_size):\n",
    "\n",
    "    while True:\n",
    "\n",
    "        #Selects file paths for batch\n",
    "        batch_path_ids=np.random.randint(0,df.shape[0]*validation_split_frac,size=batch_size)\n",
    "        batch_paths=[]\n",
    "        for i in batch_path_ids:\n",
    "            batch_paths.append(os.path.join(train_dataset_dir,df['filename'][i]))\n",
    "        batch_input=[]\n",
    "        batch_output=[]\n",
    "\n",
    "        #Read in each input and assign labels\n",
    "        for input_path in batch_paths:\n",
    "            input=get_input(input_path)\n",
    "            output= get_output(input_path,label_file=df)\n",
    "\n",
    "            batch_input += [input]\n",
    "            batch_output += [output]\n",
    "\n",
    "        #Returns a tuple of (input, output) to feed network\n",
    "\n",
    "        batch_x = np.array( batch_output )\n",
    "        batch_y= np.array( batch_output )\n",
    "\n",
    "        yield(batch_x,batch_y)\n",
    "\n",
    "def validation_generator(files,label_file,batch_size=batch_size):\n",
    "\n",
    "    while True:\n",
    "\n",
    "        #Selects file paths for batch\n",
    "        batch_path_ids=np.random.randint(df.shape[0]*validation_split_frac,df.shape[0],size=batch_size)\n",
    "        batch_paths=[]\n",
    "        for i in batch_path_ids:\n",
    "            batch_paths.append(os.path.join(train_dataset_dir,df['filename'][i]))\n",
    "        batch_input=[]\n",
    "        batch_output=[]\n",
    "\n",
    "        #Read in each input and assign labels\n",
    "        for input_path in batch_paths:\n",
    "            input=get_input(input_path)\n",
    "            output= get_output(input_path,label_file=df)\n",
    "\n",
    "            batch_input += [input]\n",
    "            batch_output += [output]\n",
    "\n",
    "        #Returns a tuple of (input, output) to feed network\n",
    "\n",
    "        batch_x = np.array( batch_output )\n",
    "        batch_y= np.array( batch_output )\n",
    "        \n",
    "        yield (batch_x , batch_y )\n",
    "\n"
   ]
  },
  {
   "cell_type": "code",
   "execution_count": 63,
   "metadata": {
    "code_folding": [
     0
    ],
    "tags": []
   },
   "outputs": [
    {
     "name": "stdout",
     "output_type": "stream",
     "text": [
      "Found 0 validated image filenames.\n",
      "Found 0 validated image filenames.\n"
     ]
    }
   ],
   "source": [
    "#Creates generators for training and validation images\n",
    "SEED=5\n",
    "validation_split_frac=0.2\n",
    "batch_size=1\n",
    "train_datagen = ImageDataGenerator(rescale=1./255,validation_split=validation_split_frac)\n",
    "test_datagen = ImageDataGenerator(rescale=1./255)  \n",
    "train_generator= train_datagen.flow_from_dataframe(\n",
    "        df,\n",
    "        directory=train_dataset_dir,\n",
    "        x_col=\"filename\",\n",
    "        y_col=['x_coord','y_coord','neighbor1x','neighbor1y','neighbor2x','neighbor2y','neighbor3x','neighbor3y'],\n",
    "        target_size=(32,32),\n",
    "        shuffle=True,\n",
    "        color_mode='grayscale',\n",
    "        seed= SEED,\n",
    "        class_mode=\"raw\",\n",
    "        batch_size=batch_size,\n",
    "        subset='training')\n",
    "\n",
    "validation_generator= train_datagen.flow_from_dataframe(\n",
    "        df,\n",
    "        directory=train_dataset_dir,\n",
    "        x_col=\"filename\",\n",
    "        y_col=['x_coord','y_coord','neighbor1x','neighbor1y','neighbor2x','neighbor2y','neighbor3x','neighbor3y'],\n",
    "        target_size=(32,32),\n",
    "        shuffle=True,\n",
    "        color_mode='grayscale',\n",
    "        seed= SEED,\n",
    "        class_mode=\"raw\",\n",
    "        batch_size=batch_size,\n",
    "        subset='validation')\n",
    "\n",
    "\n",
    "\n",
    "\n",
    "# test_generator= test_datagen.flow_from_dataframe(\n",
    "#         dft,\n",
    "#         directory=test_dataset_dir,\n",
    "#         x_col=\"filename\",\n",
    "#         y_col=['x_coord','y_coord','neighbor1x','neighbor1y','neighbor2x','neighbor2y','neighbor3x','neighbor3y'],\n",
    "#         target_size=(32,32),\n",
    "#         shuffle=True,\n",
    "#         seed= SEED,\n",
    "#         class_mode=\"raw\",\n",
    "#         batch_size=batch_size)"
   ]
  },
  {
   "cell_type": "code",
   "execution_count": 21,
   "metadata": {
    "tags": []
   },
   "outputs": [
    {
     "name": "stdout",
     "output_type": "stream",
     "text": [
      "257\n"
     ]
    }
   ],
   "source": [
    "# def build_model_hp(hp):\n",
    "#     model = models.Sequential()                                  \n",
    "#     model.add(layers.Conv2D(hp.Int('conv1_units',min_value=32,max_value=128,step=64),(hp.Int('kernel_size',min_value=3,max_value=5,step=1),hp.get('kernel_size')) ,activation='relu', input_shape=(32,32,3)))\n",
    "#     model.add(layers.MaxPooling2D((hp.get('kernel_size')-1,hp.get('kernel_size')-1)))\n",
    "#     model.add(layers.Conv2D(hp.Int('conv2_units',min_value=64,max_value=128,step=64),(hp.get('kernel_size'),hp.get('kernel_size')), activation='relu'))\n",
    "#     model.add(layers.MaxPooling2D((hp.get('kernel_size')-1,hp.get('kernel_size')-1)))\n",
    "#     model.add(layers.Conv2D(hp.Int('conv3_units',min_value=64,max_value=128,step=64),(hp.get('kernel_size'),hp.get('kernel_size')), activation='relu'))\n",
    "#     model.add(layers.MaxPooling2D((hp.get('kernel_size')-1,hp.get('kernel_size')-1)))\n",
    "#     model.add(layers.Dropout(hp.Float('dropout_rate',min_value=0.1,max_value=0.5,step=0.1)))\n",
    "#     model.add(layers.Flatten())\n",
    "#     model.add(layers.Dense(hp.Int('dense1_units',min_value=64,max_value=256,step=64,default=128), activation='relu'))\n",
    "#     model.add(layers.Dense(32, activation='relu'))\n",
    "#     model.add(layers.Dense(8))\n",
    "\n",
    "#     def root_mean_squared_error(y_true, y_pred):\n",
    "#         return K.sqrt(K.mean(K.square(y_pred - y_true)))\n",
    "#     model.compile(optimizer=optimizers.Adam(hp.Choise('learning_rate',values=[1e-2,1e-3,1e-4])), loss=root_mean_squared_error, metrics=['mse','mae'])\n",
    "#     return model\n",
    "\n",
    "def build_model_hp(hp):\n",
    "    model = models.Sequential()                                  \n",
    "    model.add(layers.Conv2D(hp.Int('conv1_units',min_value=32,max_value=128,step=64),(3,3),activation='relu',input_shape=(32,32,3)))\n",
    "    model.add(layers.MaxPooling2D((2,2)))\n",
    "    model.add(layers.Conv2D(hp.get('conv1_units')+32,(3,3), activation='relu'))\n",
    "    model.add(layers.MaxPooling2D((2,2)))\n",
    "    model.add(layers.Conv2D(hp.get('conv1_units')+32,(3,3), activation='relu'))\n",
    "    model.add(layers.MaxPooling2D((2,2)))\n",
    "    model.add(layers.Dropout(hp.Float('dropout_rate',min_value=0.1,max_value=0.5,step=0.1)))\n",
    "    model.add(layers.Flatten())\n",
    "    model.add(layers.Dense(hp.Int('dense1_units',min_value=64,max_value=256,step=64,default=128), activation='relu'))\n",
    "    model.add(layers.Dense(32, activation='relu'))\n",
    "    model.add(layers.Dense(8))\n",
    "\n",
    "    model.compile(optimizer=optimizers.Adam(hp.Choice('learning_rate',values=[1e-2,1e-3,1e-4])), loss=MeanSquaredError(), metrics=['mse','mae'])\n",
    "    return model\n"
   ]
  },
  {
   "cell_type": "code",
   "execution_count": 1,
   "metadata": {
    "tags": []
   },
   "outputs": [],
   "source": [
    "# project_name='tuner_trial1'\n",
    "# tuner= Hyperband(\n",
    "#     build_model_hp,\n",
    "#     objective='val_loss',\n",
    "#     max_epochs=50,\n",
    "#     executions_per_trial=2,\n",
    "#     directory=os.path.normpath('C:/'),\n",
    "#     project_name=project_name\n",
    "# )\n",
    "# search_epochs=50\n",
    "# training_steps=int(df.shape[0]*(1-validation_split_frac)/batch_size)\n",
    "# validation_steps=int(df.shape[0]*validation_split_frac/batch_size)\n",
    "\n",
    "# tuner.search(\n",
    "#     train_generator,\n",
    "#     steps_per_epoch=training_steps,\n",
    "#     validation_data=validation_generator,\n",
    "#     validation_steps=validation_steps,\n",
    "#     epochs=search_epochs,\n",
    "#     verbose=1,\n",
    "#     #callbacks=[callbacks.EarlyStopping(monitor='loss', patience=3,restore_best_weights=True)]\n",
    "# )\n",
    "\n",
    "# best_hp= tuner.get_best_hyperparameters()[0]\n",
    "# print(best_hp)"
   ]
  },
  {
   "cell_type": "code",
   "execution_count": null,
   "metadata": {
    "tags": []
   },
   "outputs": [],
   "source": [
    "# def build_model():\n",
    "#     input_img= Input(shape=(32,32,3))\n",
    "#     conv_1= Conv2D(32, (3,3) ,activation='relu')(input_img)\n",
    "#     pool_1= MaxPooling2D((2,2))(conv_1)\n",
    "#     conv_2= Conv2D(64,(3,3), activation='relu')(pool_1)\n",
    "#     pool_2= MaxPooling2D((2,2))(conv_2)\n",
    "#     conv_3= Conv2D(64,(3,3), activation='relu')(pool_2)\n",
    "#     pool_3= MaxPooling2D((2,2))(conv_3)\n",
    "#     dropout_1= Dropout(0.5)(pool_3)\n",
    "#     flatten_1= Flatten()(dropout_1)\n",
    "#     dense_1= Dense(128, activation='relu')(flatten_1)\n",
    "#     dense_2= Dense(64, activation='relu')(dense_1)\n",
    "\n",
    "#     out_1= Dense(1,name='x_coord')(dense_2)\n",
    "#     out_2= Dense(1,name='y_coord')(dense_2)\n",
    "#     out_3= Dense(1,name='neighbor1x')(dense_2)\n",
    "#     out_4= Dense(1,name='neighbor1y')(dense_2)\n",
    "#     out_5= Dense(1,name='neighbor2x')(dense_2)\n",
    "#     out_6= Dense(1,name='neighbor2y')(dense_2)\n",
    "#     out_7= Dense(1,name='neighbor3x')(dense_2)\n",
    "#     out_8= Dense(1,name='neighbor3y')(dense_2)\n",
    "\n",
    "#     combined_outputs=layers.concatenate([out_1,out_2,out_3,out_4,out_5,out_6,out_7,out_8],name='outputs')\n",
    "\n",
    "\n",
    "#     #model=Model(inputs=input_img,outputs=[out_1,out_2,out_3,out_4,out_5,out_6,out_7,out_8])\n",
    "#     model=Model(inputs=input_img,outputs=combined_outputs)\n",
    "#     return model\n",
    "\n",
    "# def get_compiled_model():\n",
    "#     model=build_model()\n",
    "#     def root_mean_squared_error(y_true, y_pred):\n",
    "#         return K.sqrt(K.mean(K.square(y_pred - y_true)))\n",
    "#     model.compile(\n",
    "#     optimizer='Adam',\n",
    "#     loss={'x_coord':root_mean_squared_error, 'y_coord':root_mean_squared_error,\n",
    "#         'neighbor1x':root_mean_squared_error,'neighbor1y':root_mean_squared_error,\n",
    "#         'neighbor2x':root_mean_squared_error,'neighbor2y':root_mean_squared_error,\n",
    "#         'neighbor3x':root_mean_squared_error,'neighbor3y':root_mean_squared_error},\n",
    "#     loss_weights={'x_coord':1,'y_coord':1,\n",
    "#         'neighbor1x':1,'neighbor1y':1,\n",
    "#         'neighbor2x':1,'neighbor2y':1,\n",
    "#         'neighbor3x':1,'neighbor3y':1},\n",
    "#     metrics={\"x_coord\":['mse','mae'],'y_coord':['mse','mae'],\n",
    "#         'neighbor1x':['mse','mae'],'neighbor1y':['mse','mae'],\n",
    "#         'neighbor2x':['mse','mae'],'neighbor2y':['mse','mae'],\n",
    "#         'neighbor3x':['mse','mae'],'neighbor3y':['mse','mae']}\n",
    "#     )\n",
    "#     return model\n",
    "\n",
    "# def get_compiled_model():\n",
    "#     model=build_model()\n",
    "#     model.compile(optimizer='Adam', loss=tf.keras.metrics.RootMeanSquaredError(), metrics=['mse','mae'])\n",
    "#     return model\n",
    "\n",
    "# model=build_model()\n",
    "# model.summary()\n",
    "#plot_model(model,show_shapes=True)\n"
   ]
  }
 ],
 "metadata": {
  "kernelspec": {
   "display_name": "Python 3",
   "language": "python",
   "name": "python3"
  },
  "language_info": {
   "codemirror_mode": {
    "name": "ipython",
    "version": 3
   },
   "file_extension": ".py",
   "mimetype": "text/x-python",
   "name": "python",
   "nbconvert_exporter": "python",
   "pygments_lexer": "ipython3",
   "version": "3.7.7"
  }
 },
 "nbformat": 4,
 "nbformat_minor": 2
}
