{
 "cells": [
  {
   "cell_type": "code",
   "execution_count": 1,
   "metadata": {
    "init_cell": true
   },
   "outputs": [],
   "source": [
    "#Packages\n",
    "import collections\n",
    "import math\n",
    "import matplotlib.pyplot as plt\n",
    "from PIL import Image, ImageDraw, ImageFont, ImageColor\n",
    "import numpy as np \n",
    "from scipy.stats import norm\n",
    "from scipy import ndimage\n",
    "import json\n",
    "import pandas as pd\n",
    "import os\n",
    "from tqdm import tqdm_notebook"
   ]
  },
  {
   "cell_type": "code",
   "execution_count": 2,
   "metadata": {
    "code_folding": [
     4,
     15,
     21,
     27,
     35,
     42,
     55
    ],
    "init_cell": true
   },
   "outputs": [],
   "source": [
    "#Defining functions of hexogonal grid\n",
    "Point = collections.namedtuple(\"Point\", [\"x\", \"y\"])\n",
    "_Hex = collections.namedtuple(\"Hex\", [\"q\", \"r\", \"s\"])\n",
    "\n",
    "def Hex(q, r, s): #creates the hexagon datatype \n",
    "    assert not (round(q + r + s) != 0), \"q + r + s must be 0\"\n",
    "    return _Hex(q, r, s)\n",
    "\n",
    "# Datatypes for pointy top or flattop lattices\n",
    "Orientation = collections.namedtuple(\"Orientation\", [\"f0\", \"f1\", \"f2\", \"f3\", \"b0\", \"b1\", \"b2\", \"b3\", \"start_angle\"])\n",
    "Layout = collections.namedtuple(\"Layout\", [\"orientation\", \"size\", \"origin\"])\n",
    "layout_pointy = Orientation(math.sqrt(3.0), math.sqrt(3.0) / 2.0, 0.0, 3.0 / 2.0, math.sqrt(3.0) / 3.0, -1.0 / 3.0, 0.0, 2.0 / 3.0, 0.5)\n",
    "layout_flat = Orientation(3.0 / 2.0, 0.0, math.sqrt(3.0) / 2.0, math.sqrt(3.0), 2.0 / 3.0, 0.0, -1.0 / 3.0, math.sqrt(3.0) / 3.0, 0.0)\n",
    "\n",
    "#Unit vectors defining three axes of strain. From the center of a hexagon unit cell, q points to the downward right face, r points to the downward face, and b points to the downward right face. q and r also are the same axes the hexagonal lattice is defined with.\n",
    "r_hat=np.array([0,1])\n",
    "q_hat=np.array([math.sqrt(3)/2,1/2])\n",
    "b_hat=r_hat-q_hat\n",
    "b_hat=b_hat/np.linalg.norm(b_hat)\n",
    "#Functions for locating points in xy coordinates\n",
    "def hex_to_pixel(layout, h, strain): #returns the x,y coordinate of the center of the hexagon, strain is an array [q,r,s] of percent strain in each direction\n",
    "    M = layout.orientation\n",
    "    x = ((M.f0*h.q+M.f1*h.r))*layout.size[0]\n",
    "    y = ((M.f2*h.q+M.f3*h.r))*layout.size[1]\n",
    "    h_b=h.r-h.q\n",
    "    strain_vec_q=np.array([strain[0]*layout.size[0]*(h.q+1/2*h.r)*q_hat[0],strain[0]*layout.size[1]*(h.q+1/2*h.r)*q_hat[1]])\n",
    "    strain_vec_r=np.array([strain[1]*layout.size[0]*(h.r+1/2*h.q)*r_hat[0],strain[1]*layout.size[1]*(h.r+1/2*h.q)*r_hat[1]])\n",
    "    strain_vec_b=np.array([strain[2]*layout.size[0]*(h_b-1/2*h.r+1/2*h.q)*b_hat[0],strain[2]*layout.size[1]*(h_b-1/2*h.r+1/2*h.q)*b_hat[1]])\n",
    "    strain_vec=strain_vec_q+strain_vec_r+strain_vec_b\n",
    "    return Point(x +strain_vec[0]+ layout.origin[0] , y +strain_vec[1]+ layout.origin[1])\n",
    "\n",
    "def hex_corner_offset(layout, corner): #Returns how far off each corner is from the center point\n",
    "    M = layout.orientation\n",
    "    size = layout.size\n",
    "    angle = 2.0 * math.pi * (M.start_angle - corner) / 6.0\n",
    "    return Point(size[0] * math.cos(angle), size[1] * math.sin(angle))\n",
    "\n",
    "\n",
    "r_strain_order=[0,-1,-1,0,1,1]\n",
    "q_strain_order=[1,0,-1,-1,0,1]\n",
    "b_strain_order=[-1,-1,0,1,1,0]\n",
    "def get_corner_strain_vec(i,strain):\n",
    "    strain_order_vec=np.array([q_strain_order[i],r_strain_order[i],b_strain_order[i]])\n",
    "    strain_vec=q_hat/2*strain[0]*strain_order_vec[0]+r_hat/2*strain[1]*strain_order_vec[1]+b_hat/2*strain[2]*strain_order_vec[2]\n",
    "    return strain_vec\n",
    "\n",
    "def polygon_corners(layout, h,strain): #Creates an array of corners by applying the corner offset method to the center six times\n",
    "    corners = []\n",
    "    center = hex_to_pixel(layout, h,strain)\n",
    "    for i in range(0, 6):\n",
    "        offset = hex_corner_offset(layout, i)\n",
    "        strain_vec=get_corner_strain_vec(i,strain)\n",
    "        corners.append(Point(center.x + offset.x + strain_vec[0]*layout.size[0], center.y + offset.y + strain_vec[1]*layout.size[1]))\n",
    "    return corners\n",
    "\n",
    "def get_neighbor_vec(layout,strain,i,R): #Creates an array of corners by applying the corner offset method to the center six times\n",
    "    offset = hex_corner_offset(layout, i)\n",
    "    strain_vec=get_corner_strain_vec(i,strain)\n",
    "    vec_init=np.array([offset.x + strain_vec[0]*layout.size[0], offset.y + strain_vec[1]*layout.size[1]])\n",
    "    vec=rotate_vec(vec_init,R)\n",
    "    return np.array([vec[0],vec[1]])\n",
    "\n",
    "def to_array(corners): # turns corners into an array of arrays for coordinates\n",
    "    array_corners=[]\n",
    "    for p in corners:\n",
    "        array_corners.append([p.x,p.y])\n",
    "    return array_corners\n",
    "\n",
    "# Creates rectangular map of hexagons for flat top, origin is in top left\n",
    "def rect_map(map_height,map_width):\n",
    "    map=[]\n",
    "    for q in range(-map_height,map_height):\n",
    "        q_offset=math.floor(q/2)\n",
    "        for r in range(-map_width-q_offset,map_width-q_offset):\n",
    "            #map.append(Hex(q,r-map_height//2,-(q)-(r-map_height//2)))\n",
    "            map.append(Hex(q,r,-q-r))\n",
    "    return map\n",
    "\n",
    "#Gaussian function to be used globably\n",
    "Gaussian= lambda x,scl,amp: amp*math.e**(-0.5*(x/scl)**2)\n",
    "\n",
    "#Labeling methods\n",
    "def distance(a,mid): #Returns the distance between two pixels\n",
    "    dist_vec=np.array((mid[0]-a[0],mid[1]-a[1]))\n",
    "    distance=np.linalg.norm(dist_vec)\n",
    "    return distance\n",
    "\n",
    "#Rotation method\n",
    "def rotate_vec(v,R,_origin=[0,0]): #Rotates given point by predetermined angle around origin, which is set to (0,0) by default\n",
    "    org=np.array(_origin)\n",
    "    vec=v-org\n",
    "    return np.tensordot(R,vec,axes=1)"
   ]
  },
  {
   "cell_type": "code",
   "execution_count": 3,
   "metadata": {
    "code_folding": [
     6,
     20,
     37,
     45,
     52,
     59,
     68,
     75,
     93,
     122,
     128
    ],
    "init_cell": true
   },
   "outputs": [],
   "source": [
    "#Class for training images\n",
    "class Training_im:\n",
    "\n",
    "    image_size=[32,32]\n",
    "    background_color=ImageColor.getrgb(\"hsl(46,0%,50%)\")\n",
    "\n",
    "    def __init__(self,bond_lengths,origin,atom_size,strain,angle):\n",
    "        self.bl=bond_lengths #bond lengths in [x,y] scaleing\n",
    "        self.o=origin #orignin from which to draw lattice. In effect will shift the entire image up and down\n",
    "        self.atom_size=atom_size #Standard deviation of the gaussian each atom is represented by\n",
    "        self.strain=np.array(strain) #Strain in [q,r,b] direction, number is percent strain in that direction, ie q=.5 adds 50% of the bond length to each point in the q direction\n",
    "        theta=np.radians(angle)\n",
    "        c,s= np.cos(theta),np.sin(theta)\n",
    "        self.R=np.matrix([[c,s],[-s,c]]) #Rotation matrix for given angle. Rotates counterclockwise\n",
    "        self.im=Image.new(\"RGB\",self.image_size,color=self.background_color)\n",
    "        self.pixel_array=np.array(self.im)\n",
    "        self.blob_values_array=np.zeros((self.image_size[1],self.image_size[0]))\n",
    "        self.mid=Point(self.image_size[0]//2,self.image_size[1]//2)\n",
    "        self.layout=Layout(layout_flat,self.bl,self.o)\n",
    "        self.atom_locs=[]\n",
    "        self.make_im()\n",
    "        self.neighbor_vects=[]\n",
    "        self.central_atom=[]\n",
    "        self.label_im()\n",
    "    #Plotting methods\n",
    "\n",
    "    def gauss_circ(self,p,radius):\n",
    "        #radius is a given param that represents the standard deviation of the gaussian\n",
    "        #plot_rad is some multiple of the radius given, it is the radius of the circle to be plotted\n",
    "        _scale=radius\n",
    "        plot_rad=4*radius\n",
    "        color_amp=100\n",
    "        color_scaling=lambda x: Gaussian(x,_scale,color_amp)\n",
    "        \n",
    "        for x in range(math.floor(max(p[0]-plot_rad,0)),math.floor(min(p[0]+plot_rad,self.image_size[0]))):\n",
    "            for y in range(math.floor(max(p[1]-plot_rad,0)),math.floor(min(p[1]+plot_rad,self.image_size[1]))):\n",
    "                dist_vec=np.array([x-p[0],y-p[1]])\n",
    "                distance=np.linalg.norm(dist_vec)\n",
    "                self.blob_values_array[y][x]+=color_scaling(distance)\n",
    "\n",
    "    #Takes all float values in blob_values_array and converts them to an hsl color with the corresponding lightness value. This color is then convereted to rgb and stored in pixel_array     \n",
    "    def gauss_to_color(self):\n",
    "        for i in range(self.image_size[0]):\n",
    "            for j in range(self.image_size[1]):\n",
    "                rgbcolor=ImageColor.getrgb(f\"hsl(46,{min(max(self.blob_values_array[j][i],1e-2),100)}%,50%)\")\n",
    "                self.pixel_array[j][i][0]=rgbcolor[0]\n",
    "                self.pixel_array[j][i][1]=rgbcolor[1]\n",
    "                self.pixel_array[j][i][2]=rgbcolor[2]\n",
    "\n",
    "    \n",
    "    def plot_hex_dots(self): #Calls gauss_circ on every point in atom_locs\n",
    "        for p in self.atom_locs:\n",
    "            self.gauss_circ(p,self.atom_size)\n",
    "        \n",
    "    #Rotation methods\n",
    "    def rotate_point(self,p): #Rotates given point by predetermined angle around origin, which is set to (0,0) by default\n",
    "        origin=np.array(self.o)\n",
    "        v=np.array(p)\n",
    "        vec=v-origin\n",
    "        rot_point=np.tensordot(self.R,vec,axes=1)\n",
    "        return [rot_point[0]+origin[0],rot_point[1]+origin[1]]\n",
    "        \n",
    "    def rotate_atoms(self,atom_locs): #Rotates all the atom locations in the given array\n",
    "        atom_locs_rot=[]\n",
    "        for p in atom_locs:\n",
    "            atom_locs_rot.append(self.rotate_point(p))\n",
    "        return atom_locs_rot\n",
    "\n",
    "    #Neighbor methods\n",
    "    def get_atom_locs(self,_map): # Returns an array of all the atomic locations in the map\n",
    "        atom_locs=[]\n",
    "        for h in _map:\n",
    "            corners=to_array(polygon_corners(self.layout,h,self.strain))\n",
    "            for corner in corners[0:2]:\n",
    "                atom_locs.append(corner)\n",
    "        atom_locs_rot=self.rotate_atoms(atom_locs)\n",
    "        return atom_locs_rot\n",
    "    \n",
    "    def get_central_atom(self,atom_locs): #Returns the atom closest to the center pixel of the image\n",
    "        center_atom=[]\n",
    "        min_dist=self.image_size[0]\n",
    "        for a in atom_locs:\n",
    "            if distance(a,self.mid)<=min_dist:\n",
    "                min_dist=distance(a,self.mid)\n",
    "                center_atom=a\n",
    "        return center_atom\n",
    "\n",
    "    def color_central_atom(self): #Draws the central atom in white in pixel_array\n",
    "        assert self.map != 'NoneType'\n",
    "        atom_locs=self.get_atom_locs(self.map)\n",
    "        central_atom=self.get_central_atom(atom_locs)\n",
    "        for i in range(3):\n",
    "            self.pixel_array[math.floor(central_atom[1])][math.floor(central_atom[0])][i]=255\n",
    "\n",
    "    def color_neighbors(self): #Draws the nearest neighbors in red, blue, and green in pixel_array\n",
    "        assert self.map != 'NoneType'\n",
    "        atom_locs=self.get_atom_locs(self.map)\n",
    "        central_atom=self.get_central_atom(atom_locs)\n",
    "        neighbors=self.get_nearest_neighbors(atom_locs,central_atom)\n",
    "        i=0\n",
    "        for n in neighbors:\n",
    "            if n[0]<self.image_size[0] and n[1]<self.image_size[1]:\n",
    "                self.pixel_array[math.floor(n[1])][math.floor(n[0])][i]=225\n",
    "                self.pixel_array[math.floor(n[1])][math.floor(n[0])][i-1]=0\n",
    "                self.pixel_array[math.floor(n[1])][math.floor(n[0])][i-2]=0\n",
    "            i+=1\n",
    "        \n",
    "    \n",
    "    def initialize_neighbor_vec(self): #Initializes the neighbor vectors based on size/bond lentgh\n",
    "        self.neighbor_vect_arr=[]\n",
    "        for i in range(6):\n",
    "            self.neighbor_vect_arr.append(get_neighbor_vec(self.layout,self.strain,i,self.R))\n",
    "\n",
    "    #Returns whether the central atom is on the right or left of the two triangular sublattices\n",
    "    def get_isRight(self,central):\n",
    "        isRight=False\n",
    "        left_neighbor_x=central[0]+self.neighbor_vect_arr[3][0]\n",
    "        left_neighbor_y=central[1]+self.neighbor_vect_arr[3][1]\n",
    "        for a in self.atom_locs:\n",
    "            if left_neighbor_x-1<=a[0] and left_neighbor_x+1>=a[0]:\n",
    "                if left_neighbor_y-1<=a[1] and left_neighbor_y+1>=a[1]:\n",
    "                    isRight=True\n",
    "        return isRight\n",
    "    def get_nearest_neighbors(self,atom_locs,central): #Returns the nearest neighbors to the central atom. \n",
    "        #Doesn't search atom locations, just spits out where the neighbors should be given central location\n",
    "        neighbors=[]\n",
    "        self.isRight=self.get_isRight(central)\n",
    "        if self.isRight:\n",
    "            neighbors.append(np.add(self.neighbor_vect_arr[3],central))\n",
    "            neighbors.append(np.add(self.neighbor_vect_arr[5],central))\n",
    "            neighbors.append(np.add(self.neighbor_vect_arr[1],central))\n",
    "        else:\n",
    "            neighbors.append(np.add(self.neighbor_vect_arr[0],central))\n",
    "            neighbors.append(np.add(self.neighbor_vect_arr[2],central))\n",
    "            neighbors.append(np.add(self.neighbor_vect_arr[4],central))\n",
    "        return neighbors\n",
    "    \n",
    "    \n",
    "\n",
    "\n",
    "    #Runs the methods required to draw the image and saves the final array as an Image instance\n",
    "    def make_im(self):\n",
    "        \n",
    "        self.initialize_neighbor_vec()\n",
    "        mapsize_x=math.floor(self.image_size[0]/(math.sqrt(3)*self.bl[0])*2)\n",
    "        mapsize_y=math.floor(self.image_size[1]/(2*self.bl[1])*2)\n",
    "        self.map=rect_map(mapsize_x,mapsize_y)\n",
    "        self.atom_locs=self.get_atom_locs(self.map)\n",
    "        self.plot_hex_dots()\n",
    "        self.gauss_to_color()\n",
    "        self.im_fin=Image.fromarray(self.pixel_array)\n",
    "   \n",
    "    #Runs the methods to color the central atom and neighbors \n",
    "    def color_data(self):\n",
    "        self.color_central_atom()\n",
    "        self.color_neighbors()\n",
    "        self.im_fin=Image.fromarray(self.pixel_array)\n",
    "    \n",
    "    #Labels images with central atom and neighbor vectors scaled to the size of the image\n",
    "    # def label_im(self):\n",
    "    #     central_atom=self.get_central_atom(self.atom_locs)\n",
    "    #     neighbors=self.get_nearest_neighbors(self.atom_locs,central_atom)\n",
    "    #     self.central_atom=[central_atom[0]/self.image_size[0],central_atom[1]/self.image_size[1]]\n",
    "    #     for n in neighbors:\n",
    "    #         self.neighbor_vects.append([(central_atom[0]-n[0])/self.image_size[0],(central_atom[1]-n[1])/self.image_size[1]])\n",
    "    def label_im(self):\n",
    "        central_atom=self.get_central_atom(self.atom_locs)\n",
    "        self.isRight=self.get_isRight(central_atom)\n",
    "        if self.isRight:\n",
    "            self.neighbor_vects.append(self.neighbor_vect_arr[3]/32.)\n",
    "            self.neighbor_vects.append(self.neighbor_vect_arr[5]/32.)\n",
    "            self.neighbor_vects.append(self.neighbor_vect_arr[1]/32.)\n",
    "        else:\n",
    "            self.neighbor_vects.append(self.neighbor_vect_arr[0]/32.)\n",
    "            self.neighbor_vects.append(self.neighbor_vect_arr[2]/32.)\n",
    "            self.neighbor_vects.append(self.neighbor_vect_arr[4]/32.)\n",
    "        self.central_atom=[central_atom[0]/self.image_size[0],central_atom[1]/self.image_size[1]]\n",
    "        \n",
    "    \n"
   ]
  },
  {
   "cell_type": "code",
   "execution_count": 4,
   "metadata": {
    "tags": []
   },
   "outputs": [
    {
     "output_type": "display_data",
     "data": {
      "text/plain": "<Figure size 720x720 with 1 Axes>",
      "image/svg+xml": "<?xml version=\"1.0\" encoding=\"utf-8\" standalone=\"no\"?>\r\n<!DOCTYPE svg PUBLIC \"-//W3C//DTD SVG 1.1//EN\"\r\n  \"http://www.w3.org/Graphics/SVG/1.1/DTD/svg11.dtd\">\r\n<!-- Created with matplotlib (https://matplotlib.org/) -->\r\n<svg height=\"558pt\" version=\"1.1\" viewBox=\"0 0 558 558\" width=\"558pt\" xmlns=\"http://www.w3.org/2000/svg\" xmlns:xlink=\"http://www.w3.org/1999/xlink\">\r\n <defs>\r\n  <style type=\"text/css\">\r\n*{stroke-linecap:butt;stroke-linejoin:round;}\r\n  </style>\r\n </defs>\r\n <g id=\"figure_1\">\r\n  <g id=\"patch_1\">\r\n   <path d=\"M 0 558 \r\nL 558 558 \r\nL 558 0 \r\nL 0 0 \r\nz\r\n\" style=\"fill:none;\"/>\r\n  </g>\r\n  <g id=\"axes_1\">\r\n   <g clip-path=\"url(#p993e7d1687)\">\r\n    <image height=\"544\" id=\"image3bb13c61e9\" transform=\"scale(1 -1)translate(0 -544)\" width=\"544\" x=\"7.2\" xlink:href=\"data:image/png;base64,\r\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\" y=\"-6.8\"/>\r\n   </g>\r\n   <g id=\"line2d_1\">\r\n    <defs>\r\n     <path d=\"M 0 3 \r\nC 0.795609 3 1.55874 2.683901 2.12132 2.12132 \r\nC 2.683901 1.55874 3 0.795609 3 0 \r\nC 3 -0.795609 2.683901 -1.55874 2.12132 -2.12132 \r\nC 1.55874 -2.683901 0.795609 -3 0 -3 \r\nC -0.795609 -3 -1.55874 -2.683901 -2.12132 -2.12132 \r\nC -2.683901 -1.55874 -3 -0.795609 -3 0 \r\nC -3 0.795609 -2.683901 1.55874 -2.12132 2.12132 \r\nC -1.55874 2.683901 -0.795609 3 0 3 \r\nz\r\n\" id=\"m66ee986570\" style=\"stroke:#ffffff;\"/>\r\n    </defs>\r\n    <g clip-path=\"url(#p993e7d1687)\">\r\n     <use style=\"fill:#ffffff;stroke:#ffffff;\" x=\"229.663878\" xlink:href=\"#m66ee986570\" y=\"278.468281\"/>\r\n    </g>\r\n   </g>\r\n   <g id=\"line2d_2\">\r\n    <defs>\r\n     <path d=\"M 0 3 \r\nC 0.795609 3 1.55874 2.683901 2.12132 2.12132 \r\nC 2.683901 1.55874 3 0.795609 3 0 \r\nC 3 -0.795609 2.683901 -1.55874 2.12132 -2.12132 \r\nC 1.55874 -2.683901 0.795609 -3 0 -3 \r\nC -0.795609 -3 -1.55874 -2.683901 -2.12132 -2.12132 \r\nC -2.683901 -1.55874 -3 -0.795609 -3 0 \r\nC -3 0.795609 -2.683901 1.55874 -2.12132 2.12132 \r\nC -1.55874 2.683901 -0.795609 3 0 3 \r\nz\r\n\" id=\"m28413a42f2\" style=\"stroke:#ff0000;\"/>\r\n    </defs>\r\n    <g clip-path=\"url(#p993e7d1687)\">\r\n     <use style=\"fill:#ff0000;stroke:#ff0000;\" x=\"354.630132\" xlink:href=\"#m28413a42f2\" y=\"291.7087\"/>\r\n    </g>\r\n   </g>\r\n   <g id=\"line2d_3\">\r\n    <defs>\r\n     <path d=\"M 0 3 \r\nC 0.795609 3 1.55874 2.683901 2.12132 2.12132 \r\nC 2.683901 1.55874 3 0.795609 3 0 \r\nC 3 -0.795609 2.683901 -1.55874 2.12132 -2.12132 \r\nC 1.55874 -2.683901 0.795609 -3 0 -3 \r\nC -0.795609 -3 -1.55874 -2.683901 -2.12132 -2.12132 \r\nC -2.683901 -1.55874 -3 -0.795609 -3 0 \r\nC -3 0.795609 -2.683901 1.55874 -2.12132 2.12132 \r\nC -1.55874 2.683901 -0.795609 3 0 3 \r\nz\r\n\" id=\"mf7611cadfe\" style=\"stroke:#008000;\"/>\r\n    </defs>\r\n    <g clip-path=\"url(#p993e7d1687)\">\r\n     <use style=\"fill:#008000;stroke:#008000;\" x=\"171.68342\" xlink:href=\"#mf7611cadfe\" y=\"166.977744\"/>\r\n    </g>\r\n   </g>\r\n   <g id=\"line2d_4\">\r\n    <defs>\r\n     <path d=\"M 0 3 \r\nC 0.795609 3 1.55874 2.683901 2.12132 2.12132 \r\nC 2.683901 1.55874 3 0.795609 3 0 \r\nC 3 -0.795609 2.683901 -1.55874 2.12132 -2.12132 \r\nC 1.55874 -2.683901 0.795609 -3 0 -3 \r\nC -0.795609 -3 -1.55874 -2.683901 -2.12132 -2.12132 \r\nC -2.683901 -1.55874 -3 -0.795609 -3 0 \r\nC -3 0.795609 -2.683901 1.55874 -2.12132 2.12132 \r\nC -1.55874 2.683901 -0.795609 3 0 3 \r\nz\r\n\" id=\"m36d8d2c79f\" style=\"stroke:#0000ff;\"/>\r\n    </defs>\r\n    <g clip-path=\"url(#p993e7d1687)\">\r\n     <use style=\"fill:#0000ff;stroke:#0000ff;\" x=\"162.678081\" xlink:href=\"#m36d8d2c79f\" y=\"376.718399\"/>\r\n    </g>\r\n   </g>\r\n  </g>\r\n </g>\r\n <defs>\r\n  <clipPath id=\"p993e7d1687\">\r\n   <rect height=\"543.6\" width=\"543.6\" x=\"7.2\" y=\"7.2\"/>\r\n  </clipPath>\r\n </defs>\r\n</svg>\r\n",
      "image/png": "[encoded data removed]"
     },
     "metadata": {
      "needs_background": "light"
     }
    }
   ],
   "source": [
    "#Plotting images\n",
    "#bond_lengths=[8/2,math.sqrt(3)/2*8]\n",
    "\n",
    "def plot_labels():\n",
    "    plt.plot(center_atom[0]*32,center_atom[1]*32,'o',color='white')\n",
    "    plt.plot(neighbors[0][0]*32+center_atom[0]*32,neighbors[0][1]*32+center_atom[1]*32,'o',color='red')\n",
    "    plt.plot(neighbors[1][0]*32+center_atom[0]*32,neighbors[1][1]*32+center_atom[1]*32,'o',color='green')\n",
    "    plt.plot(neighbors[2][0]*32+center_atom[0]*32,neighbors[2][1]*32+center_atom[1]*32,'o',color='blue')\n",
    "\n",
    "bond_length=7\n",
    "origin=[-5,-5]\n",
    "atom_size=2\n",
    "#strain[q,r,b]\n",
    "strain=[.13,0,0]\n",
    "#anlge in degrees\n",
    "angle=-4.285714285714285\n",
    "im=Training_im([bond_length,bond_length],origin,atom_size,strain,angle)\n",
    "#im.color_data()\n",
    "center_atom=im.central_atom\n",
    "neighbors=im.neighbor_vects\n",
    "#im.im_fin.save(\"rotated_angle_160.png\")\n",
    "fig = plt.figure(figsize = (10, 10))\n",
    "ax = plt.subplot(1,1,1)\n",
    "ax.imshow(im.im_fin)\n",
    "ax.axis('off')\n",
    "plot_labels()\n",
    "#print(im.central_atom)\n",
    "#print(im.neighbor_vects)"
   ]
  },
  {
   "cell_type": "code",
   "execution_count": 5,
   "metadata": {
    "tags": []
   },
   "outputs": [
    {
     "output_type": "display_data",
     "data": {
      "text/plain": "HBox(children=(FloatProgress(value=0.0, description='bl', max=4.0, style=ProgressStyle(description_width='init…",
      "application/vnd.jupyter.widget-view+json": {
       "version_major": 2,
       "version_minor": 0,
       "model_id": "052989ea4d8a4210ab5904cadc3d3e6d"
      }
     },
     "metadata": {}
    },
    {
     "output_type": "display_data",
     "data": {
      "text/plain": "HBox(children=(FloatProgress(value=0.0, description='offx', max=5.0, style=ProgressStyle(description_width='in…",
      "application/vnd.jupyter.widget-view+json": {
       "version_major": 2,
       "version_minor": 0,
       "model_id": "650c039df40d42afa1b01e98e17ae396"
      }
     },
     "metadata": {}
    },
    {
     "output_type": "display_data",
     "data": {
      "text/plain": "HBox(children=(FloatProgress(value=0.0, description='offy', max=5.0, style=ProgressStyle(description_width='in…",
      "application/vnd.jupyter.widget-view+json": {
       "version_major": 2,
       "version_minor": 0,
       "model_id": "825b8ef357704f7b8d9b67508d7b88d8"
      }
     },
     "metadata": {}
    },
    {
     "output_type": "stream",
     "name": "stdout",
     "text": "\n"
    },
    {
     "output_type": "display_data",
     "data": {
      "text/plain": "HBox(children=(FloatProgress(value=0.0, description='offy', max=5.0, style=ProgressStyle(description_width='in…",
      "application/vnd.jupyter.widget-view+json": {
       "version_major": 2,
       "version_minor": 0,
       "model_id": "f2033c398e6e44e2a9431c877a4c55b6"
      }
     },
     "metadata": {}
    },
    {
     "output_type": "stream",
     "name": "stdout",
     "text": "\n"
    },
    {
     "output_type": "display_data",
     "data": {
      "text/plain": "HBox(children=(FloatProgress(value=0.0, description='offy', max=5.0, style=ProgressStyle(description_width='in…",
      "application/vnd.jupyter.widget-view+json": {
       "version_major": 2,
       "version_minor": 0,
       "model_id": "248c0148452f490884af66ca3ccba97e"
      }
     },
     "metadata": {}
    },
    {
     "output_type": "stream",
     "name": "stdout",
     "text": "\n"
    },
    {
     "output_type": "display_data",
     "data": {
      "text/plain": "HBox(children=(FloatProgress(value=0.0, description='offy', max=5.0, style=ProgressStyle(description_width='in…",
      "application/vnd.jupyter.widget-view+json": {
       "version_major": 2,
       "version_minor": 0,
       "model_id": "a73ac5baab2b445e9a9f91cb75b7c9c6"
      }
     },
     "metadata": {}
    },
    {
     "output_type": "stream",
     "name": "stdout",
     "text": "\n"
    },
    {
     "output_type": "display_data",
     "data": {
      "text/plain": "HBox(children=(FloatProgress(value=0.0, description='offy', max=5.0, style=ProgressStyle(description_width='in…",
      "application/vnd.jupyter.widget-view+json": {
       "version_major": 2,
       "version_minor": 0,
       "model_id": "47462e7e4edd41e987e82d2474518ad0"
      }
     },
     "metadata": {}
    },
    {
     "output_type": "stream",
     "name": "stdout",
     "text": "\n\n"
    },
    {
     "output_type": "display_data",
     "data": {
      "text/plain": "HBox(children=(FloatProgress(value=0.0, description='offx', max=5.0, style=ProgressStyle(description_width='in…",
      "application/vnd.jupyter.widget-view+json": {
       "version_major": 2,
       "version_minor": 0,
       "model_id": "9e7cd7b962424ebb99a83cc8dc746a95"
      }
     },
     "metadata": {}
    },
    {
     "output_type": "display_data",
     "data": {
      "text/plain": "HBox(children=(FloatProgress(value=0.0, description='offy', max=5.0, style=ProgressStyle(description_width='in…",
      "application/vnd.jupyter.widget-view+json": {
       "version_major": 2,
       "version_minor": 0,
       "model_id": "0f497883ccab4fb1a5ce71f3cd541f6d"
      }
     },
     "metadata": {}
    },
    {
     "output_type": "stream",
     "name": "stdout",
     "text": "\n"
    },
    {
     "output_type": "display_data",
     "data": {
      "text/plain": "HBox(children=(FloatProgress(value=0.0, description='offy', max=5.0, style=ProgressStyle(description_width='in…",
      "application/vnd.jupyter.widget-view+json": {
       "version_major": 2,
       "version_minor": 0,
       "model_id": "0393a6481a7e42c78c48f32bedbcd296"
      }
     },
     "metadata": {}
    },
    {
     "output_type": "stream",
     "name": "stdout",
     "text": "\n"
    },
    {
     "output_type": "display_data",
     "data": {
      "text/plain": "HBox(children=(FloatProgress(value=0.0, description='offy', max=5.0, style=ProgressStyle(description_width='in…",
      "application/vnd.jupyter.widget-view+json": {
       "version_major": 2,
       "version_minor": 0,
       "model_id": "2787c737ec9f44d39835846f01a596a7"
      }
     },
     "metadata": {}
    },
    {
     "output_type": "stream",
     "name": "stdout",
     "text": "\n"
    },
    {
     "output_type": "display_data",
     "data": {
      "text/plain": "HBox(children=(FloatProgress(value=0.0, description='offy', max=5.0, style=ProgressStyle(description_width='in…",
      "application/vnd.jupyter.widget-view+json": {
       "version_major": 2,
       "version_minor": 0,
       "model_id": "c2b8179aec584fe7adab777804ee0439"
      }
     },
     "metadata": {}
    },
    {
     "output_type": "stream",
     "name": "stdout",
     "text": "\n"
    },
    {
     "output_type": "display_data",
     "data": {
      "text/plain": "HBox(children=(FloatProgress(value=0.0, description='offy', max=5.0, style=ProgressStyle(description_width='in…",
      "application/vnd.jupyter.widget-view+json": {
       "version_major": 2,
       "version_minor": 0,
       "model_id": "73c59445cf674bafbd3c9f4d54288c4b"
      }
     },
     "metadata": {}
    },
    {
     "output_type": "stream",
     "name": "stdout",
     "text": "\n\n"
    },
    {
     "output_type": "display_data",
     "data": {
      "text/plain": "HBox(children=(FloatProgress(value=0.0, description='offx', max=5.0, style=ProgressStyle(description_width='in…",
      "application/vnd.jupyter.widget-view+json": {
       "version_major": 2,
       "version_minor": 0,
       "model_id": "dca6bb75ba2748f8a1e60cab90a41065"
      }
     },
     "metadata": {}
    },
    {
     "output_type": "display_data",
     "data": {
      "text/plain": "HBox(children=(FloatProgress(value=0.0, description='offy', max=5.0, style=ProgressStyle(description_width='in…",
      "application/vnd.jupyter.widget-view+json": {
       "version_major": 2,
       "version_minor": 0,
       "model_id": "40fad09f0d4a4a8ba51b9d664e8cb6c6"
      }
     },
     "metadata": {}
    },
    {
     "output_type": "stream",
     "name": "stdout",
     "text": "\n"
    },
    {
     "output_type": "display_data",
     "data": {
      "text/plain": "HBox(children=(FloatProgress(value=0.0, description='offy', max=5.0, style=ProgressStyle(description_width='in…",
      "application/vnd.jupyter.widget-view+json": {
       "version_major": 2,
       "version_minor": 0,
       "model_id": "28ce8135239e4d2dae4479ed2d227412"
      }
     },
     "metadata": {}
    },
    {
     "output_type": "stream",
     "name": "stdout",
     "text": "\n"
    },
    {
     "output_type": "display_data",
     "data": {
      "text/plain": "HBox(children=(FloatProgress(value=0.0, description='offy', max=5.0, style=ProgressStyle(description_width='in…",
      "application/vnd.jupyter.widget-view+json": {
       "version_major": 2,
       "version_minor": 0,
       "model_id": "533a1e745e46459eac086b76a4e9527a"
      }
     },
     "metadata": {}
    },
    {
     "output_type": "stream",
     "name": "stdout",
     "text": "\n"
    },
    {
     "output_type": "display_data",
     "data": {
      "text/plain": "HBox(children=(FloatProgress(value=0.0, description='offy', max=5.0, style=ProgressStyle(description_width='in…",
      "application/vnd.jupyter.widget-view+json": {
       "version_major": 2,
       "version_minor": 0,
       "model_id": "74140927e89546ac94fab685887f00ad"
      }
     },
     "metadata": {}
    },
    {
     "output_type": "stream",
     "name": "stdout",
     "text": "\n"
    },
    {
     "output_type": "display_data",
     "data": {
      "text/plain": "HBox(children=(FloatProgress(value=0.0, description='offy', max=5.0, style=ProgressStyle(description_width='in…",
      "application/vnd.jupyter.widget-view+json": {
       "version_major": 2,
       "version_minor": 0,
       "model_id": "643af8fadcdd4c319dcee1bbfba62ce5"
      }
     },
     "metadata": {}
    },
    {
     "output_type": "stream",
     "name": "stdout",
     "text": "\n\n"
    },
    {
     "output_type": "display_data",
     "data": {
      "text/plain": "HBox(children=(FloatProgress(value=0.0, description='offx', max=5.0, style=ProgressStyle(description_width='in…",
      "application/vnd.jupyter.widget-view+json": {
       "version_major": 2,
       "version_minor": 0,
       "model_id": "57d0b793e9e74ef3b741fa93a3f5c902"
      }
     },
     "metadata": {}
    },
    {
     "output_type": "display_data",
     "data": {
      "text/plain": "HBox(children=(FloatProgress(value=0.0, description='offy', max=5.0, style=ProgressStyle(description_width='in…",
      "application/vnd.jupyter.widget-view+json": {
       "version_major": 2,
       "version_minor": 0,
       "model_id": "3d3e37318fe6477dae31106aba9bfb49"
      }
     },
     "metadata": {}
    },
    {
     "output_type": "stream",
     "name": "stdout",
     "text": "\n"
    },
    {
     "output_type": "display_data",
     "data": {
      "text/plain": "HBox(children=(FloatProgress(value=0.0, description='offy', max=5.0, style=ProgressStyle(description_width='in…",
      "application/vnd.jupyter.widget-view+json": {
       "version_major": 2,
       "version_minor": 0,
       "model_id": "bbe6fdd7bc6a4f0cb765e93b06bd019f"
      }
     },
     "metadata": {}
    },
    {
     "output_type": "stream",
     "name": "stdout",
     "text": "\n"
    },
    {
     "output_type": "display_data",
     "data": {
      "text/plain": "HBox(children=(FloatProgress(value=0.0, description='offy', max=5.0, style=ProgressStyle(description_width='in…",
      "application/vnd.jupyter.widget-view+json": {
       "version_major": 2,
       "version_minor": 0,
       "model_id": "abf5ddf80f964955aabc22a01951b5a7"
      }
     },
     "metadata": {}
    },
    {
     "output_type": "stream",
     "name": "stdout",
     "text": "\n"
    },
    {
     "output_type": "display_data",
     "data": {
      "text/plain": "HBox(children=(FloatProgress(value=0.0, description='offy', max=5.0, style=ProgressStyle(description_width='in…",
      "application/vnd.jupyter.widget-view+json": {
       "version_major": 2,
       "version_minor": 0,
       "model_id": "24be73b7ceb24e3f99ab91d19eee4ab9"
      }
     },
     "metadata": {}
    },
    {
     "output_type": "stream",
     "name": "stdout",
     "text": "\n"
    },
    {
     "output_type": "display_data",
     "data": {
      "text/plain": "HBox(children=(FloatProgress(value=0.0, description='offy', max=5.0, style=ProgressStyle(description_width='in…",
      "application/vnd.jupyter.widget-view+json": {
       "version_major": 2,
       "version_minor": 0,
       "model_id": "f35f86e07f064bffa1452d16c388246d"
      }
     },
     "metadata": {}
    },
    {
     "output_type": "stream",
     "name": "stdout",
     "text": "\n\n\n"
    }
   ],
   "source": [
    "#Creates training set and DataFrame with labels\n",
    "train_dataset_dir ='\\\\Users\\\\danie\\\\Penn_State_REU_Jupyter\\\\Hexagon ML Project GitHub\\\\Training_set_6_18'\n",
    "\n",
    "im_names=[]\n",
    "central_atom_x_labels=[]\n",
    "central_atom_y_labels=[]\n",
    "neighbor_vect_1_x_labels=[]\n",
    "neighbor_vect_1_y_labels=[]\n",
    "neighbor_vect_2_x_labels=[]\n",
    "neighbor_vect_2_y_labels=[]\n",
    "neighbor_vect_3_x_labels=[]\n",
    "neighbor_vect_3_y_labels=[]\n",
    "for bl in tqdm_notebook(np.linspace(7,9,num=4),desc='bl'):\n",
    "    for offx in tqdm_notebook(np.linspace(-5,5,num=5),desc='offx'):\n",
    "        for offy in tqdm_notebook(np.linspace(-5,5,num=5),desc='offy'):\n",
    "            for atom_size in np.linspace(2,3.5,num=3):\n",
    "                for q in np.linspace(0,.1,num=5):\n",
    "                    for r in np.linspace(0,.1,num=5):\n",
    "                        for b in np.linspace(0,.1,num=5):\n",
    "                            for angle in np.linspace(-30,30,num=8):\n",
    "                                im=Training_im([bl,bl],[offx,offy],atom_size,[q,r,b],angle)\n",
    "                                im_names.append(f\"bl{str(bl).replace('.','').replace('-','neg')}_offx{str(offx).replace('.','').replace('-','neg')}_offy{str(offy).replace('.','').replace('-','neg')}_as{str(atom_size).replace('.','')}_strain{str(q).replace('.','')}{str(r).replace('.','')}{str(b).replace('.','')}_angle{str(angle).replace('.','').replace('-','neg')}.png\")\n",
    "                                central_atom_x_labels.append(im.central_atom[0])\n",
    "                                central_atom_y_labels.append(im.central_atom[1])\n",
    "                                neighbor_vect_1_x_labels.append(im.neighbor_vects[0][0])\n",
    "                                neighbor_vect_1_y_labels.append(im.neighbor_vects[0][1])\n",
    "                                neighbor_vect_2_x_labels.append(im.neighbor_vects[1][0])\n",
    "                                neighbor_vect_2_y_labels.append(im.neighbor_vects[1][1])\n",
    "                                neighbor_vect_3_x_labels.append(im.neighbor_vects[2][0])\n",
    "                                neighbor_vect_3_y_labels.append(im.neighbor_vects[2][1])\n",
    "                                im.im_fin.save(os.path.join(train_dataset_dir,f\"bl{str(bl).replace('.','').replace('-','neg')}_offx{str(offx).replace('.','').replace('-','neg')}_offy{str(offy).replace('.','').replace('-','neg')}_as{str(atom_size).replace('.','')}_strain{str(q).replace('.','')}{str(r).replace('.','')}{str(b).replace('.','')}_angle{str(angle).replace('.','').replace('-','neg')}.png\"))\n",
    "\n",
    "data={\n",
    "    'filename':im_names,'x_coord':central_atom_x_labels,'y_coord':central_atom_y_labels, \n",
    "    'neighbor1x':neighbor_vect_1_x_labels, 'neighbor1y':neighbor_vect_1_y_labels,\n",
    "    'neighbor2x':neighbor_vect_2_x_labels, 'neighbor2y':neighbor_vect_2_y_labels,\n",
    "    'neighbor3x':neighbor_vect_3_x_labels, 'neighbor3y':neighbor_vect_3_y_labels,\n",
    "    }\n",
    "df=pd.DataFrame(data)\n",
    "df.to_csv(os.path.join(train_dataset_dir,\"training_dataframe.csv\"),index=False)"
   ]
  },
  {
   "cell_type": "code",
   "execution_count": 7,
   "metadata": {
    "tags": []
   },
   "outputs": [
    {
     "output_type": "display_data",
     "data": {
      "text/plain": "HBox(children=(FloatProgress(value=0.0, description='bl', max=3.0, style=ProgressStyle(description_width='init…",
      "application/vnd.jupyter.widget-view+json": {
       "version_major": 2,
       "version_minor": 0,
       "model_id": "b5f9ec37b09447d180672b0181c1bbc0"
      }
     },
     "metadata": {}
    },
    {
     "output_type": "display_data",
     "data": {
      "text/plain": "HBox(children=(FloatProgress(value=0.0, description='offx', max=3.0, style=ProgressStyle(description_width='in…",
      "application/vnd.jupyter.widget-view+json": {
       "version_major": 2,
       "version_minor": 0,
       "model_id": "549f9703612c4d4094b29552b40eac2f"
      }
     },
     "metadata": {}
    },
    {
     "output_type": "display_data",
     "data": {
      "text/plain": "HBox(children=(FloatProgress(value=0.0, description='offy', max=3.0, style=ProgressStyle(description_width='in…",
      "application/vnd.jupyter.widget-view+json": {
       "version_major": 2,
       "version_minor": 0,
       "model_id": "4cbfa14cb23a4fdba87746df93dade69"
      }
     },
     "metadata": {}
    },
    {
     "output_type": "stream",
     "name": "stdout",
     "text": "\n"
    },
    {
     "output_type": "display_data",
     "data": {
      "text/plain": "HBox(children=(FloatProgress(value=0.0, description='offy', max=3.0, style=ProgressStyle(description_width='in…",
      "application/vnd.jupyter.widget-view+json": {
       "version_major": 2,
       "version_minor": 0,
       "model_id": "2d1a65682ca94768b9cf4d7c4f9eb412"
      }
     },
     "metadata": {}
    },
    {
     "output_type": "stream",
     "name": "stdout",
     "text": "\n"
    },
    {
     "output_type": "display_data",
     "data": {
      "text/plain": "HBox(children=(FloatProgress(value=0.0, description='offy', max=3.0, style=ProgressStyle(description_width='in…",
      "application/vnd.jupyter.widget-view+json": {
       "version_major": 2,
       "version_minor": 0,
       "model_id": "19a5a4bdeb4145c5a1db131213786c40"
      }
     },
     "metadata": {}
    },
    {
     "output_type": "stream",
     "name": "stdout",
     "text": "\n\n"
    },
    {
     "output_type": "display_data",
     "data": {
      "text/plain": "HBox(children=(FloatProgress(value=0.0, description='offx', max=3.0, style=ProgressStyle(description_width='in…",
      "application/vnd.jupyter.widget-view+json": {
       "version_major": 2,
       "version_minor": 0,
       "model_id": "c9da21fa24ef4b869bd188c3c708f2cf"
      }
     },
     "metadata": {}
    },
    {
     "output_type": "display_data",
     "data": {
      "text/plain": "HBox(children=(FloatProgress(value=0.0, description='offy', max=3.0, style=ProgressStyle(description_width='in…",
      "application/vnd.jupyter.widget-view+json": {
       "version_major": 2,
       "version_minor": 0,
       "model_id": "7f0d3188c5214424a3b7f60fe98e22ac"
      }
     },
     "metadata": {}
    },
    {
     "output_type": "stream",
     "name": "stdout",
     "text": "\n"
    },
    {
     "output_type": "display_data",
     "data": {
      "text/plain": "HBox(children=(FloatProgress(value=0.0, description='offy', max=3.0, style=ProgressStyle(description_width='in…",
      "application/vnd.jupyter.widget-view+json": {
       "version_major": 2,
       "version_minor": 0,
       "model_id": "326d97177b8547ba9d9d29df235fa4e2"
      }
     },
     "metadata": {}
    },
    {
     "output_type": "stream",
     "name": "stdout",
     "text": "\n\n\n"
    },
    {
     "output_type": "error",
     "ename": "FileNotFoundError",
     "evalue": "[Errno 2] No such file or directory: '\\\\Users\\\\danie\\\\Penn_State_REU_Jupyter\\\\Hexagon ML Project GitHub\\\\Testing_set_6_18\\\\bl7866666666666666_offxneg19333333333333336_offyneg20666666666666664_as2466666666666667_strain00353333333333333350036000000000000004003466666666666667_angleneg18240000000000002.png'",
     "traceback": [
      "\u001b[1;31m---------------------------------------------------------------------------\u001b[0m",
      "\u001b[1;31mFileNotFoundError\u001b[0m                         Traceback (most recent call last)",
      "\u001b[1;32m<ipython-input-7-e90d9e71bded>\u001b[0m in \u001b[0;36m<module>\u001b[1;34m\u001b[0m\n\u001b[0;32m     29\u001b[0m                                 \u001b[0mneighbor_vect_3_x_labels\u001b[0m\u001b[1;33m.\u001b[0m\u001b[0mappend\u001b[0m\u001b[1;33m(\u001b[0m\u001b[0mim\u001b[0m\u001b[1;33m.\u001b[0m\u001b[0mneighbor_vects\u001b[0m\u001b[1;33m[\u001b[0m\u001b[1;36m2\u001b[0m\u001b[1;33m]\u001b[0m\u001b[1;33m[\u001b[0m\u001b[1;36m0\u001b[0m\u001b[1;33m]\u001b[0m\u001b[1;33m)\u001b[0m\u001b[1;33m\u001b[0m\u001b[1;33m\u001b[0m\u001b[0m\n\u001b[0;32m     30\u001b[0m                                 \u001b[0mneighbor_vect_3_y_labels\u001b[0m\u001b[1;33m.\u001b[0m\u001b[0mappend\u001b[0m\u001b[1;33m(\u001b[0m\u001b[0mim\u001b[0m\u001b[1;33m.\u001b[0m\u001b[0mneighbor_vects\u001b[0m\u001b[1;33m[\u001b[0m\u001b[1;36m2\u001b[0m\u001b[1;33m]\u001b[0m\u001b[1;33m[\u001b[0m\u001b[1;36m1\u001b[0m\u001b[1;33m]\u001b[0m\u001b[1;33m)\u001b[0m\u001b[1;33m\u001b[0m\u001b[1;33m\u001b[0m\u001b[0m\n\u001b[1;32m---> 31\u001b[1;33m                                 \u001b[0mim\u001b[0m\u001b[1;33m.\u001b[0m\u001b[0mim_fin\u001b[0m\u001b[1;33m.\u001b[0m\u001b[0msave\u001b[0m\u001b[1;33m(\u001b[0m\u001b[0mos\u001b[0m\u001b[1;33m.\u001b[0m\u001b[0mpath\u001b[0m\u001b[1;33m.\u001b[0m\u001b[0mjoin\u001b[0m\u001b[1;33m(\u001b[0m\u001b[0mtrain_dataset_dir\u001b[0m\u001b[1;33m,\u001b[0m\u001b[1;34mf\"bl{str(bl).replace('.','').replace('-','neg')}_offx{str(offx).replace('.','').replace('-','neg')}_offy{str(offy).replace('.','').replace('-','neg')}_as{str(atom_size).replace('.','')}_strain{str(q).replace('.','')}{str(r).replace('.','')}{str(b).replace('.','')}_angle{str(angle).replace('.','').replace('-','neg')}.png\"\u001b[0m\u001b[1;33m)\u001b[0m\u001b[1;33m)\u001b[0m\u001b[1;33m\u001b[0m\u001b[1;33m\u001b[0m\u001b[0m\n\u001b[0m\u001b[0;32m     32\u001b[0m \u001b[1;33m\u001b[0m\u001b[0m\n\u001b[0;32m     33\u001b[0m data={\n",
      "\u001b[1;32mD:\\anaconda3\\envs\\PythonGPU\\lib\\site-packages\\PIL\\Image.py\u001b[0m in \u001b[0;36msave\u001b[1;34m(self, fp, format, **params)\u001b[0m\n\u001b[0;32m   2129\u001b[0m                 \u001b[0mfp\u001b[0m \u001b[1;33m=\u001b[0m \u001b[0mbuiltins\u001b[0m\u001b[1;33m.\u001b[0m\u001b[0mopen\u001b[0m\u001b[1;33m(\u001b[0m\u001b[0mfilename\u001b[0m\u001b[1;33m,\u001b[0m \u001b[1;34m\"r+b\"\u001b[0m\u001b[1;33m)\u001b[0m\u001b[1;33m\u001b[0m\u001b[1;33m\u001b[0m\u001b[0m\n\u001b[0;32m   2130\u001b[0m             \u001b[1;32melse\u001b[0m\u001b[1;33m:\u001b[0m\u001b[1;33m\u001b[0m\u001b[1;33m\u001b[0m\u001b[0m\n\u001b[1;32m-> 2131\u001b[1;33m                 \u001b[0mfp\u001b[0m \u001b[1;33m=\u001b[0m \u001b[0mbuiltins\u001b[0m\u001b[1;33m.\u001b[0m\u001b[0mopen\u001b[0m\u001b[1;33m(\u001b[0m\u001b[0mfilename\u001b[0m\u001b[1;33m,\u001b[0m \u001b[1;34m\"w+b\"\u001b[0m\u001b[1;33m)\u001b[0m\u001b[1;33m\u001b[0m\u001b[1;33m\u001b[0m\u001b[0m\n\u001b[0m\u001b[0;32m   2132\u001b[0m \u001b[1;33m\u001b[0m\u001b[0m\n\u001b[0;32m   2133\u001b[0m         \u001b[1;32mtry\u001b[0m\u001b[1;33m:\u001b[0m\u001b[1;33m\u001b[0m\u001b[1;33m\u001b[0m\u001b[0m\n",
      "\u001b[1;31mFileNotFoundError\u001b[0m: [Errno 2] No such file or directory: '\\\\Users\\\\danie\\\\Penn_State_REU_Jupyter\\\\Hexagon ML Project GitHub\\\\Testing_set_6_18\\\\bl7866666666666666_offxneg19333333333333336_offyneg20666666666666664_as2466666666666667_strain00353333333333333350036000000000000004003466666666666667_angleneg18240000000000002.png'"
     ]
    }
   ],
   "source": [
    "#Creates testing set and DataFrame with labels\n",
    "train_dataset_dir ='\\\\Users\\\\danie\\\\Penn_State_REU_Jupyter\\\\Hexagon ML Project GitHub\\\\Testing_set_6_18' \n",
    "\n",
    "im_names=[]\n",
    "central_atom_x_labels=[]\n",
    "central_atom_y_labels=[]\n",
    "neighbor_vect_1_x_labels=[]\n",
    "neighbor_vect_1_y_labels=[]\n",
    "neighbor_vect_2_x_labels=[]\n",
    "neighbor_vect_2_y_labels=[]\n",
    "neighbor_vect_3_x_labels=[]\n",
    "neighbor_vect_3_y_labels=[]\n",
    "for bl in tqdm_notebook(np.linspace(7.3,9,num=3,endpoint=False),desc='bl'):\n",
    "    for offx in tqdm_notebook(np.linspace(-5.4,5,num=3,endpoint=False),desc='offx'):\n",
    "        for offy in tqdm_notebook(np.linspace(-5.6,5,num=3,endpoint=False),desc='offy'):\n",
    "            for atom_size in np.linspace(2.1,3.2,num=3,endpoint=False):\n",
    "                for q in np.linspace(0.003,.1,num=3,endpoint=False):\n",
    "                    for r in np.linspace(0.004,.1,num=3,endpoint=False):\n",
    "                        for b in np.linspace(0.002,.1,num=3,endpoint=False):\n",
    "                            for angle in np.linspace(-30.3,30,num=5,endpoint=False):\n",
    "                                im=Training_im([bl,bl],[offx,offy],atom_size,[q,r,b],angle)\n",
    "                                im_names.append(f\"bl{str(bl).replace('.','').replace('-','neg')}_offx{str(offx).replace('.','').replace('-','neg')}_offy{str(offy).replace('.','').replace('-','neg')}_as{str(atom_size).replace('.','')}_strain{str(q).replace('.','')}{str(r).replace('.','')}{str(b).replace('.','')}_angle{str(angle).replace('.','').replace('-','neg')}.png\")\n",
    "                                central_atom_x_labels.append(im.central_atom[0])\n",
    "                                central_atom_y_labels.append(im.central_atom[1])\n",
    "                                neighbor_vect_1_x_labels.append(im.neighbor_vects[0][0])\n",
    "                                neighbor_vect_1_y_labels.append(im.neighbor_vects[0][1])\n",
    "                                neighbor_vect_2_x_labels.append(im.neighbor_vects[1][0])\n",
    "                                neighbor_vect_2_y_labels.append(im.neighbor_vects[1][1])\n",
    "                                neighbor_vect_3_x_labels.append(im.neighbor_vects[2][0])\n",
    "                                neighbor_vect_3_y_labels.append(im.neighbor_vects[2][1])\n",
    "                                im.im_fin.save(os.path.join(train_dataset_dir,f\"bl{str(bl).replace('.','').replace('-','neg')}_offx{str(offx).replace('.','').replace('-','neg')}_offy{str(offy).replace('.','').replace('-','neg')}_as{str(atom_size).replace('.','')}_strain{str(q).replace('.','')}{str(r).replace('.','')}{str(b).replace('.','')}_angle{str(angle).replace('.','').replace('-','neg')}.png\"))\n",
    "\n",
    "data={\n",
    "    'filename':im_names,'x_coord':central_atom_x_labels,'y_coord':central_atom_y_labels, \n",
    "    'neighbor1x':neighbor_vect_1_x_labels, 'neighbor1y':neighbor_vect_1_y_labels,\n",
    "    'neighbor2x':neighbor_vect_2_x_labels, 'neighbor2y':neighbor_vect_2_y_labels,\n",
    "    'neighbor3x':neighbor_vect_3_x_labels, 'neighbor3y':neighbor_vect_3_y_labels,\n",
    "    }\n",
    "df=pd.DataFrame(data)\n",
    "df.to_csv(os.path.join(train_dataset_dir,\"training_dataframe.csv\"),index=False)"
   ]
  },
  {
   "cell_type": "code",
   "execution_count": 8,
   "metadata": {},
   "outputs": [],
   "source": []
  },
  {
   "cell_type": "code",
   "execution_count": null,
   "metadata": {},
   "outputs": [],
   "source": []
  }
 ],
 "metadata": {
  "kernelspec": {
   "display_name": "Python 3",
   "language": "python",
   "name": "python3"
  },
  "language_info": {
   "codemirror_mode": {
    "name": "ipython",
    "version": 3
   },
   "file_extension": ".py",
   "mimetype": "text/x-python",
   "name": "python",
   "nbconvert_exporter": "python",
   "pygments_lexer": "ipython3",
   "version": "3.7.7-final"
  }
 },
 "nbformat": 4,
 "nbformat_minor": 4
}