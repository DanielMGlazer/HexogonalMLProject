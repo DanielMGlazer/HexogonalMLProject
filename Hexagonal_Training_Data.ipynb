{
 "cells": [
  {
   "cell_type": "code",
   "execution_count": 10,
   "metadata": {
    "init_cell": true
   },
   "outputs": [],
   "source": [
    "#Packages\n",
    "import collections\n",
    "import math\n",
    "import matplotlib.pyplot as plt\n",
    "from PIL import Image, ImageDraw, ImageFont, ImageColor\n",
    "import numpy as np \n",
    "from scipy.stats import norm\n",
    "from scipy import ndimage\n",
    "import json\n",
    "import pandas as pd\n",
    "import os\n",
    "from tqdm import tqdm_notebook"
   ]
  },
  {
   "cell_type": "code",
   "execution_count": 2,
   "metadata": {
    "code_folding": [
     4,
     15,
     21,
     27,
     35,
     42,
     55
    ],
    "init_cell": true
   },
   "outputs": [],
   "source": [
    "#Defining functions of hexogonal grid\n",
    "Point = collections.namedtuple(\"Point\", [\"x\", \"y\"])\n",
    "_Hex = collections.namedtuple(\"Hex\", [\"q\", \"r\", \"s\"])\n",
    "\n",
    "def Hex(q, r, s): #creates the hexagon datatype \n",
    "    assert not (round(q + r + s) != 0), \"q + r + s must be 0\"\n",
    "    return _Hex(q, r, s)\n",
    "\n",
    "# Datatypes for pointy top or flattop lattices\n",
    "Orientation = collections.namedtuple(\"Orientation\", [\"f0\", \"f1\", \"f2\", \"f3\", \"b0\", \"b1\", \"b2\", \"b3\", \"start_angle\"])\n",
    "Layout = collections.namedtuple(\"Layout\", [\"orientation\", \"size\", \"origin\"])\n",
    "layout_pointy = Orientation(math.sqrt(3.0), math.sqrt(3.0) / 2.0, 0.0, 3.0 / 2.0, math.sqrt(3.0) / 3.0, -1.0 / 3.0, 0.0, 2.0 / 3.0, 0.5)\n",
    "layout_flat = Orientation(3.0 / 2.0, 0.0, math.sqrt(3.0) / 2.0, math.sqrt(3.0), 2.0 / 3.0, 0.0, -1.0 / 3.0, math.sqrt(3.0) / 3.0, 0.0)\n",
    "\n",
    "#Unit vectors defining three axes of strain. From the center of a hexagon unit cell, q points to the downward right face, r points to the downward face, and b points to the downward right face. q and r also are the same axes the hexagonal lattice is defined with.\n",
    "r_hat=np.array([0,1])\n",
    "q_hat=np.array([math.sqrt(3)/2,1/2])\n",
    "b_hat=r_hat-q_hat\n",
    "b_hat=b_hat/np.linalg.norm(b_hat)\n",
    "#Functions for locating points in xy coordinates\n",
    "def hex_to_pixel(layout, h, strain): #returns the x,y coordinate of the center of the hexagon, strain is an array [q,r,s] of percent strain in each direction\n",
    "    M = layout.orientation\n",
    "    x = ((M.f0*h.q+M.f1*h.r))*layout.size[0]\n",
    "    y = ((M.f2*h.q+M.f3*h.r))*layout.size[1]\n",
    "    h_b=h.r-h.q\n",
    "    strain_vec_q=np.array([strain[0]*layout.size[0]*(h.q+1/2*h.r)*q_hat[0],strain[0]*layout.size[1]*(h.q+1/2*h.r)*q_hat[1]])\n",
    "    strain_vec_r=np.array([strain[1]*layout.size[0]*(h.r+1/2*h.q)*r_hat[0],strain[1]*layout.size[1]*(h.r+1/2*h.q)*r_hat[1]])\n",
    "    strain_vec_b=np.array([strain[2]*layout.size[0]*(h_b-1/2*h.r+1/2*h.q)*b_hat[0],strain[2]*layout.size[1]*(h_b-1/2*h.r+1/2*h.q)*b_hat[1]])\n",
    "    strain_vec=strain_vec_q+strain_vec_r+strain_vec_b\n",
    "    return Point(x +strain_vec[0]+ layout.origin[0] , y +strain_vec[1]+ layout.origin[1])\n",
    "\n",
    "def hex_corner_offset(layout, corner): #Returns how far off each corner is from the center point\n",
    "    M = layout.orientation\n",
    "    size = layout.size\n",
    "    angle = 2.0 * math.pi * (M.start_angle - corner) / 6.0\n",
    "    return Point(size[0] * math.cos(angle), size[1] * math.sin(angle))\n",
    "\n",
    "\n",
    "r_strain_order=[0,-1,-1,0,1,1]\n",
    "q_strain_order=[1,0,-1,-1,0,1]\n",
    "b_strain_order=[-1,-1,0,1,1,0]\n",
    "def get_corner_strain_vec(i,strain):\n",
    "    strain_order_vec=np.array([q_strain_order[i],r_strain_order[i],b_strain_order[i]])\n",
    "    strain_vec=q_hat/2*strain[0]*strain_order_vec[0]+r_hat/2*strain[1]*strain_order_vec[1]+b_hat/2*strain[2]*strain_order_vec[2]\n",
    "    return strain_vec\n",
    "\n",
    "def polygon_corners(layout, h,strain): #Creates an array of corners by applying the corner offset method to the center six times\n",
    "    corners = []\n",
    "    center = hex_to_pixel(layout, h,strain)\n",
    "    for i in range(0, 6):\n",
    "        offset = hex_corner_offset(layout, i)\n",
    "        strain_vec=get_corner_strain_vec(i,strain)\n",
    "        corners.append(Point(center.x + offset.x + strain_vec[0]*layout.size[0], center.y + offset.y + strain_vec[1]*layout.size[1]))\n",
    "    return corners\n",
    "\n",
    "def get_neighbor_vec(layout,strain,i,R): #Creates an array of corners by applying the corner offset method to the center six times\n",
    "    offset = hex_corner_offset(layout, i)\n",
    "    strain_vec=get_corner_strain_vec(i,strain)\n",
    "    vec_init=np.array([offset.x + strain_vec[0]*layout.size[0], offset.y + strain_vec[1]*layout.size[1]])\n",
    "    vec=rotate_vec(vec_init,R)\n",
    "    return np.array([vec[0],vec[1]])\n",
    "\n",
    "def to_array(corners): # turns corners into an array of arrays for coordinates\n",
    "    array_corners=[]\n",
    "    for p in corners:\n",
    "        array_corners.append([p.x,p.y])\n",
    "    return array_corners\n",
    "\n",
    "# Creates rectangular map of hexagons for flat top, origin is in top left\n",
    "def rect_map(map_height,map_width):\n",
    "    map=[]\n",
    "    for q in range(-map_height,map_height):\n",
    "        q_offset=math.floor(q/2)\n",
    "        for r in range(-map_width-q_offset,map_width-q_offset):\n",
    "            #map.append(Hex(q,r-map_height//2,-(q)-(r-map_height//2)))\n",
    "            map.append(Hex(q,r,-q-r))\n",
    "    return map\n",
    "\n",
    "#Gaussian function to be used globably\n",
    "Gaussian= lambda x,scl,amp: amp*math.e**(-0.5*(x/scl)**2)\n",
    "\n",
    "#Labeling methods\n",
    "def distance(a,mid): #Returns the distance between two pixels\n",
    "    dist_vec=np.array((mid[0]-a[0],mid[1]-a[1]))\n",
    "    distance=np.linalg.norm(dist_vec)\n",
    "    return distance\n",
    "\n",
    "#Rotation method\n",
    "def rotate_vec(v,R,_origin=[0,0]): #Rotates given point by predetermined angle around origin, which is set to (0,0) by default\n",
    "    org=np.array(_origin)\n",
    "    vec=v-org\n",
    "    return np.tensordot(R,vec,axes=1)"
   ]
  },
  {
   "cell_type": "code",
   "execution_count": 3,
   "metadata": {},
   "outputs": [],
   "source": [
    "# layout_test=Layout(layout_flat,[8,8],[0,0])\n",
    "# angle_t=math.pi/16\n",
    "# c,s= np.cos(angle_t),np.sin(angle_t)\n",
    "# R_test=np.matrix([[c,s],[-s,c]])\n",
    "# print(get_neighbor_vec(layout_test,[0,0,0],0,R_test))"
   ]
  },
  {
   "cell_type": "code",
   "execution_count": 4,
   "metadata": {
    "code_folding": [
     6,
     20,
     37,
     45,
     52,
     59,
     68,
     75,
     93,
     122,
     128
    ],
    "init_cell": true
   },
   "outputs": [],
   "source": [
    "#Class for training images\n",
    "class Training_im:\n",
    "\n",
    "    image_size=[32,32]\n",
    "    background_color=ImageColor.getrgb(\"hsl(46,0%,50%)\")\n",
    "\n",
    "    def __init__(self,bond_lengths,origin,atom_size,strain,angle):\n",
    "        self.bl=bond_lengths #bond lengths in [x,y] scaleing\n",
    "        self.o=origin #orignin from which to draw lattice. In effect will shift the entire image up and down\n",
    "        self.atom_size=atom_size #Standard deviation of the gaussian each atom is represented by\n",
    "        self.strain=np.array(strain) #Strain in [q,r,b] direction, number is percent strain in that direction, ie q=.5 adds 50% of the bond length to each point in the q direction\n",
    "        theta=np.radians(angle)\n",
    "        c,s= np.cos(theta),np.sin(theta)\n",
    "        self.R=np.matrix([[c,s],[-s,c]]) #Rotation matrix for given angle. Rotates counterclockwise\n",
    "        self.im=Image.new(\"RGB\",self.image_size,color=self.background_color)\n",
    "        self.pixel_array=np.array(self.im)\n",
    "        self.blob_values_array=np.zeros((self.image_size[1],self.image_size[0]))\n",
    "        self.mid=Point(self.image_size[0]//2,self.image_size[1]//2)\n",
    "        self.layout=Layout(layout_flat,self.bl,self.o)\n",
    "        self.atom_locs=[]\n",
    "        self.make_im()\n",
    "        self.neighbor_vects=[]\n",
    "        self.central_atom=[]\n",
    "        self.label_im()\n",
    "    #Plotting methods\n",
    "\n",
    "    def gauss_circ(self,p,radius):\n",
    "        #radius is a given param that represents the standard deviation of the gaussian\n",
    "        #plot_rad is some multiple of the radius given, it is the radius of the circle to be plotted\n",
    "        _scale=radius\n",
    "        plot_rad=4*radius\n",
    "        color_amp=100\n",
    "        color_scaling=lambda x: Gaussian(x,_scale,color_amp)\n",
    "        \n",
    "        for x in range(math.floor(max(p[0]-plot_rad,0)),math.floor(min(p[0]+plot_rad,self.image_size[0]))):\n",
    "            for y in range(math.floor(max(p[1]-plot_rad,0)),math.floor(min(p[1]+plot_rad,self.image_size[1]))):\n",
    "                dist_vec=np.array([x-p[0],y-p[1]])\n",
    "                distance=np.linalg.norm(dist_vec)\n",
    "                self.blob_values_array[y][x]+=color_scaling(distance)\n",
    "\n",
    "    #Takes all float values in blob_values_array and converts them to an hsl color with the corresponding lightness value. This color is then convereted to rgb and stored in pixel_array     \n",
    "    def gauss_to_color(self):\n",
    "        for i in range(self.image_size[0]):\n",
    "            for j in range(self.image_size[1]):\n",
    "                rgbcolor=ImageColor.getrgb(f\"hsl(46,{min(math.floor(self.blob_values_array[j][i]),100)}%,50%)\")\n",
    "                self.pixel_array[j][i][0]=rgbcolor[0]\n",
    "                self.pixel_array[j][i][1]=rgbcolor[1]\n",
    "                self.pixel_array[j][i][2]=rgbcolor[2]\n",
    "\n",
    "    \n",
    "    def plot_hex_dots(self): #Calls gauss_circ on every point in atom_locs\n",
    "        for p in self.atom_locs:\n",
    "            self.gauss_circ(p,self.atom_size)\n",
    "        \n",
    "    #Rotation methods\n",
    "    def rotate_point(self,p): #Rotates given point by predetermined angle around origin, which is set to (0,0) by default\n",
    "        origin=np.array(self.o)\n",
    "        v=np.array(p)\n",
    "        vec=v-origin\n",
    "        rot_point=np.tensordot(self.R,vec,axes=1)\n",
    "        return [rot_point[0]+origin[0],rot_point[1]+origin[1]]\n",
    "        \n",
    "    def rotate_atoms(self,atom_locs): #Rotates all the atom locations in the given array\n",
    "        atom_locs_rot=[]\n",
    "        for p in atom_locs:\n",
    "            atom_locs_rot.append(self.rotate_point(p))\n",
    "        return atom_locs_rot\n",
    "\n",
    "    #Neighbor methods\n",
    "    def get_atom_locs(self,_map): # Returns an array of all the atomic locations in the map\n",
    "        atom_locs=[]\n",
    "        for h in _map:\n",
    "            corners=to_array(polygon_corners(self.layout,h,self.strain))\n",
    "            for corner in corners[0:2]:\n",
    "                atom_locs.append(corner)\n",
    "        atom_locs_rot=self.rotate_atoms(atom_locs)\n",
    "        return atom_locs_rot\n",
    "    \n",
    "    def get_central_atom(self,atom_locs): #Returns the atom closest to the center pixel of the image\n",
    "        center_atom=[]\n",
    "        min_dist=self.image_size[0]\n",
    "        for a in atom_locs:\n",
    "            if distance(a,self.mid)<=min_dist:\n",
    "                min_dist=distance(a,self.mid)\n",
    "                center_atom=a\n",
    "        return center_atom\n",
    "\n",
    "    def color_central_atom(self): #Draws the central atom in white in pixel_array\n",
    "        assert self.map != 'NoneType'\n",
    "        atom_locs=self.get_atom_locs(self.map)\n",
    "        central_atom=self.get_central_atom(atom_locs)\n",
    "        for i in range(3):\n",
    "            self.pixel_array[math.floor(central_atom[1])][math.floor(central_atom[0])][i]=255\n",
    "\n",
    "    def color_neighbors(self): #Draws the nearest neighbors in red, blue, and green in pixel_array\n",
    "        assert self.map != 'NoneType'\n",
    "        atom_locs=self.get_atom_locs(self.map)\n",
    "        central_atom=self.get_central_atom(atom_locs)\n",
    "        neighbors=self.get_nearest_neighbors(atom_locs,central_atom)\n",
    "        i=0\n",
    "        for n in neighbors:\n",
    "            if n[0]<self.image_size[0] and n[1]<self.image_size[1]:\n",
    "                self.pixel_array[math.floor(n[1])][math.floor(n[0])][i]=225\n",
    "                self.pixel_array[math.floor(n[1])][math.floor(n[0])][i-1]=0\n",
    "                self.pixel_array[math.floor(n[1])][math.floor(n[0])][i-2]=0\n",
    "            i+=1\n",
    "        \n",
    "    \n",
    "    def initialize_neighbor_vec(self): #Initializes the neighbor vectors based on size/bond lentgh\n",
    "        self.neighbor_vect_arr=[]\n",
    "        for i in range(6):\n",
    "            self.neighbor_vect_arr.append(get_neighbor_vec(self.layout,self.strain,i,self.R))\n",
    "\n",
    "    #Returns whether the central atom is on the right or left of the two triangular sublattices\n",
    "    def get_isRight(self,central):\n",
    "        isRight=False\n",
    "        left_neighbor_x=central[0]+self.neighbor_vect_arr[3][0]\n",
    "        left_neighbor_y=central[1]+self.neighbor_vect_arr[3][1]\n",
    "        for a in self.atom_locs:\n",
    "            if left_neighbor_x-1<=a[0] and left_neighbor_x+1>=a[0]:\n",
    "                if left_neighbor_y-1<=a[1] and left_neighbor_y+1>=a[1]:\n",
    "                    isRight=True\n",
    "        return isRight\n",
    "    def get_nearest_neighbors(self,atom_locs,central): #Returns the nearest neighbors to the central atom. \n",
    "        #Doesn't search atom locations, just spits out where the neighbors should be given central location\n",
    "        neighbors=[]\n",
    "        self.isRight=self.get_isRight(central)\n",
    "        if self.isRight:\n",
    "            neighbors.append(np.add(self.neighbor_vect_arr[3],central))\n",
    "            neighbors.append(np.add(self.neighbor_vect_arr[5],central))\n",
    "            neighbors.append(np.add(self.neighbor_vect_arr[1],central))\n",
    "        else:\n",
    "            neighbors.append(np.add(self.neighbor_vect_arr[0],central))\n",
    "            neighbors.append(np.add(self.neighbor_vect_arr[2],central))\n",
    "            neighbors.append(np.add(self.neighbor_vect_arr[4],central))\n",
    "        return neighbors\n",
    "    \n",
    "    \n",
    "\n",
    "\n",
    "    #Runs the methods required to draw the image and saves the final array as an Image instance\n",
    "    def make_im(self):\n",
    "        \n",
    "        self.initialize_neighbor_vec()\n",
    "        mapsize_x=math.floor(self.image_size[0]/(math.sqrt(3)*self.bl[0])*2)\n",
    "        mapsize_y=math.floor(self.image_size[1]/(2*self.bl[1])*2)\n",
    "        self.map=rect_map(mapsize_x,mapsize_y)\n",
    "        self.atom_locs=self.get_atom_locs(self.map)\n",
    "        self.plot_hex_dots()\n",
    "        self.gauss_to_color()\n",
    "        self.im_fin=Image.fromarray(self.pixel_array)\n",
    "   \n",
    "    #Runs the methods to color the central atom and neighbors \n",
    "    def color_data(self):\n",
    "        self.color_central_atom()\n",
    "        self.color_neighbors()\n",
    "        self.im_fin=Image.fromarray(self.pixel_array)\n",
    "    \n",
    "    #Labels images with central atom and neighbor vectors scaled to the size of the image\n",
    "    def label_im(self):\n",
    "        central_atom=self.get_central_atom(self.atom_locs)\n",
    "        neighbors=self.get_nearest_neighbors(self.atom_locs,central_atom)\n",
    "        self.central_atom=[central_atom[0]/self.image_size[0],central_atom[1]/self.image_size[1]]\n",
    "        for n in neighbors:\n",
    "            self.neighbor_vects.append([(central_atom[0]-n[0])/self.image_size[0],(central_atom[1]-n[1])/self.image_size[1]])\n",
    "\n",
    "    \n"
   ]
  },
  {
   "cell_type": "code",
   "execution_count": 8,
   "metadata": {},
   "outputs": [
    {
     "output_type": "execute_result",
     "data": {
      "text/plain": "(-0.5, 31.5, 31.5, -0.5)"
     },
     "metadata": {},
     "execution_count": 8
    },
    {
     "output_type": "display_data",
     "data": {
      "text/plain": "<Figure size 720x720 with 1 Axes>",
      "image/svg+xml": "<?xml version=\"1.0\" encoding=\"utf-8\" standalone=\"no\"?>\r\n<!DOCTYPE svg PUBLIC \"-//W3C//DTD SVG 1.1//EN\"\r\n  \"http://www.w3.org/Graphics/SVG/1.1/DTD/svg11.dtd\">\r\n<!-- Created with matplotlib (https://matplotlib.org/) -->\r\n<svg height=\"558pt\" version=\"1.1\" viewBox=\"0 0 558 558\" width=\"558pt\" xmlns=\"http://www.w3.org/2000/svg\" xmlns:xlink=\"http://www.w3.org/1999/xlink\">\r\n <defs>\r\n  <style type=\"text/css\">\r\n*{stroke-linecap:butt;stroke-linejoin:round;}\r\n  </style>\r\n </defs>\r\n <g id=\"figure_1\">\r\n  <g id=\"patch_1\">\r\n   <path d=\"M 0 558 \r\nL 558 558 \r\nL 558 0 \r\nL 0 0 \r\nz\r\n\" style=\"fill:none;\"/>\r\n  </g>\r\n  <g id=\"axes_1\">\r\n   <g clip-path=\"url(#p862652257f)\">\r\n    <image height=\"544\" id=\"imagedec64faa17\" transform=\"scale(1 -1)translate(0 -544)\" width=\"544\" x=\"7.2\" xlink:href=\"data:image/png;base64,\r\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\" y=\"-6.8\"/>\r\n   </g>\r\n  </g>\r\n </g>\r\n <defs>\r\n  <clipPath id=\"p862652257f\">\r\n   <rect height=\"543.6\" width=\"543.6\" x=\"7.2\" y=\"7.2\"/>\r\n  </clipPath>\r\n </defs>\r\n</svg>\r\n",
      "image/png": "[encoded data removed]"
     },
     "metadata": {
      "needs_background": "light"
     }
    }
   ],
   "source": [
    "#Plotting images\n",
    "#bond_lengths=[8/2,math.sqrt(3)/2*8]\n",
    "bond_length=8.2\n",
    "origin=[0,0]\n",
    "atom_size=2\n",
    "#strain[q,r,b]\n",
    "strain=[0,0,0]\n",
    "#anlge in degrees\n",
    "angle=0\n",
    "im=Training_im([bond_length,bond_length],origin,atom_size,strain,angle)\n",
    "#im.color_data()\n",
    "#print(im.get_nearest_neighbors(im.atom_locs,im.get_central_atom(im.atom_locs)))\n",
    "#print(im.atom_locs)\n",
    "#print(im.neighbor_vects)\n",
    "#im.im_fin.save(\"rotated_angle_160.png\")\n",
    "fig = plt.figure(figsize = (10, 10))\n",
    "ax = plt.subplot(1,1,1)\n",
    "ax.imshow(im.im_fin)\n",
    "ax.axis('off')"
   ]
  },
  {
   "cell_type": "markdown",
   "metadata": {},
   "source": [
    "#Creates training set and DataFrame with labels\n",
    "train_dataset_dir ='\\\\Users\\\\danie\\\\Penn_State_REU_Jupyter\\\\Hexagon ML Project\\\\Training_set_6_15' \n",
    "\n",
    "im_names=[]\n",
    "central_atom_x_labels=[]\n",
    "central_atom_y_labels=[]\n",
    "neighbor_vect_1_x_labels=[]\n",
    "neighbor_vect_1_y_labels=[]\n",
    "neighbor_vect_2_x_labels=[]\n",
    "neighbor_vect_2_y_labels=[]\n",
    "neighbor_vect_3_x_labels=[]\n",
    "neighbor_vect_3_y_labels=[]\n",
    "for bl in tqdm_notebook(np.linspace(7,9,num=4),desc='bl'):\n",
    "    for offx in tqdm_notebook(np.linspace(-5,5,num=5),desc='offx'):\n",
    "        for offy in tqdm_notebook(np.linspace(-5,5,num=5),desc='offy'):\n",
    "            for atom_size in np.linspace(1.5,2.5,num=3):\n",
    "                for q in np.linspace(0,.1,num=5):\n",
    "                    for r in np.linspace(0,.1,num=5):\n",
    "                        for b in np.linspace(0,.1,num=5):\n",
    "                            for angle in np.linspace(-30,30,num=8):\n",
    "                                im=Training_im([bl,bl],[offx,offy],atom_size,[q,r,b],angle)\n",
    "                                im_names.append(f\"bl{str(bl).replace('.','').replace('-','neg')}_offx{str(offx).replace('.','').replace('-','neg')}_offy{str(offy).replace('.','').replace('-','neg')}_as{str(atom_size).replace('.','')}_strain{str(q).replace('.','')}{str(r).replace('.','')}{str(b).replace('.','')}_angle{str(angle).replace('.','').replace('-','neg')}.png\")\n",
    "                                central_atom_x_labels.append(im.central_atom[0])\n",
    "                                central_atom_y_labels.append(im.central_atom[1])\n",
    "                                neighbor_vect_1_x_labels.append(im.neighbor_vects[0][0])\n",
    "                                neighbor_vect_1_y_labels.append(im.neighbor_vects[0][1])\n",
    "                                neighbor_vect_2_x_labels.append(im.neighbor_vects[1][0])\n",
    "                                neighbor_vect_2_y_labels.append(im.neighbor_vects[1][1])\n",
    "                                neighbor_vect_3_x_labels.append(im.neighbor_vects[2][0])\n",
    "                                neighbor_vect_3_y_labels.append(im.neighbor_vects[2][1])\n",
    "                                im.im_fin.save(os.path.join(train_dataset_dir,f\"bl{str(bl).replace('.','').replace('-','neg')}_offx{str(offx).replace('.','').replace('-','neg')}_offy{str(offy).replace('.','').replace('-','neg')}_as{str(atom_size).replace('.','')}_strain{str(q).replace('.','')}{str(r).replace('.','')}{str(b).replace('.','')}_angle{str(angle).replace('.','').replace('-','neg')}.png\"))\n",
    "\n",
    "data={\n",
    "    'filename':im_names,'x_coord':central_atom_x_labels,'y_coord':central_atom_y_labels, \n",
    "    'neighbor1x':neighbor_vect_1_x_labels, 'neighbor1y':neighbor_vect_1_y_labels,\n",
    "    'neighbor2x':neighbor_vect_2_x_labels, 'neighbor2y':neighbor_vect_2_y_labels,\n",
    "    'neighbor3x':neighbor_vect_3_x_labels, 'neighbor3y':neighbor_vect_3_y_labels,\n",
    "    }\n",
    "df=pd.DataFrame(data)\n",
    "df.to_csv(os.path.join(train_dataset_dir,\"training_dataframe.csv\"),index=False)"
   ]
  },
  {
   "cell_type": "code",
   "execution_count": 14,
   "metadata": {},
   "outputs": [
    {
     "output_type": "display_data",
     "data": {
      "text/plain": "HBox(children=(FloatProgress(value=0.0, description='bl', max=3.0, style=ProgressStyle(description_width='init…",
      "application/vnd.jupyter.widget-view+json": {
       "version_major": 2,
       "version_minor": 0,
       "model_id": "04d0e225551c441fae9ac58cc178f389"
      }
     },
     "metadata": {}
    },
    {
     "output_type": "display_data",
     "data": {
      "text/plain": "HBox(children=(FloatProgress(value=0.0, description='offx', max=3.0, style=ProgressStyle(description_width='in…",
      "application/vnd.jupyter.widget-view+json": {
       "version_major": 2,
       "version_minor": 0,
       "model_id": "03933b9ebb0b46a18123cf89461cbd2c"
      }
     },
     "metadata": {}
    },
    {
     "output_type": "display_data",
     "data": {
      "text/plain": "HBox(children=(FloatProgress(value=0.0, description='offy', max=3.0, style=ProgressStyle(description_width='in…",
      "application/vnd.jupyter.widget-view+json": {
       "version_major": 2,
       "version_minor": 0,
       "model_id": "442c5f40cc52414990c8f4f4992fea34"
      }
     },
     "metadata": {}
    },
    {
     "output_type": "stream",
     "name": "stdout",
     "text": "\n"
    },
    {
     "output_type": "display_data",
     "data": {
      "text/plain": "HBox(children=(FloatProgress(value=0.0, description='offy', max=3.0, style=ProgressStyle(description_width='in…",
      "application/vnd.jupyter.widget-view+json": {
       "version_major": 2,
       "version_minor": 0,
       "model_id": "dc790a7f86d44760a2ae2c3a422ee2ba"
      }
     },
     "metadata": {}
    },
    {
     "output_type": "stream",
     "name": "stdout",
     "text": "\n"
    },
    {
     "output_type": "display_data",
     "data": {
      "text/plain": "HBox(children=(FloatProgress(value=0.0, description='offy', max=3.0, style=ProgressStyle(description_width='in…",
      "application/vnd.jupyter.widget-view+json": {
       "version_major": 2,
       "version_minor": 0,
       "model_id": "167a6131d6d545a782dddf810ffae645"
      }
     },
     "metadata": {}
    },
    {
     "output_type": "stream",
     "name": "stdout",
     "text": "\n\n"
    },
    {
     "output_type": "display_data",
     "data": {
      "text/plain": "HBox(children=(FloatProgress(value=0.0, description='offx', max=3.0, style=ProgressStyle(description_width='in…",
      "application/vnd.jupyter.widget-view+json": {
       "version_major": 2,
       "version_minor": 0,
       "model_id": "1524e51a65df4795ad0d22b155d6f330"
      }
     },
     "metadata": {}
    },
    {
     "output_type": "display_data",
     "data": {
      "text/plain": "HBox(children=(FloatProgress(value=0.0, description='offy', max=3.0, style=ProgressStyle(description_width='in…",
      "application/vnd.jupyter.widget-view+json": {
       "version_major": 2,
       "version_minor": 0,
       "model_id": "ed62a26fe3e84950a6c3bdcceacb71bd"
      }
     },
     "metadata": {}
    },
    {
     "output_type": "stream",
     "name": "stdout",
     "text": "\n"
    },
    {
     "output_type": "display_data",
     "data": {
      "text/plain": "HBox(children=(FloatProgress(value=0.0, description='offy', max=3.0, style=ProgressStyle(description_width='in…",
      "application/vnd.jupyter.widget-view+json": {
       "version_major": 2,
       "version_minor": 0,
       "model_id": "4cc1e8e8fd584acb854e7ffbe4bbf1ce"
      }
     },
     "metadata": {}
    },
    {
     "output_type": "stream",
     "name": "stdout",
     "text": "\n"
    },
    {
     "output_type": "display_data",
     "data": {
      "text/plain": "HBox(children=(FloatProgress(value=0.0, description='offy', max=3.0, style=ProgressStyle(description_width='in…",
      "application/vnd.jupyter.widget-view+json": {
       "version_major": 2,
       "version_minor": 0,
       "model_id": "e2c30a5eb6624a0997dc8d0356f37c8e"
      }
     },
     "metadata": {}
    },
    {
     "output_type": "stream",
     "name": "stdout",
     "text": "\n\n"
    },
    {
     "output_type": "display_data",
     "data": {
      "text/plain": "HBox(children=(FloatProgress(value=0.0, description='offx', max=3.0, style=ProgressStyle(description_width='in…",
      "application/vnd.jupyter.widget-view+json": {
       "version_major": 2,
       "version_minor": 0,
       "model_id": "698ef23867a34da9aed73283a2ac2cb7"
      }
     },
     "metadata": {}
    },
    {
     "output_type": "display_data",
     "data": {
      "text/plain": "HBox(children=(FloatProgress(value=0.0, description='offy', max=3.0, style=ProgressStyle(description_width='in…",
      "application/vnd.jupyter.widget-view+json": {
       "version_major": 2,
       "version_minor": 0,
       "model_id": "aaefdd84fae448969c3e12742504a09a"
      }
     },
     "metadata": {}
    },
    {
     "output_type": "stream",
     "name": "stdout",
     "text": "\n"
    },
    {
     "output_type": "display_data",
     "data": {
      "text/plain": "HBox(children=(FloatProgress(value=0.0, description='offy', max=3.0, style=ProgressStyle(description_width='in…",
      "application/vnd.jupyter.widget-view+json": {
       "version_major": 2,
       "version_minor": 0,
       "model_id": "655ab98530d9444daae18bebf0a26d39"
      }
     },
     "metadata": {}
    },
    {
     "output_type": "stream",
     "name": "stdout",
     "text": "\n"
    },
    {
     "output_type": "display_data",
     "data": {
      "text/plain": "HBox(children=(FloatProgress(value=0.0, description='offy', max=3.0, style=ProgressStyle(description_width='in…",
      "application/vnd.jupyter.widget-view+json": {
       "version_major": 2,
       "version_minor": 0,
       "model_id": "657e32180dbb498e83028207554c1f68"
      }
     },
     "metadata": {}
    },
    {
     "output_type": "stream",
     "name": "stdout",
     "text": "\n\n\n"
    }
   ],
   "source": [
    "#Creates testing set and DataFrame with labels\n",
    "train_dataset_dir ='\\\\Users\\\\danie\\\\Penn_State_REU_Jupyter\\\\Hexagon ML Project GitHub\\\\Testing_set_6_16' \n",
    "\n",
    "im_names=[]\n",
    "central_atom_x_labels=[]\n",
    "central_atom_y_labels=[]\n",
    "neighbor_vect_1_x_labels=[]\n",
    "neighbor_vect_1_y_labels=[]\n",
    "neighbor_vect_2_x_labels=[]\n",
    "neighbor_vect_2_y_labels=[]\n",
    "neighbor_vect_3_x_labels=[]\n",
    "neighbor_vect_3_y_labels=[]\n",
    "for bl in tqdm_notebook(np.linspace(7.3,9,num=3,endpoint=False),desc='bl'):\n",
    "    for offx in tqdm_notebook(np.linspace(-5.4,5,num=3,endpoint=False),desc='offx'):\n",
    "        for offy in tqdm_notebook(np.linspace(-5.6,5,num=3,endpoint=False),desc='offy'):\n",
    "            for atom_size in np.linspace(1.3,2.8,num=3,endpoint=False):\n",
    "                for q in np.linspace(0.003,.1,num=3,endpoint=False):\n",
    "                    for r in np.linspace(0.004,.1,num=3,endpoint=False):\n",
    "                        for b in np.linspace(0.002,.1,num=3,endpoint=False):\n",
    "                            for angle in np.linspace(-30.3,30,num=5,endpoint=False):\n",
    "                                im=Training_im([bl,bl],[offx,offy],atom_size,[q,r,b],angle)\n",
    "                                im_names.append(f\"bl{str(bl).replace('.','').replace('-','neg')}_offx{str(offx).replace('.','').replace('-','neg')}_offy{str(offy).replace('.','').replace('-','neg')}_as{str(atom_size).replace('.','')}_strain{str(q).replace('.','')}{str(r).replace('.','')}{str(b).replace('.','')}_angle{str(angle).replace('.','').replace('-','neg')}.png\")\n",
    "                                central_atom_x_labels.append(im.central_atom[0])\n",
    "                                central_atom_y_labels.append(im.central_atom[1])\n",
    "                                neighbor_vect_1_x_labels.append(im.neighbor_vects[0][0])\n",
    "                                neighbor_vect_1_y_labels.append(im.neighbor_vects[0][1])\n",
    "                                neighbor_vect_2_x_labels.append(im.neighbor_vects[1][0])\n",
    "                                neighbor_vect_2_y_labels.append(im.neighbor_vects[1][1])\n",
    "                                neighbor_vect_3_x_labels.append(im.neighbor_vects[2][0])\n",
    "                                neighbor_vect_3_y_labels.append(im.neighbor_vects[2][1])\n",
    "                                im.im_fin.save(os.path.join(train_dataset_dir,f\"bl{str(bl).replace('.','').replace('-','neg')}_offx{str(offx).replace('.','').replace('-','neg')}_offy{str(offy).replace('.','').replace('-','neg')}_as{str(atom_size).replace('.','')}_strain{str(q).replace('.','')}{str(r).replace('.','')}{str(b).replace('.','')}_angle{str(angle).replace('.','').replace('-','neg')}.png\"))\n",
    "\n",
    "data={\n",
    "    'filename':im_names,'x_coord':central_atom_x_labels,'y_coord':central_atom_y_labels, \n",
    "    'neighbor1x':neighbor_vect_1_x_labels, 'neighbor1y':neighbor_vect_1_y_labels,\n",
    "    'neighbor2x':neighbor_vect_2_x_labels, 'neighbor2y':neighbor_vect_2_y_labels,\n",
    "    'neighbor3x':neighbor_vect_3_x_labels, 'neighbor3y':neighbor_vect_3_y_labels,\n",
    "    }\n",
    "df=pd.DataFrame(data)\n",
    "df.to_csv(os.path.join(train_dataset_dir,\"training_dataframe.csv\"),index=False)"
   ]
  },
  {
   "cell_type": "code",
   "execution_count": null,
   "metadata": {},
   "outputs": [],
   "source": []
  }
 ],
 "metadata": {
  "kernelspec": {
   "display_name": "Python 3",
   "language": "python",
   "name": "python3"
  },
  "language_info": {
   "codemirror_mode": {
    "name": "ipython",
    "version": 3
   },
   "file_extension": ".py",
   "mimetype": "text/x-python",
   "name": "python",
   "nbconvert_exporter": "python",
   "pygments_lexer": "ipython3",
   "version": "3.7.7-final"
  }
 },
 "nbformat": 4,
 "nbformat_minor": 4
}