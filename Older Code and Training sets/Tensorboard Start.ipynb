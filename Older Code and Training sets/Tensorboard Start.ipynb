{
 "cells": [
  {
   "cell_type": "code",
   "execution_count": 17,
   "metadata": {
    "init_cell": true
   },
   "outputs": [],
   "source": [
    "from tensorflow.keras.callbacks import TensorBoard "
   ]
  },
  {
   "cell_type": "code",
   "execution_count": 18,
   "metadata": {
    "init_cell": true
   },
   "outputs": [
    {
     "name": "stdout",
     "output_type": "stream",
     "text": [
      "The tensorboard extension is already loaded. To reload it, use:\n",
      "  %reload_ext tensorboard\n"
     ]
    }
   ],
   "source": [
    "%load_ext tensorboard"
   ]
  },
  {
   "cell_type": "code",
   "execution_count": 19,
   "metadata": {},
   "outputs": [
    {
     "data": {
      "text/plain": [
       "Reusing TensorBoard on port 49706 (pid 19124), started 0:15:58 ago. (Use '!kill 19124' to kill it.)"
      ]
     },
     "metadata": {},
     "output_type": "display_data"
    },
    {
     "data": {
      "text/html": [
       "\n",
       "      <iframe id=\"tensorboard-frame-b2a4e916ea55d288\" width=\"100%\" height=\"800\" frameborder=\"0\">\n",
       "      </iframe>\n",
       "      <script>\n",
       "        (function() {\n",
       "          const frame = document.getElementById(\"tensorboard-frame-b2a4e916ea55d288\");\n",
       "          const url = new URL(\"/\", window.location);\n",
       "          url.port = 49706;\n",
       "          frame.src = url;\n",
       "        })();\n",
       "      </script>\n",
       "  "
      ],
      "text/plain": [
       "<IPython.core.display.HTML object>"
      ]
     },
     "metadata": {},
     "output_type": "display_data"
    }
   ],
   "source": [
    "%tensorboard --logdir Training_logs_butforreal/ --port 0"
   ]
  },
  {
   "cell_type": "code",
   "execution_count": 15,
   "metadata": {},
   "outputs": [
    {
     "name": "stdout",
     "output_type": "stream",
     "text": [
      "Known TensorBoard instances:\n",
      "  - port 6006: logdir logs/fit (started 6 days, 21:39:56 ago; pid 10216)\n",
      "  - port 6006: logdir logs/fit (started 6 days, 2:02:00 ago; pid 10656)\n",
      "  - port 6006: logdir /logs/fit (started 1 day, 0:21:59 ago; pid 12548)\n",
      "  - port 6006: logdir Training_set_6_10/logs/fit (started 5 days, 21:17:13 ago; pid 13120)\n",
      "  - port 6006: logdir Training_set_6_10/logs/fit (started 5 days, 21:11:38 ago; pid 15348)\n",
      "  - port 6006: logdir logs (started 1 day, 0:30:46 ago; pid 15440)\n",
      "  - port 6006: logdir logs (started 5 days, 21:40:08 ago; pid 16588)\n",
      "  - port 6006: logdir Training_log (started 1:05:28 ago; pid 16740)\n",
      "  - port 6006: logdir /logs/fit (started 1 day, 0:50:13 ago; pid 16776)\n",
      "  - port 6006: logdir Training_logs_butforreal/ (started 0:08:39 ago; pid 17788)\n",
      "  - port 6006: logdir /logs/fit (started 1 day, 0:53:53 ago; pid 1848)\n",
      "  - port 49706: logdir Training_logs_butforreal/ (started 0:07:19 ago; pid 19124)\n",
      "  - port 6006: logdir /logs/fit (started 1 day, 0:33:59 ago; pid 19904)\n",
      "  - port 6006: logdir Training_log (started 1:03:36 ago; pid 20236)\n",
      "  - port 6006: logdir logs/fit (started 1 day, 0:21:08 ago; pid 20584)\n",
      "  - port 6006: logdir Training_logs/ (started 0:00:04 ago; pid 22720)\n",
      "  - port 56645: logdir /logs/fit (started 1 day, 1:13:01 ago; pid 24592)\n",
      "  - port 63949: logdir /logs/fit (started 1 day, 0:46:09 ago; pid 26664)\n",
      "  - port 6006: logdir Training_logs/ (started 23:45:23 ago; pid 3588)\n",
      "  - port 6006: logdir Training_logs/fit (started 0:53:08 ago; pid 8504)\n",
      "  - port 6006: logdir Training_logs/ (started 23:14:14 ago; pid 944)\n"
     ]
    }
   ],
   "source": [
    "from tensorboard import notebook\n",
    "notebook.list()"
   ]
  },
  {
   "cell_type": "code",
   "execution_count": 16,
   "metadata": {},
   "outputs": [
    {
     "ename": "NameError",
     "evalue": "name 'tempfile' is not defined",
     "output_type": "error",
     "traceback": [
      "\u001b[1;31m---------------------------------------------------------------------------\u001b[0m",
      "\u001b[1;31mNameError\u001b[0m                                 Traceback (most recent call last)",
      "\u001b[1;32m<ipython-input-16-fff089e77091>\u001b[0m in \u001b[0;36m<module>\u001b[1;34m\u001b[0m\n\u001b[1;32m----> 1\u001b[1;33m \u001b[0mtempfile\u001b[0m\u001b[1;33m.\u001b[0m\u001b[0mgettempdir\u001b[0m\u001b[1;33m(\u001b[0m\u001b[1;33m)\u001b[0m\u001b[1;33m\u001b[0m\u001b[1;33m\u001b[0m\u001b[0m\n\u001b[0m",
      "\u001b[1;31mNameError\u001b[0m: name 'tempfile' is not defined"
     ]
    }
   ],
   "source": [
    "tempfile.gettempdir()"
   ]
  },
  {
   "cell_type": "code",
   "execution_count": null,
   "metadata": {},
   "outputs": [],
   "source": []
  }
 ],
 "metadata": {
  "kernelspec": {
   "display_name": "Python 3",
   "language": "python",
   "name": "python3"
  },
  "language_info": {
   "codemirror_mode": {
    "name": "ipython",
    "version": 3
   },
   "file_extension": ".py",
   "mimetype": "text/x-python",
   "name": "python",
   "nbconvert_exporter": "python",
   "pygments_lexer": "ipython3",
   "version": "3.7.7"
  }
 },
 "nbformat": 4,
 "nbformat_minor": 4
}
