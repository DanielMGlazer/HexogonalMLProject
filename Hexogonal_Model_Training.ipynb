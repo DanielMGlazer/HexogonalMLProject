{
 "cells": [
  {
   "cell_type": "code",
   "execution_count": 3,
   "metadata": {},
   "outputs": [],
   "source": [
    "#import tensorflow as tf\n",
    "import datetime\n",
    "from tensorflow.keras import layers\n",
    "from tensorflow.keras import models\n",
    "from tensorflow.keras import optimizers\n",
    "import numpy as np\n",
    "import matplotlib.pyplot as plt\n",
    "from tensorflow.keras.utils import to_categorical\n",
    "from tensorflow.keras.preprocessing.image import ImageDataGenerator\n",
    "from tensorflow.keras.preprocessing import image\n",
    "from tensorflow.keras.callbacks import TensorBoard\n",
    "import os, shutil\n",
    "from PIL import Image, ImageDraw, ImageFont, ImageColor\n",
    "import random\n",
    "import pandas as pd"
   ]
  },
  {
   "cell_type": "code",
   "execution_count": 4,
   "metadata": {},
   "outputs": [],
   "source": [
    "%reload_ext tensorboard"
   ]
  },
  {
   "cell_type": "code",
   "execution_count": 5,
   "metadata": {},
   "outputs": [],
   "source": [
    "train_dataset_dir ='\\\\Users\\\\danie\\\\Penn_State_REU_Jupyter\\\\Hexagon ML Project\\\\Training_set_6_10' \n",
    "\n",
    "df=pd.read_csv(os.path.join(train_dataset_dir,\"training_database.csv\"))\n",
    "df = df.sample(frac=1).reset_index(drop=True)"
   ]
  },
  {
   "cell_type": "code",
   "execution_count": 6,
   "metadata": {},
   "outputs": [
    {
     "output_type": "stream",
     "name": "stdout",
     "text": "filename   x_coord   y_coord\n0     bl8_offset0_as1.png  0.500000  0.433013\n1     bl6_offset6_as1.png  0.468750  0.487139\n2     bl6_offset7_as2.png  0.437500  0.487139\n3     bl7_offset5_as2.png  0.609375  0.568329\n4    bl8_offset13_as1.png  0.593750  0.433013\n..                    ...       ...       ...\n115   bl8_offset7_as1.png  0.406250  0.649519\n116   bl9_offset1_as2.png  0.531250  0.487139\n117  bl6_offset13_as2.png  0.625000  0.487139\n118   bl7_offset2_as1.png  0.484375  0.568329\n119   bl8_offset5_as1.png  0.468750  0.649519\n\n[120 rows x 3 columns]\n"
    }
   ],
   "source": [
    "#df.shape\n",
    "print(df)"
   ]
  },
  {
   "cell_type": "code",
   "execution_count": 7,
   "metadata": {},
   "outputs": [],
   "source": [
    "def build_model():\n",
    "    model = models.Sequential()                                  \n",
    "    model.add(layers.Conv2D(16, (3,3) ,activation='relu', input_shape=(32,32,3)))\n",
    "    model.add(layers.MaxPooling2D((2,2)))\n",
    "    model.add(layers.Conv2D(16,(3,3), activation='relu'))\n",
    "    model.add(layers.MaxPooling2D((2,2)))\n",
    "    model.add(layers.Flatten())\n",
    "    #model.add(layers.Dropout(0.2))\n",
    "    model.add(layers.Dense(64, activation='relu'))\n",
    "    model.add(layers.Dense(32, activation='relu'))\n",
    "    model.add(layers.Dense(2))\n",
    "    return model"
   ]
  },
  {
   "cell_type": "code",
   "execution_count": 8,
   "metadata": {},
   "outputs": [
    {
     "output_type": "stream",
     "name": "stdout",
     "text": "Found 96 validated image filenames.\nFound 24 validated image filenames.\n"
    }
   ],
   "source": [
    "#Creates generators for training and validation images\n",
    "SEED=5\n",
    "validation_split_frac=0.2\n",
    "batch_size=2\n",
    "train_datagen = ImageDataGenerator(rescale=1./255,validation_split=validation_split_frac) \n",
    "train_generator= train_datagen.flow_from_dataframe(\n",
    "        df,\n",
    "        directory=train_dataset_dir,\n",
    "        x_col=\"filename\",\n",
    "        y_col=['x_coord','y_coord'],\n",
    "        target_size=(32,32),\n",
    "        shuffle=True,\n",
    "        seed= SEED,\n",
    "        class_mode=\"raw\",\n",
    "        batch_size=batch_size,\n",
    "        subset='training')\n",
    "\n",
    "validation_generator= train_datagen.flow_from_dataframe(\n",
    "        df,\n",
    "        directory=train_dataset_dir,\n",
    "        x_col=\"filename\",\n",
    "        y_col=['x_coord','y_coord'],\n",
    "        target_size=(32,32),\n",
    "        shuffle=True,\n",
    "        seed= SEED,\n",
    "        class_mode=\"raw\",\n",
    "        batch_size=batch_size,\n",
    "        subset='validation')"
   ]
  },
  {
   "cell_type": "code",
   "execution_count": 14,
   "metadata": {
    "scrolled": true,
    "tags": [
     "outputPrepend",
     "outputPrepend",
     "outputPrepend",
     "outputPrepend",
     "outputPrepend",
     "outputPrepend",
     "outputPrepend",
     "outputPrepend",
     "outputPrepend",
     "outputPrepend",
     "outputPrepend",
     "outputPrepend",
     "outputPrepend",
     "outputPrepend",
     "outputPrepend",
     "outputPrepend",
     "outputPrepend",
     "outputPrepend",
     "outputPrepend",
     "outputPrepend",
     "outputPrepend",
     "outputPrepend",
     "outputPrepend",
     "outputPrepend",
     "outputPrepend",
     "outputPrepend",
     "outputPrepend",
     "outputPrepend",
     "outputPrepend",
     "outputPrepend",
     "outputPrepend",
     "outputPrepend",
     "outputPrepend",
     "outputPrepend",
     "outputPrepend",
     "outputPrepend",
     "outputPrepend",
     "outputPrepend",
     "outputPrepend",
     "outputPrepend",
     "outputPrepend",
     "outputPrepend",
     "outputPrepend",
     "outputPrepend",
     "outputPrepend",
     "outputPrepend",
     "outputPrepend",
     "outputPrepend",
     "outputPrepend",
     "outputPrepend",
     "outputPrepend",
     "outputPrepend",
     "outputPrepend",
     "outputPrepend",
     "outputPrepend",
     "outputPrepend",
     "outputPrepend",
     "outputPrepend",
     "outputPrepend",
     "outputPrepend",
     "outputPrepend",
     "outputPrepend",
     "outputPrepend",
     "outputPrepend",
     "outputPrepend",
     "outputPrepend",
     "outputPrepend",
     "outputPrepend",
     "outputPrepend",
     "outputPrepend",
     "outputPrepend",
     "outputPrepend",
     "outputPrepend",
     "outputPrepend",
     "outputPrepend",
     "outputPrepend",
     "outputPrepend",
     "outputPrepend",
     "outputPrepend",
     "outputPrepend",
     "outputPrepend",
     "outputPrepend",
     "outputPrepend",
     "outputPrepend",
     "outputPrepend",
     "outputPrepend",
     "outputPrepend",
     "outputPrepend",
     "outputPrepend",
     "outputPrepend",
     "outputPrepend",
     "outputPrepend",
     "outputPrepend",
     "outputPrepend",
     "outputPrepend",
     "outputPrepend",
     "outputPrepend",
     "outputPrepend",
     "outputPrepend",
     "outputPrepend",
     "outputPrepend",
     "outputPrepend",
     "outputPrepend",
     "outputPrepend",
     "outputPrepend",
     "outputPrepend",
     "outputPrepend",
     "outputPrepend",
     "outputPrepend",
     "outputPrepend",
     "outputPrepend",
     "outputPrepend",
     "outputPrepend",
     "outputPrepend",
     "outputPrepend",
     "outputPrepend",
     "outputPrepend"
    ]
   },
   "outputs": [
    {
     "output_type": "stream",
     "name": "stdout",
     "text": "=================] - 0s 5ms/step - loss: 0.0032 - mae: 0.0437 - val_loss: 0.0060 - val_mae: 0.0625\nEpoch 51/200\n48/48 [==============================] - 0s 5ms/step - loss: 0.0031 - mae: 0.0434 - val_loss: 0.0050 - val_mae: 0.0512\nEpoch 52/200\n48/48 [==============================] - 0s 5ms/step - loss: 0.0030 - mae: 0.0434 - val_loss: 0.0057 - val_mae: 0.0597\nEpoch 53/200\n48/48 [==============================] - 0s 5ms/step - loss: 0.0030 - mae: 0.0413 - val_loss: 0.0051 - val_mae: 0.0557\nEpoch 54/200\n48/48 [==============================] - 0s 5ms/step - loss: 0.0032 - mae: 0.0436 - val_loss: 0.0049 - val_mae: 0.0509\nEpoch 55/200\n48/48 [==============================] - 0s 6ms/step - loss: 0.0030 - mae: 0.0421 - val_loss: 0.0058 - val_mae: 0.0566\nEpoch 56/200\n48/48 [==============================] - 0s 5ms/step - loss: 0.0029 - mae: 0.0417 - val_loss: 0.0048 - val_mae: 0.0502\nEpoch 57/200\n48/48 [==============================] - 0s 5ms/step - loss: 0.0029 - mae: 0.0410 - val_loss: 0.0049 - val_mae: 0.0532\nEpoch 58/200\n48/48 [==============================] - 0s 5ms/step - loss: 0.0030 - mae: 0.0407 - val_loss: 0.0047 - val_mae: 0.0510\nEpoch 59/200\n48/48 [==============================] - 0s 5ms/step - loss: 0.0029 - mae: 0.0411 - val_loss: 0.0048 - val_mae: 0.0529\nEpoch 60/200\n48/48 [==============================] - 0s 5ms/step - loss: 0.0030 - mae: 0.0419 - val_loss: 0.0049 - val_mae: 0.0532\nEpoch 61/200\n48/48 [==============================] - 0s 5ms/step - loss: 0.0029 - mae: 0.0420 - val_loss: 0.0047 - val_mae: 0.0500\nEpoch 62/200\n48/48 [==============================] - 0s 5ms/step - loss: 0.0028 - mae: 0.0413 - val_loss: 0.0054 - val_mae: 0.0597\nEpoch 63/200\n48/48 [==============================] - 0s 5ms/step - loss: 0.0027 - mae: 0.0407 - val_loss: 0.0052 - val_mae: 0.0541\nEpoch 64/200\n48/48 [==============================] - 0s 5ms/step - loss: 0.0029 - mae: 0.0411 - val_loss: 0.0047 - val_mae: 0.0522\nEpoch 65/200\n48/48 [==============================] - 0s 5ms/step - loss: 0.0027 - mae: 0.0398 - val_loss: 0.0049 - val_mae: 0.0516\nEpoch 66/200\n48/48 [==============================] - 0s 5ms/step - loss: 0.0027 - mae: 0.0404 - val_loss: 0.0046 - val_mae: 0.0509\nEpoch 67/200\n48/48 [==============================] - 0s 5ms/step - loss: 0.0027 - mae: 0.0387 - val_loss: 0.0047 - val_mae: 0.0532\nEpoch 68/200\n48/48 [==============================] - 0s 5ms/step - loss: 0.0027 - mae: 0.0394 - val_loss: 0.0046 - val_mae: 0.0484\nEpoch 69/200\n48/48 [==============================] - 0s 4ms/step - loss: 0.0026 - mae: 0.0382 - val_loss: 0.0046 - val_mae: 0.0508\nEpoch 70/200\n48/48 [==============================] - 0s 4ms/step - loss: 0.0026 - mae: 0.0401 - val_loss: 0.0045 - val_mae: 0.0487\nEpoch 71/200\n48/48 [==============================] - 0s 4ms/step - loss: 0.0026 - mae: 0.0389 - val_loss: 0.0047 - val_mae: 0.0497\nEpoch 72/200\n48/48 [==============================] - 0s 4ms/step - loss: 0.0026 - mae: 0.0395 - val_loss: 0.0049 - val_mae: 0.0510\nEpoch 73/200\n48/48 [==============================] - 0s 4ms/step - loss: 0.0026 - mae: 0.0395 - val_loss: 0.0044 - val_mae: 0.0492\nEpoch 74/200\n48/48 [==============================] - 0s 4ms/step - loss: 0.0025 - mae: 0.0381 - val_loss: 0.0044 - val_mae: 0.0486\nEpoch 75/200\n48/48 [==============================] - 0s 4ms/step - loss: 0.0024 - mae: 0.0371 - val_loss: 0.0048 - val_mae: 0.0505\nEpoch 76/200\n48/48 [==============================] - 0s 4ms/step - loss: 0.0025 - mae: 0.0382 - val_loss: 0.0047 - val_mae: 0.0508\nEpoch 77/200\n48/48 [==============================] - 0s 5ms/step - loss: 0.0025 - mae: 0.0381 - val_loss: 0.0049 - val_mae: 0.0510\nEpoch 78/200\n48/48 [==============================] - 0s 5ms/step - loss: 0.0025 - mae: 0.0386 - val_loss: 0.0046 - val_mae: 0.0497\nEpoch 79/200\n48/48 [==============================] - 0s 5ms/step - loss: 0.0025 - mae: 0.0372 - val_loss: 0.0054 - val_mae: 0.0575\nEpoch 80/200\n48/48 [==============================] - 0s 5ms/step - loss: 0.0023 - mae: 0.0357 - val_loss: 0.0044 - val_mae: 0.0482\nEpoch 81/200\n48/48 [==============================] - 0s 5ms/step - loss: 0.0025 - mae: 0.0384 - val_loss: 0.0044 - val_mae: 0.0484\nEpoch 82/200\n48/48 [==============================] - 0s 5ms/step - loss: 0.0023 - mae: 0.0372 - val_loss: 0.0043 - val_mae: 0.0486\nEpoch 83/200\n48/48 [==============================] - 0s 4ms/step - loss: 0.0024 - mae: 0.0367 - val_loss: 0.0045 - val_mae: 0.0498\nEpoch 84/200\n48/48 [==============================] - 0s 4ms/step - loss: 0.0024 - mae: 0.0381 - val_loss: 0.0043 - val_mae: 0.0476\nEpoch 85/200\n48/48 [==============================] - 0s 5ms/step - loss: 0.0023 - mae: 0.0358 - val_loss: 0.0044 - val_mae: 0.0485\nEpoch 86/200\n48/48 [==============================] - 0s 5ms/step - loss: 0.0023 - mae: 0.0357 - val_loss: 0.0043 - val_mae: 0.0491\nEpoch 87/200\n48/48 [==============================] - 0s 4ms/step - loss: 0.0024 - mae: 0.0363 - val_loss: 0.0043 - val_mae: 0.0490\nEpoch 88/200\n48/48 [==============================] - 0s 4ms/step - loss: 0.0023 - mae: 0.0363 - val_loss: 0.0044 - val_mae: 0.0491\nEpoch 89/200\n48/48 [==============================] - 0s 4ms/step - loss: 0.0023 - mae: 0.0368 - val_loss: 0.0042 - val_mae: 0.0478\nEpoch 90/200\n48/48 [==============================] - 0s 4ms/step - loss: 0.0022 - mae: 0.0355 - val_loss: 0.0043 - val_mae: 0.0485\nEpoch 91/200\n48/48 [==============================] - 0s 4ms/step - loss: 0.0022 - mae: 0.0358 - val_loss: 0.0043 - val_mae: 0.0479\nEpoch 92/200\n48/48 [==============================] - 0s 5ms/step - loss: 0.0021 - mae: 0.0341 - val_loss: 0.0045 - val_mae: 0.0490\nEpoch 93/200\n48/48 [==============================] - 0s 4ms/step - loss: 0.0022 - mae: 0.0352 - val_loss: 0.0044 - val_mae: 0.0521\nEpoch 94/200\n48/48 [==============================] - 0s 4ms/step - loss: 0.0022 - mae: 0.0351 - val_loss: 0.0043 - val_mae: 0.0466\nEpoch 95/200\n48/48 [==============================] - 0s 5ms/step - loss: 0.0022 - mae: 0.0355 - val_loss: 0.0043 - val_mae: 0.0490\nEpoch 96/200\n48/48 [==============================] - 0s 5ms/step - loss: 0.0021 - mae: 0.0353 - val_loss: 0.0043 - val_mae: 0.0482\nEpoch 97/200\n48/48 [==============================] - 0s 5ms/step - loss: 0.0021 - mae: 0.0357 - val_loss: 0.0042 - val_mae: 0.0469\nEpoch 98/200\n48/48 [==============================] - 0s 4ms/step - loss: 0.0021 - mae: 0.0350 - val_loss: 0.0044 - val_mae: 0.0473\nEpoch 99/200\n48/48 [==============================] - 0s 4ms/step - loss: 0.0022 - mae: 0.0360 - val_loss: 0.0042 - val_mae: 0.0469\nEpoch 100/200\n48/48 [==============================] - 0s 5ms/step - loss: 0.0021 - mae: 0.0343 - val_loss: 0.0043 - val_mae: 0.0476\nEpoch 101/200\n48/48 [==============================] - 0s 4ms/step - loss: 0.0022 - mae: 0.0344 - val_loss: 0.0042 - val_mae: 0.0463\nEpoch 102/200\n48/48 [==============================] - 0s 4ms/step - loss: 0.0021 - mae: 0.0336 - val_loss: 0.0043 - val_mae: 0.0478\nEpoch 103/200\n48/48 [==============================] - 0s 4ms/step - loss: 0.0021 - mae: 0.0345 - val_loss: 0.0042 - val_mae: 0.0465\nEpoch 104/200\n48/48 [==============================] - 0s 4ms/step - loss: 0.0019 - mae: 0.0328 - val_loss: 0.0043 - val_mae: 0.0488\nEpoch 105/200\n48/48 [==============================] - 0s 4ms/step - loss: 0.0020 - mae: 0.0338 - val_loss: 0.0043 - val_mae: 0.0488\nEpoch 106/200\n48/48 [==============================] - 0s 4ms/step - loss: 0.0021 - mae: 0.0339 - val_loss: 0.0042 - val_mae: 0.0460\nEpoch 107/200\n48/48 [==============================] - 0s 4ms/step - loss: 0.0019 - mae: 0.0333 - val_loss: 0.0042 - val_mae: 0.0489\nEpoch 108/200\n48/48 [==============================] - 0s 4ms/step - loss: 0.0020 - mae: 0.0340 - val_loss: 0.0043 - val_mae: 0.0453\nEpoch 109/200\n48/48 [==============================] - 0s 5ms/step - loss: 0.0020 - mae: 0.0345 - val_loss: 0.0041 - val_mae: 0.0458\nEpoch 110/200\n48/48 [==============================] - 0s 5ms/step - loss: 0.0020 - mae: 0.0333 - val_loss: 0.0045 - val_mae: 0.0485\nEpoch 111/200\n48/48 [==============================] - 0s 4ms/step - loss: 0.0020 - mae: 0.0339 - val_loss: 0.0044 - val_mae: 0.0477\nEpoch 112/200\n48/48 [==============================] - 0s 4ms/step - loss: 0.0020 - mae: 0.0336 - val_loss: 0.0041 - val_mae: 0.0474\nEpoch 113/200\n48/48 [==============================] - 0s 4ms/step - loss: 0.0020 - mae: 0.0333 - val_loss: 0.0042 - val_mae: 0.0490\nEpoch 114/200\n48/48 [==============================] - 0s 4ms/step - loss: 0.0019 - mae: 0.0340 - val_loss: 0.0043 - val_mae: 0.0479\nEpoch 115/200\n48/48 [==============================] - 0s 5ms/step - loss: 0.0020 - mae: 0.0334 - val_loss: 0.0044 - val_mae: 0.0491\nEpoch 116/200\n48/48 [==============================] - 0s 5ms/step - loss: 0.0020 - mae: 0.0339 - val_loss: 0.0041 - val_mae: 0.0469\nEpoch 117/200\n48/48 [==============================] - 0s 5ms/step - loss: 0.0019 - mae: 0.0330 - val_loss: 0.0041 - val_mae: 0.0454\nEpoch 118/200\n48/48 [==============================] - 0s 5ms/step - loss: 0.0019 - mae: 0.0331 - val_loss: 0.0040 - val_mae: 0.0452\nEpoch 119/200\n48/48 [==============================] - 0s 4ms/step - loss: 0.0019 - mae: 0.0328 - val_loss: 0.0040 - val_mae: 0.0452\nEpoch 120/200\n48/48 [==============================] - 0s 4ms/step - loss: 0.0019 - mae: 0.0333 - val_loss: 0.0040 - val_mae: 0.0450\nEpoch 121/200\n48/48 [==============================] - 0s 4ms/step - loss: 0.0018 - mae: 0.0322 - val_loss: 0.0041 - val_mae: 0.0445\nEpoch 122/200\n48/48 [==============================] - 0s 4ms/step - loss: 0.0018 - mae: 0.0322 - val_loss: 0.0042 - val_mae: 0.0477\nEpoch 123/200\n48/48 [==============================] - 0s 4ms/step - loss: 0.0018 - mae: 0.0327 - val_loss: 0.0041 - val_mae: 0.0461\nEpoch 124/200\n48/48 [==============================] - 0s 4ms/step - loss: 0.0018 - mae: 0.0330 - val_loss: 0.0040 - val_mae: 0.0442\nEpoch 125/200\n48/48 [==============================] - 0s 4ms/step - loss: 0.0018 - mae: 0.0323 - val_loss: 0.0040 - val_mae: 0.0445\nEpoch 126/200\n48/48 [==============================] - 0s 4ms/step - loss: 0.0018 - mae: 0.0320 - val_loss: 0.0040 - val_mae: 0.0439\nEpoch 127/200\n48/48 [==============================] - 0s 4ms/step - loss: 0.0018 - mae: 0.0314 - val_loss: 0.0040 - val_mae: 0.0440\nEpoch 128/200\n48/48 [==============================] - 0s 5ms/step - loss: 0.0018 - mae: 0.0316 - val_loss: 0.0042 - val_mae: 0.0476\nEpoch 129/200\n48/48 [==============================] - 0s 5ms/step - loss: 0.0019 - mae: 0.0322 - val_loss: 0.0040 - val_mae: 0.0441\nEpoch 130/200\n48/48 [==============================] - 0s 4ms/step - loss: 0.0018 - mae: 0.0316 - val_loss: 0.0040 - val_mae: 0.0446\nEpoch 131/200\n48/48 [==============================] - 0s 4ms/step - loss: 0.0018 - mae: 0.0317 - val_loss: 0.0040 - val_mae: 0.0460\nEpoch 132/200\n48/48 [==============================] - 0s 4ms/step - loss: 0.0018 - mae: 0.0315 - val_loss: 0.0040 - val_mae: 0.0458\nEpoch 133/200\n48/48 [==============================] - 0s 4ms/step - loss: 0.0018 - mae: 0.0322 - val_loss: 0.0040 - val_mae: 0.0451\nEpoch 134/200\n48/48 [==============================] - 0s 4ms/step - loss: 0.0017 - mae: 0.0317 - val_loss: 0.0045 - val_mae: 0.0502\nEpoch 135/200\n48/48 [==============================] - 0s 4ms/step - loss: 0.0018 - mae: 0.0313 - val_loss: 0.0041 - val_mae: 0.0478\nEpoch 136/200\n48/48 [==============================] - 0s 4ms/step - loss: 0.0018 - mae: 0.0314 - val_loss: 0.0040 - val_mae: 0.0438\nEpoch 137/200\n48/48 [==============================] - 0s 4ms/step - loss: 0.0017 - mae: 0.0304 - val_loss: 0.0041 - val_mae: 0.0454\nEpoch 138/200\n48/48 [==============================] - 0s 4ms/step - loss: 0.0017 - mae: 0.0318 - val_loss: 0.0045 - val_mae: 0.0504\nEpoch 139/200\n48/48 [==============================] - 0s 5ms/step - loss: 0.0017 - mae: 0.0314 - val_loss: 0.0039 - val_mae: 0.0433\nEpoch 140/200\n48/48 [==============================] - 0s 4ms/step - loss: 0.0017 - mae: 0.0307 - val_loss: 0.0042 - val_mae: 0.0497\nEpoch 141/200\n48/48 [==============================] - 0s 4ms/step - loss: 0.0017 - mae: 0.0310 - val_loss: 0.0039 - val_mae: 0.0453\nEpoch 142/200\n48/48 [==============================] - 0s 5ms/step - loss: 0.0017 - mae: 0.0310 - val_loss: 0.0040 - val_mae: 0.0470\nEpoch 143/200\n48/48 [==============================] - 0s 5ms/step - loss: 0.0017 - mae: 0.0309 - val_loss: 0.0048 - val_mae: 0.0532\nEpoch 144/200\n48/48 [==============================] - 0s 5ms/step - loss: 0.0017 - mae: 0.0303 - val_loss: 0.0041 - val_mae: 0.0439\nEpoch 145/200\n48/48 [==============================] - 0s 5ms/step - loss: 0.0016 - mae: 0.0300 - val_loss: 0.0039 - val_mae: 0.0450\nEpoch 146/200\n48/48 [==============================] - 0s 4ms/step - loss: 0.0017 - mae: 0.0300 - val_loss: 0.0039 - val_mae: 0.0438\nEpoch 147/200\n48/48 [==============================] - 0s 4ms/step - loss: 0.0017 - mae: 0.0303 - val_loss: 0.0039 - val_mae: 0.0438\nEpoch 148/200\n48/48 [==============================] - 0s 4ms/step - loss: 0.0017 - mae: 0.0302 - val_loss: 0.0039 - val_mae: 0.0446\nEpoch 149/200\n48/48 [==============================] - 0s 4ms/step - loss: 0.0016 - mae: 0.0302 - val_loss: 0.0039 - val_mae: 0.0464\nEpoch 150/200\n48/48 [==============================] - 0s 5ms/step - loss: 0.0017 - mae: 0.0303 - val_loss: 0.0039 - val_mae: 0.0444\nEpoch 151/200\n48/48 [==============================] - 0s 5ms/step - loss: 0.0016 - mae: 0.0305 - val_loss: 0.0038 - val_mae: 0.0446\nEpoch 152/200\n48/48 [==============================] - 0s 5ms/step - loss: 0.0016 - mae: 0.0307 - val_loss: 0.0039 - val_mae: 0.0437\nEpoch 153/200\n48/48 [==============================] - 0s 5ms/step - loss: 0.0017 - mae: 0.0299 - val_loss: 0.0038 - val_mae: 0.0427\nEpoch 154/200\n48/48 [==============================] - 0s 5ms/step - loss: 0.0016 - mae: 0.0299 - val_loss: 0.0040 - val_mae: 0.0447\nEpoch 155/200\n48/48 [==============================] - 0s 5ms/step - loss: 0.0016 - mae: 0.0287 - val_loss: 0.0040 - val_mae: 0.0462\nEpoch 156/200\n48/48 [==============================] - 0s 4ms/step - loss: 0.0016 - mae: 0.0292 - val_loss: 0.0041 - val_mae: 0.0462\nEpoch 157/200\n48/48 [==============================] - 0s 5ms/step - loss: 0.0016 - mae: 0.0296 - val_loss: 0.0038 - val_mae: 0.0430\nEpoch 158/200\n48/48 [==============================] - 0s 5ms/step - loss: 0.0015 - mae: 0.0296 - val_loss: 0.0039 - val_mae: 0.0449\nEpoch 159/200\n48/48 [==============================] - 0s 5ms/step - loss: 0.0015 - mae: 0.0293 - val_loss: 0.0041 - val_mae: 0.0450\nEpoch 160/200\n48/48 [==============================] - 0s 5ms/step - loss: 0.0016 - mae: 0.0296 - val_loss: 0.0039 - val_mae: 0.0436\nEpoch 161/200\n48/48 [==============================] - 0s 5ms/step - loss: 0.0015 - mae: 0.0290 - val_loss: 0.0038 - val_mae: 0.0419\nEpoch 162/200\n48/48 [==============================] - 0s 5ms/step - loss: 0.0015 - mae: 0.0294 - val_loss: 0.0038 - val_mae: 0.0437\nEpoch 163/200\n48/48 [==============================] - 0s 5ms/step - loss: 0.0015 - mae: 0.0281 - val_loss: 0.0038 - val_mae: 0.0449\nEpoch 164/200\n48/48 [==============================] - 0s 4ms/step - loss: 0.0015 - mae: 0.0291 - val_loss: 0.0042 - val_mae: 0.0479\nEpoch 165/200\n48/48 [==============================] - 0s 4ms/step - loss: 0.0015 - mae: 0.0297 - val_loss: 0.0040 - val_mae: 0.0468\nEpoch 166/200\n48/48 [==============================] - 0s 5ms/step - loss: 0.0015 - mae: 0.0293 - val_loss: 0.0038 - val_mae: 0.0422\nEpoch 167/200\n48/48 [==============================] - 0s 5ms/step - loss: 0.0016 - mae: 0.0287 - val_loss: 0.0039 - val_mae: 0.0447\nEpoch 168/200\n48/48 [==============================] - 0s 4ms/step - loss: 0.0015 - mae: 0.0280 - val_loss: 0.0039 - val_mae: 0.0430\nEpoch 169/200\n48/48 [==============================] - 0s 5ms/step - loss: 0.0015 - mae: 0.0289 - val_loss: 0.0041 - val_mae: 0.0444\nEpoch 170/200\n48/48 [==============================] - 0s 5ms/step - loss: 0.0015 - mae: 0.0292 - val_loss: 0.0038 - val_mae: 0.0426\nEpoch 171/200\n48/48 [==============================] - 0s 5ms/step - loss: 0.0015 - mae: 0.0281 - val_loss: 0.0038 - val_mae: 0.0442\nEpoch 172/200\n48/48 [==============================] - 0s 5ms/step - loss: 0.0015 - mae: 0.0289 - val_loss: 0.0038 - val_mae: 0.0440\nEpoch 173/200\n48/48 [==============================] - 0s 4ms/step - loss: 0.0014 - mae: 0.0287 - val_loss: 0.0038 - val_mae: 0.0421\nEpoch 174/200\n48/48 [==============================] - 0s 4ms/step - loss: 0.0015 - mae: 0.0284 - val_loss: 0.0038 - val_mae: 0.0414\nEpoch 175/200\n48/48 [==============================] - 0s 5ms/step - loss: 0.0015 - mae: 0.0286 - val_loss: 0.0038 - val_mae: 0.0414\nEpoch 176/200\n48/48 [==============================] - 0s 4ms/step - loss: 0.0015 - mae: 0.0286 - val_loss: 0.0039 - val_mae: 0.0441\nEpoch 177/200\n48/48 [==============================] - 0s 5ms/step - loss: 0.0014 - mae: 0.0281 - val_loss: 0.0039 - val_mae: 0.0444\nEpoch 178/200\n48/48 [==============================] - 0s 5ms/step - loss: 0.0014 - mae: 0.0282 - val_loss: 0.0039 - val_mae: 0.0438\nEpoch 179/200\n48/48 [==============================] - 0s 4ms/step - loss: 0.0014 - mae: 0.0284 - val_loss: 0.0038 - val_mae: 0.0439\nEpoch 180/200\n48/48 [==============================] - 0s 5ms/step - loss: 0.0014 - mae: 0.0276 - val_loss: 0.0041 - val_mae: 0.0474\nEpoch 181/200\n48/48 [==============================] - 0s 4ms/step - loss: 0.0014 - mae: 0.0285 - val_loss: 0.0038 - val_mae: 0.0446\nEpoch 182/200\n48/48 [==============================] - 0s 5ms/step - loss: 0.0014 - mae: 0.0275 - val_loss: 0.0040 - val_mae: 0.0437\nEpoch 183/200\n48/48 [==============================] - 0s 5ms/step - loss: 0.0014 - mae: 0.0284 - val_loss: 0.0038 - val_mae: 0.0414\nEpoch 184/200\n48/48 [==============================] - 0s 5ms/step - loss: 0.0014 - mae: 0.0273 - val_loss: 0.0037 - val_mae: 0.0431\nEpoch 185/200\n48/48 [==============================] - 0s 5ms/step - loss: 0.0014 - mae: 0.0273 - val_loss: 0.0038 - val_mae: 0.0429\nEpoch 186/200\n48/48 [==============================] - 0s 5ms/step - loss: 0.0014 - mae: 0.0278 - val_loss: 0.0041 - val_mae: 0.0469\nEpoch 187/200\n48/48 [==============================] - 0s 5ms/step - loss: 0.0014 - mae: 0.0276 - val_loss: 0.0038 - val_mae: 0.0414\nEpoch 188/200\n48/48 [==============================] - 0s 5ms/step - loss: 0.0014 - mae: 0.0282 - val_loss: 0.0038 - val_mae: 0.0437\nEpoch 189/200\n48/48 [==============================] - 0s 5ms/step - loss: 0.0013 - mae: 0.0264 - val_loss: 0.0037 - val_mae: 0.0429\nEpoch 190/200\n48/48 [==============================] - 0s 5ms/step - loss: 0.0014 - mae: 0.0276 - val_loss: 0.0038 - val_mae: 0.0414\nEpoch 191/200\n48/48 [==============================] - 0s 5ms/step - loss: 0.0013 - mae: 0.0269 - val_loss: 0.0040 - val_mae: 0.0453\nEpoch 192/200\n48/48 [==============================] - 0s 5ms/step - loss: 0.0014 - mae: 0.0272 - val_loss: 0.0040 - val_mae: 0.0447\nEpoch 193/200\n48/48 [==============================] - 0s 5ms/step - loss: 0.0014 - mae: 0.0272 - val_loss: 0.0041 - val_mae: 0.0462\nEpoch 194/200\n48/48 [==============================] - 0s 6ms/step - loss: 0.0013 - mae: 0.0268 - val_loss: 0.0041 - val_mae: 0.0487\nEpoch 195/200\n48/48 [==============================] - 0s 5ms/step - loss: 0.0014 - mae: 0.0273 - val_loss: 0.0037 - val_mae: 0.0428\nEpoch 196/200\n48/48 [==============================] - 0s 5ms/step - loss: 0.0013 - mae: 0.0268 - val_loss: 0.0040 - val_mae: 0.0471\nEpoch 197/200\n48/48 [==============================] - 0s 5ms/step - loss: 0.0014 - mae: 0.0279 - val_loss: 0.0039 - val_mae: 0.0431\nEpoch 198/200\n48/48 [==============================] - 0s 5ms/step - loss: 0.0013 - mae: 0.0276 - val_loss: 0.0037 - val_mae: 0.0426\nEpoch 199/200\n48/48 [==============================] - 0s 5ms/step - loss: 0.0013 - mae: 0.0262 - val_loss: 0.0037 - val_mae: 0.0424\nEpoch 200/200\n48/48 [==============================] - 0s 5ms/step - loss: 0.0013 - mae: 0.0261 - val_loss: 0.0041 - val_mae: 0.0467\n"
    },
    {
     "output_type": "execute_result",
     "data": {
      "text/plain": "<tensorflow.python.keras.callbacks.History at 0x269fe32be48>"
     },
     "metadata": {},
     "execution_count": 14
    }
   ],
   "source": [
    "model=build_model()\n",
    "model.compile(optimizer='sgd', loss='mse', metrics=['mae'])\n",
    "#model.summary()\n",
    "num_epochs=200\n",
    "training_steps=int(df.shape[0]*(1-validation_split_frac)/batch_size)\n",
    "validation_steps=int(df.shape[0]*validation_split_frac/batch_size)\n",
    "assert (training_steps+validation_steps)*batch_size == df.shape[0]\n",
    "log_dir = os.path.join(\"logs\\\\fit\", datetime.datetime.now().strftime(\"%Y%m%d-%H%M%S\"))\n",
    "tensorboard_callback = TensorBoard(log_dir=log_dir, histogram_freq=1)\n",
    "model.fit(\n",
    "    train_generator,\n",
    "    steps_per_epoch=training_steps,\n",
    "    validation_data=validation_generator,\n",
    "    validation_steps=validation_steps,\n",
    "    epochs=num_epochs,\n",
    "    verbose=1,\n",
    "    callbacks=[tensorboard_callback]\n",
    "    )\n"
   ]
  },
  {
   "cell_type": "code",
   "execution_count": 9,
   "metadata": {},
   "outputs": [],
   "source": [
    "model=build_model()\n",
    "model.compile(optimizer='sgd', loss='mse', metrics=['mae'])\n",
    "#model.summary()"
   ]
  },
  {
   "cell_type": "code",
   "execution_count": 12,
   "metadata": {},
   "outputs": [
    {
     "name": "stdout",
     "output_type": "stream",
     "text": "Known TensorBoard instances:\n  - port 6006: logdir logs/fit (started 1 day, 0:30:22 ago; pid 10216)\n  - port 6006: logdir logs/fit (started 4:52:26 ago; pid 10656)\n  - port 6006: logdir Training_set_6_10/logs/fit (started 0:07:39 ago; pid 13120)\n  - port 6006: logdir Training_set_6_10/logs/fit (started 0:02:04 ago; pid 15348)\n  - port 6006: logdir logs (started 0:30:34 ago; pid 16588)\n"
    },
    {
     "data": {
      "text/plain": "Reusing TensorBoard on port 6006 (pid 15348), started 0:02:04 ago. (Use '!kill 15348' to kill it.)"
     },
     "metadata": {},
     "output_type": "display_data"
    }
   ],
   "source": [
    "from tensorboard import notebook\n",
    "notebook.list()\n",
    "%tensorboard --logdir Training_set_6_10/logs/fit"
   ]
  },
  {
   "cell_type": "code",
   "execution_count": null,
   "metadata": {},
   "outputs": [],
   "source": [
    "\n",
    "#Loads labels and training data into two arrays, such that their indicies match\n",
    "# train_labels=[]\n",
    "# with open(\"Training_set_6_10\\\\training_labels.json\",'r') as dict_contents:\n",
    "#     train_labels_dict=json.load(dict_contents)\n",
    "# train_labels= [value for key,value in sorted(train_labels_dict.items())]\n",
    "\n",
    "# train_images1 = []\n",
    "# path = original_dataset_dir\n",
    "# valid_images = [\".jpg\",\".gif\",\".png\",\".tga\"]\n",
    "# for f in os.listdir(path):\n",
    "#     ext = os.path.splitext(f)[1]\n",
    "#     if ext.lower() not in valid_images:\n",
    "#         continue\n",
    "#     #print(f[10:-4])\n",
    "#     train_images1.append(Image.open(os.path.join(path,f)))\n",
    "#     train_targets1.append(train_targets_dict[str(f[10:-4])])\n"
   ]
  },
  {
   "cell_type": "code",
   "execution_count": null,
   "metadata": {},
   "outputs": [],
   "source": [
    "# k = 4\n",
    "# num_val_samples = len(train_images) // k\n",
    "# num_epochs = 20\n",
    "# all_histories = []\n",
    "# train_datagen = ImageDataGenerator(rescale=1./255)             \n",
    "# val_datagen = ImageDataGenerator(rescale=1./255) \n",
    "# for i in range(k):\n",
    "#     print('processing fold #', i)\n",
    "#     val_images = train_images[i * num_val_samples: (i + 1) * num_val_samples]    \n",
    "#     val_targets = train_targets[i * num_val_samples: (i + 1) * num_val_samples]\n",
    "\n",
    "#     partial_train_images = train_images[:i * num_val_samples] + train_images[(i + 1) * num_val_samples:]\n",
    "#     partial_train_targets = train_targets[:i * num_val_samples] + train_targets[(i + 1) * num_val_samples:]\n",
    "    \n",
    "#     train_generator= train_datagen.flow(\n",
    "#         partial_train_images,\n",
    "#         y=partial_train_targets,\n",
    "#         shuffle=True,\n",
    "#         batch_size=1)\n",
    "#     val_generator= val_datagen.flow(\n",
    "#         val_images,\n",
    "#         y=val_targets,\n",
    "#         shuffle=True,\n",
    "#         batch_size=1)\n",
    "\n",
    "#     model = build_model()                                                    \n",
    "#     history= model.fit_generator(\n",
    "#         train_generator,\n",
    "#         steps_per_epoch=len(partial_train_images),\n",
    "#         epochs=num_epochs,\n",
    "#         validation_data=val_generator,\n",
    "#         validation_steps=num_val_samples)\n",
    "#     #mae_history = history.history['val_mean_absolute_error']\n",
    "#     all_histories.append(history)"
   ]
  },
  {
   "cell_type": "code",
   "execution_count": null,
   "metadata": {},
   "outputs": [],
   "source": [
    "# #index_list=random.sample(range(len(train_images)),len(train_images))\n",
    "# index_list=[12, 77, 11, 32, 35, 28, 58, 70, 0, 46, 64, 74, 13, 1, 19, 2, 57, 39, 56, 30, 71, 49, 38, 7, 47, 75, 43, 25, 5, 44, 18, 50, 51, 17, 21, 27, 48, 29, 6, 10, 8, 34, 76, 9, 69, 60, 62, 15, 65, 53, 59, 16, 24, 4, 55, 22, 63, 78, 73, 67, 20, 42, 68, 52, 26, 79, 36, 33, 45, 41, 37, 72, 14, 40, 66, 3, 54, 31, 61, 23]\n",
    "# train_images=[]\n",
    "# train_targets=[]\n",
    "# for i in index_list:\n",
    "#     train_images.append(train_images1[i])\n",
    "#     train_targets.append(train_targets1[i])\n"
   ]
  },
  {
   "cell_type": "code",
   "execution_count": null,
   "metadata": {},
   "outputs": [],
   "source": [
    "# fig = plt.figure(figsize = (10, 10))\n",
    "# ax = plt.subplot(1,1,1)\n",
    "# ax.imshow(train_images1[3])\n",
    "# ax.axis('off')"
   ]
  },
  {
   "cell_type": "code",
   "execution_count": null,
   "metadata": {},
   "outputs": [],
   "source": []
  }
 ],
 "metadata": {
  "kernelspec": {
   "display_name": "Python 3",
   "language": "python",
   "name": "python3"
  },
  "language_info": {
   "codemirror_mode": {
    "name": "ipython",
    "version": 3
   },
   "file_extension": ".py",
   "mimetype": "text/x-python",
   "name": "python",
   "nbconvert_exporter": "python",
   "pygments_lexer": "ipython3",
   "version": "3.7.7-final"
  }
 },
 "nbformat": 4,
 "nbformat_minor": 2
}