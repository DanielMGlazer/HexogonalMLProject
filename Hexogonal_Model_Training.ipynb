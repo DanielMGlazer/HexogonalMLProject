{
 "cells": [
  {
   "cell_type": "code",
   "execution_count": 66,
   "metadata": {},
   "outputs": [],
   "source": [
    "from keras import layers\n",
    "from keras import models\n",
    "from keras import optimizers\n",
    "import numpy as np\n",
    "import matplotlib.pyplot as plt\n",
    "from keras.utils import to_categorical\n",
    "from keras.preprocessing.image import ImageDataGenerator\n",
    "from keras.preprocessing import image\n",
    "import os, shutil\n",
    "from PIL import Image, ImageDraw, ImageFont, ImageColor\n",
    "import random\n",
    "import json"
   ]
  },
  {
   "cell_type": "code",
   "execution_count": 67,
   "metadata": {},
   "outputs": [],
   "source": [
    "original_dataset_dir ='\\\\Users\\\\danie\\\\Penn_State_REU_Jupyter\\\\Hexagon ML Project\\\\Training_set_6_9' \n",
    "\n",
    "# base_dir='\\\\Users\\\\danie\\\\Penn_State_REU_Jupyter\\\\Hexagon ML Project\\\\Training_base'\n",
    "# train_dir = os.path.join(base_dir, 'train')                                \n",
    "# os.mkdir(train_dir)\n",
    "# validation_dir = os.path.join(base_dir, 'validation')                      \n",
    "# os.mkdir(validation_dir)\n",
    "# test_dir = os.path.join(base_dir, 'test')                                  \n",
    "# os.mkdir(test_dir)\n",
    "\n"
   ]
  },
  {
   "cell_type": "code",
   "execution_count": 68,
   "metadata": {},
   "outputs": [],
   "source": [
    "\n",
    "#Loads labels and training data into two arrays, such that their indicies match\n",
    "train_targets1=[]\n",
    "with open(\"Training_set_6_9\\\\training_labels.json\",'r') as dict_contents:\n",
    "    train_targets_dict=json.load(dict_contents)\n",
    "\n",
    "train_images1 = []\n",
    "path = original_dataset_dir\n",
    "valid_images = [\".jpg\",\".gif\",\".png\",\".tga\"]\n",
    "for f in os.listdir(path):\n",
    "    ext = os.path.splitext(f)[1]\n",
    "    if ext.lower() not in valid_images:\n",
    "        continue\n",
    "    #print(f[10:-4])\n",
    "    train_images1.append(Image.open(os.path.join(path,f)))\n",
    "    train_targets1.append(train_targets_dict[str(f[10:-4])])\n"
   ]
  },
  {
   "cell_type": "code",
   "execution_count": 57,
   "metadata": {},
   "outputs": [
    {
     "output_type": "execute_result",
     "data": {
      "text/plain": "[[13.5, 18.186533479473212],\n [[-7.0, 0.0], [3.5, 6.0621778264910695], [3.5, -6.0621778264910695]]]"
     },
     "metadata": {},
     "execution_count": 57
    }
   ],
   "source": []
  },
  {
   "cell_type": "code",
   "execution_count": 91,
   "metadata": {},
   "outputs": [
    {
     "output_type": "stream",
     "name": "stdout",
     "text": "12\n77\n11\n32\n35\n28\n58\n70\n0\n46\n64\n74\n13\n1\n19\n2\n57\n39\n56\n30\n71\n49\n38\n7\n47\n75\n43\n25\n5\n44\n18\n50\n51\n17\n21\n27\n48\n29\n6\n10\n8\n34\n76\n9\n69\n60\n62\n15\n65\n53\n59\n16\n24\n4\n55\n22\n63\n78\n73\n67\n20\n42\n68\n52\n26\n79\n36\n33\n45\n41\n37\n72\n14\n40\n66\n3\n54\n31\n61\n23\n"
    }
   ],
   "source": [
    "#index_list=random.sample(range(len(train_images)),len(train_images))\n",
    "index_list=[12, 77, 11, 32, 35, 28, 58, 70, 0, 46, 64, 74, 13, 1, 19, 2, 57, 39, 56, 30, 71, 49, 38, 7, 47, 75, 43, 25, 5, 44, 18, 50, 51, 17, 21, 27, 48, 29, 6, 10, 8, 34, 76, 9, 69, 60, 62, 15, 65, 53, 59, 16, 24, 4, 55, 22, 63, 78, 73, 67, 20, 42, 68, 52, 26, 79, 36, 33, 45, 41, 37, 72, 14, 40, 66, 3, 54, 31, 61, 23]\n",
    "train_images=[]\n",
    "train_targets=[]\n",
    "for i in index_list:\n",
    "    train_images.append(train_images1[i])\n",
    "    train_targets.append(train_targets1[i])\n"
   ]
  },
  {
   "cell_type": "code",
   "execution_count": 88,
   "metadata": {},
   "outputs": [
    {
     "output_type": "stream",
     "name": "stdout",
     "text": "[]\n"
    }
   ],
   "source": [
    "print(train_images[0:20])"
   ]
  },
  {
   "cell_type": "code",
   "execution_count": 92,
   "metadata": {},
   "outputs": [
    {
     "output_type": "execute_result",
     "data": {
      "text/plain": "(-0.5, 31.5, 31.5, -0.5)"
     },
     "metadata": {},
     "execution_count": 92
    },
    {
     "output_type": "display_data",
     "data": {
      "text/plain": "<Figure size 720x720 with 1 Axes>",
      "image/svg+xml": "<?xml version=\"1.0\" encoding=\"utf-8\" standalone=\"no\"?>\r\n<!DOCTYPE svg PUBLIC \"-//W3C//DTD SVG 1.1//EN\"\r\n  \"http://www.w3.org/Graphics/SVG/1.1/DTD/svg11.dtd\">\r\n<!-- Created with matplotlib (https://matplotlib.org/) -->\r\n<svg height=\"558pt\" version=\"1.1\" viewBox=\"0 0 558 558\" width=\"558pt\" xmlns=\"http://www.w3.org/2000/svg\" xmlns:xlink=\"http://www.w3.org/1999/xlink\">\r\n <defs>\r\n  <style type=\"text/css\">\r\n*{stroke-linecap:butt;stroke-linejoin:round;}\r\n  </style>\r\n </defs>\r\n <g id=\"figure_1\">\r\n  <g id=\"patch_1\">\r\n   <path d=\"M 0 558 \r\nL 558 558 \r\nL 558 0 \r\nL 0 0 \r\nz\r\n\" style=\"fill:none;\"/>\r\n  </g>\r\n  <g id=\"axes_1\">\r\n   <g clip-path=\"url(#p6a847c1cf2)\">\r\n    <image height=\"544\" id=\"image25bdab7144\" transform=\"scale(1 -1)translate(0 -544)\" width=\"544\" x=\"7.2\" xlink:href=\"data:image/png;base64,\r\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\" y=\"-6.8\"/>\r\n   </g>\r\n  </g>\r\n </g>\r\n <defs>\r\n  <clipPath id=\"p6a847c1cf2\">\r\n   <rect height=\"543.6\" width=\"543.6\" x=\"7.2\" y=\"7.2\"/>\r\n  </clipPath>\r\n </defs>\r\n</svg>\r\n",
      "image/png": "[encoded data removed]"
     },
     "metadata": {
      "needs_background": "light"
     }
    }
   ],
   "source": [
    "fig = plt.figure(figsize = (10, 10))\n",
    "ax = plt.subplot(1,1,1)\n",
    "ax.imshow(train_images1[3])\n",
    "ax.axis('off')"
   ]
  },
  {
   "cell_type": "code",
   "execution_count": 86,
   "metadata": {},
   "outputs": [],
   "source": [
    "def build_model():\n",
    "    model = models.Sequential()                                  \n",
    "    model.add(layers.Conv2D(32,(6,6), activation='relu',\n",
    "                           input_shape=(32,32,3)))\n",
    "    model.add(layers.MaxPooling2D((6,6)))\n",
    "    model.add(layers.Conv2D(64,(6,6), activation='relu'))\n",
    "    model.add(layers.MaxPooling2D((6,6)))\n",
    "    model.add(layers.Conv2D(128,(6,6), activation='relu'))\n",
    "    model.add(layers.MaxPooling2D((6,6)))\n",
    "    model.add(layers.Flatten())\n",
    "    model.add(layers.Dense(128, activation='relu'))\n",
    "    model.add(layers.Dense(8))\n",
    "    model.compile(optimizer='rmsprop', loss='mse', metrics=['mae'])\n",
    "    return model"
   ]
  },
  {
   "cell_type": "code",
   "execution_count": null,
   "metadata": {},
   "outputs": [],
   "source": [
    "k = 4\n",
    "num_val_samples = len(train_images) // k\n",
    "num_epochs = 20\n",
    "all_histories = []\n",
    "train_datagen = ImageDataGenerator(rescale=1./255)             \n",
    "val_datagen = ImageDataGenerator(rescale=1./255) \n",
    "for i in range(k):\n",
    "    print('processing fold #', i)\n",
    "    val_images = train_images[i * num_val_samples: (i + 1) * num_val_samples]    \n",
    "    val_targets = train_targets[i * num_val_samples: (i + 1) * num_val_samples]\n",
    "\n",
    "    partial_train_images = train_images[:i * num_val_samples] + train_images[(i + 1) * num_val_samples:]\n",
    "    partial_train_targets = train_targets[:i * num_val_samples] + train_targets[(i + 1) * num_val_samples:]\n",
    "    \n",
    "    train_generator= train_datagen.flow(\n",
    "        partial_train_images,\n",
    "        y=partial_train_targets,\n",
    "        shuffle=True,\n",
    "        batch_size=1)\n",
    "    val_generator= val_datagen.flow(\n",
    "        val_images,\n",
    "        y=val_targets,\n",
    "        shuffle=True,\n",
    "        batch_size=1)\n",
    "\n",
    "    model = build_model()                                                    \n",
    "    history= model.fit_generator(\n",
    "        train_generator,\n",
    "        steps_per_epoch=len(partial_train_images),\n",
    "        epochs=num_epochs,\n",
    "        validation_data=val_generator,\n",
    "        validation_steps=num_val_samples)\n",
    "    #mae_history = history.history['val_mean_absolute_error']\n",
    "    all_histories.append(history)"
   ]
  },
  {
   "cell_type": "code",
   "execution_count": null,
   "metadata": {},
   "outputs": [],
   "source": []
  }
 ],
 "metadata": {
  "language_info": {
   "codemirror_mode": {
    "name": "ipython",
    "version": 3
   },
   "file_extension": ".py",
   "mimetype": "text/x-python",
   "name": "python",
   "nbconvert_exporter": "python",
   "pygments_lexer": "ipython3",
   "version": "3.7.7-final"
  },
  "orig_nbformat": 2,
  "kernelspec": {
   "name": "python3",
   "display_name": "Python 3"
  }
 },
 "nbformat": 4,
 "nbformat_minor": 2
}