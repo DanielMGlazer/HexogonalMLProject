{
 "cells": [
  {
   "cell_type": "code",
   "execution_count": 12,
   "metadata": {
    "tags": [
     "outputPrepend"
    ]
   },
   "outputs": [],
   "source": [
    "#import tensorflow as tf\n",
    "import datetime\n",
    "from tensorflow.keras import layers\n",
    "from tensorflow.keras import models\n",
    "from tensorflow.keras import optimizers\n",
    "import numpy as np\n",
    "import matplotlib.pyplot as plt\n",
    "from tensorflow.keras.utils import to_categorical\n",
    "from tensorflow.keras.preprocessing.image import ImageDataGenerator\n",
    "from tensorflow.keras.preprocessing import image\n",
    "from tensorflow.keras.callbacks import TensorBoard\n",
    "import os, shutil\n",
    "from PIL import Image, ImageDraw, ImageFont, ImageColor\n",
    "import random\n",
    "import pandas as pd"
   ]
  },
  {
   "cell_type": "code",
   "execution_count": 2,
   "metadata": {},
   "outputs": [],
   "source": [
    "%load_ext tensorboard"
   ]
  },
  {
   "cell_type": "code",
   "execution_count": 13,
   "metadata": {},
   "outputs": [],
   "source": [
    "train_dataset_dir ='\\\\Users\\\\danie\\\\Penn_State_REU_Jupyter\\\\Hexagon ML Project GitHub\\\\Training_set_6_15' \n",
    "test_dataset_dir='\\\\Users\\\\danie\\\\Penn_State_REU_Jupyter\\\\Hexagon ML Project GitHub\\\\Testing_set_6_16' \n",
    "\n",
    "df=pd.read_csv(os.path.join(train_dataset_dir,\"training_dataframe.csv\"))\n",
    "df = df.sample(frac=1,random_state=5).reset_index(drop=True)\n",
    "\n",
    "dft = pd.read_csv(os.path.join(test_dataset_dir,\"training_dataframe.csv\"))\n",
    "dft = dft.sample(frac=1,random_state=5).reset_index(drop=True)"
   ]
  },
  {
   "cell_type": "code",
   "execution_count": 17,
   "metadata": {},
   "outputs": [
    {
     "output_type": "execute_result",
     "data": {
      "text/plain": "(10935, 9)"
     },
     "metadata": {},
     "execution_count": 17
    }
   ],
   "source": [
    "df.shape\n",
    "dft.shape"
   ]
  },
  {
   "cell_type": "code",
   "execution_count": 5,
   "metadata": {},
   "outputs": [],
   "source": [
    "def build_model():\n",
    "    model = models.Sequential()                                  \n",
    "    model.add(layers.Conv2D(16, (3,3) ,activation='relu', input_shape=(32,32,3)))\n",
    "    model.add(layers.MaxPooling2D((2,2)))\n",
    "    model.add(layers.Conv2D(16,(3,3), activation='relu'))\n",
    "    model.add(layers.MaxPooling2D((2,2)))\n",
    "    model.add(layers.Flatten())\n",
    "    #model.add(layers.Dropout(0.2))\n",
    "    model.add(layers.Dense(64, activation='relu'))\n",
    "    model.add(layers.Dense(32, activation='relu'))\n",
    "    model.add(layers.Dense(8))\n",
    "    return model"
   ]
  },
  {
   "cell_type": "code",
   "execution_count": 18,
   "metadata": {
    "code_folding": [
     5,
     17
    ]
   },
   "outputs": [
    {
     "output_type": "stream",
     "name": "stdout",
     "text": "Found 97200 validated image filenames.\nFound 24300 validated image filenames.\nFound 10935 validated image filenames.\n"
    }
   ],
   "source": [
    "#Creates generators for training and validation images\n",
    "SEED=5\n",
    "validation_split_frac=0.2\n",
    "batch_size=256\n",
    "train_datagen = ImageDataGenerator(rescale=1./255,validation_split=validation_split_frac)\n",
    "test_datagen = ImageDataGenerator(rescale=1./255)  \n",
    "train_generator= train_datagen.flow_from_dataframe(\n",
    "        df,\n",
    "        directory=train_dataset_dir,\n",
    "        x_col=\"filename\",\n",
    "        y_col=['x_coord','y_coord','neighbor1x','neighbor1y','neighbor2x','neighbor2y','neighbor3x','neighbor3y'],\n",
    "        target_size=(32,32),\n",
    "        shuffle=True,\n",
    "        seed= SEED,\n",
    "        class_mode=\"raw\",\n",
    "        batch_size=batch_size,\n",
    "        subset='training')\n",
    "\n",
    "validation_generator= train_datagen.flow_from_dataframe(\n",
    "        df,\n",
    "        directory=train_dataset_dir,\n",
    "        x_col=\"filename\",\n",
    "        y_col=['x_coord','y_coord','neighbor1x','neighbor1y','neighbor2x','neighbor2y','neighbor3x','neighbor3y'],\n",
    "        target_size=(32,32),\n",
    "        shuffle=True,\n",
    "        seed= SEED,\n",
    "        class_mode=\"raw\",\n",
    "        batch_size=batch_size,\n",
    "        subset='validation')\n",
    "\n",
    "test_generator= test_datagen.flow_from_dataframe(\n",
    "        dft,\n",
    "        directory=test_dataset_dir,\n",
    "        x_col=\"filename\",\n",
    "        y_col=['x_coord','y_coord','neighbor1x','neighbor1y','neighbor2x','neighbor2y','neighbor3x','neighbor3y'],\n",
    "        target_size=(32,32),\n",
    "        shuffle=True,\n",
    "        seed= SEED,\n",
    "        class_mode=\"raw\",\n",
    "        batch_size=batch_size)"
   ]
  },
  {
   "cell_type": "code",
   "execution_count": 9,
   "metadata": {},
   "outputs": [],
   "source": [
    "# from tensorboard import notebook\n",
    "# notebook.list()\n",
    "%tensorboard --logdir Training_logs/"
   ]
  },
  {
   "cell_type": "code",
   "execution_count": 10,
   "metadata": {
    "code_folding": [],
    "scrolled": true,
    "tags": [
     "outputPrepend"
    ]
   },
   "outputs": [
    {
     "output_type": "stream",
     "name": "stdout",
     "text": "WARNING:tensorflow:sample_weight modes were coerced from\n  ...\n    to  \n  ['...']\nWARNING:tensorflow:sample_weight modes were coerced from\n  ...\n    to  \n  ['...']\nTrain for 379 steps, validate for 94 steps\nEpoch 1/60\n379/379 [==============================] - 54s 142ms/step - loss: 0.0327 - mae: 0.1529 - val_loss: 0.0270 - val_mae: 0.1402\nEpoch 2/60\n379/379 [==============================] - 48s 128ms/step - loss: 0.0265 - mae: 0.1388 - val_loss: 0.0262 - val_mae: 0.1379\nEpoch 3/60\n379/379 [==============================] - 49s 129ms/step - loss: 0.0259 - mae: 0.1369 - val_loss: 0.0256 - val_mae: 0.1360\nEpoch 4/60\n379/379 [==============================] - 48s 126ms/step - loss: 0.0252 - mae: 0.1350 - val_loss: 0.0248 - val_mae: 0.1340\nEpoch 5/60\n379/379 [==============================] - 48s 125ms/step - loss: 0.0245 - mae: 0.1327 - val_loss: 0.0240 - val_mae: 0.1315\nEpoch 6/60\n379/379 [==============================] - 47s 125ms/step - loss: 0.0236 - mae: 0.1300 - val_loss: 0.0231 - val_mae: 0.1285\nEpoch 7/60\n379/379 [==============================] - 47s 125ms/step - loss: 0.0226 - mae: 0.1268 - val_loss: 0.0220 - val_mae: 0.1250\nEpoch 8/60\n379/379 [==============================] - 52s 136ms/step - loss: 0.0215 - mae: 0.1229 - val_loss: 0.0209 - val_mae: 0.1208\nEpoch 9/60\n379/379 [==============================] - 48s 127ms/step - loss: 0.0203 - mae: 0.1186 - val_loss: 0.0198 - val_mae: 0.1164\nEpoch 10/60\n379/379 [==============================] - 48s 127ms/step - loss: 0.0193 - mae: 0.1142 - val_loss: 0.0188 - val_mae: 0.1121\nEpoch 11/60\n379/379 [==============================] - 46s 121ms/step - loss: 0.0183 - mae: 0.1102 - val_loss: 0.0179 - val_mae: 0.1084\nEpoch 12/60\n379/379 [==============================] - 46s 121ms/step - loss: 0.0175 - mae: 0.1068 - val_loss: 0.0172 - val_mae: 0.1053\nEpoch 13/60\n379/379 [==============================] - 48s 128ms/step - loss: 0.0168 - mae: 0.1039 - val_loss: 0.0166 - val_mae: 0.1028\nEpoch 14/60\n379/379 [==============================] - 48s 127ms/step - loss: 0.0162 - mae: 0.1016 - val_loss: 0.0160 - val_mae: 0.1007\nEpoch 15/60\n379/379 [==============================] - 49s 129ms/step - loss: 0.0157 - mae: 0.0996 - val_loss: 0.0156 - val_mae: 0.0989\nEpoch 16/60\n379/379 [==============================] - 49s 128ms/step - loss: 0.0153 - mae: 0.0979 - val_loss: 0.0152 - val_mae: 0.0973\nEpoch 17/60\n379/379 [==============================] - 48s 128ms/step - loss: 0.0149 - mae: 0.0963 - val_loss: 0.0149 - val_mae: 0.0958\nEpoch 18/60\n379/379 [==============================] - 48s 127ms/step - loss: 0.0146 - mae: 0.0949 - val_loss: 0.0146 - val_mae: 0.0944\nEpoch 19/60\n379/379 [==============================] - 48s 127ms/step - loss: 0.0143 - mae: 0.0936 - val_loss: 0.0143 - val_mae: 0.0933\nEpoch 20/60\n379/379 [==============================] - 48s 127ms/step - loss: 0.0141 - mae: 0.0924 - val_loss: 0.0140 - val_mae: 0.0922\nEpoch 21/60\n379/379 [==============================] - 49s 128ms/step - loss: 0.0138 - mae: 0.0913 - val_loss: 0.0138 - val_mae: 0.0911\nEpoch 22/60\n379/379 [==============================] - 49s 128ms/step - loss: 0.0136 - mae: 0.0903 - val_loss: 0.0136 - val_mae: 0.0902\nEpoch 23/60\n379/379 [==============================] - 49s 129ms/step - loss: 0.0134 - mae: 0.0894 - val_loss: 0.0134 - val_mae: 0.0894\nEpoch 24/60\n379/379 [==============================] - 49s 129ms/step - loss: 0.0132 - mae: 0.0886 - val_loss: 0.0132 - val_mae: 0.0886\nEpoch 25/60\n379/379 [==============================] - 49s 129ms/step - loss: 0.0130 - mae: 0.0878 - val_loss: 0.0131 - val_mae: 0.0879\nEpoch 26/60\n379/379 [==============================] - 48s 128ms/step - loss: 0.0129 - mae: 0.0871 - val_loss: 0.0129 - val_mae: 0.0872\nEpoch 27/60\n379/379 [==============================] - 48s 127ms/step - loss: 0.0127 - mae: 0.0864 - val_loss: 0.0128 - val_mae: 0.0866\nEpoch 28/60\n379/379 [==============================] - 48s 127ms/step - loss: 0.0126 - mae: 0.0859 - val_loss: 0.0127 - val_mae: 0.0860\nEpoch 29/60\n379/379 [==============================] - 48s 127ms/step - loss: 0.0125 - mae: 0.0854 - val_loss: 0.0126 - val_mae: 0.0855\nEpoch 30/60\n379/379 [==============================] - 48s 127ms/step - loss: 0.0124 - mae: 0.0849 - val_loss: 0.0125 - val_mae: 0.0851\nEpoch 31/60\n379/379 [==============================] - 48s 127ms/step - loss: 0.0123 - mae: 0.0844 - val_loss: 0.0124 - val_mae: 0.0846\nEpoch 32/60\n379/379 [==============================] - 48s 127ms/step - loss: 0.0122 - mae: 0.0839 - val_loss: 0.0123 - val_mae: 0.0842\nEpoch 33/60\n379/379 [==============================] - 48s 127ms/step - loss: 0.0121 - mae: 0.0835 - val_loss: 0.0122 - val_mae: 0.0838\nEpoch 34/60\n379/379 [==============================] - 48s 127ms/step - loss: 0.0120 - mae: 0.0831 - val_loss: 0.0121 - val_mae: 0.0834\nEpoch 35/60\n379/379 [==============================] - 48s 127ms/step - loss: 0.0119 - mae: 0.0828 - val_loss: 0.0120 - val_mae: 0.0830\nEpoch 36/60\n379/379 [==============================] - 50s 131ms/step - loss: 0.0118 - mae: 0.0824 - val_loss: 0.0119 - val_mae: 0.0826\nEpoch 37/60\n379/379 [==============================] - 47s 125ms/step - loss: 0.0118 - mae: 0.0820 - val_loss: 0.0119 - val_mae: 0.0823\nEpoch 38/60\n379/379 [==============================] - 47s 123ms/step - loss: 0.0117 - mae: 0.0816 - val_loss: 0.0118 - val_mae: 0.0820\nEpoch 39/60\n379/379 [==============================] - 47s 124ms/step - loss: 0.0116 - mae: 0.0813 - val_loss: 0.0118 - val_mae: 0.0817\nEpoch 40/60\n379/379 [==============================] - 47s 123ms/step - loss: 0.0115 - mae: 0.0810 - val_loss: 0.0117 - val_mae: 0.0813\nEpoch 41/60\n379/379 [==============================] - 47s 124ms/step - loss: 0.0115 - mae: 0.0806 - val_loss: 0.0116 - val_mae: 0.0810\nEpoch 42/60\n379/379 [==============================] - 47s 124ms/step - loss: 0.0114 - mae: 0.0803 - val_loss: 0.0115 - val_mae: 0.0806\nEpoch 43/60\n379/379 [==============================] - 47s 123ms/step - loss: 0.0113 - mae: 0.0800 - val_loss: 0.0115 - val_mae: 0.0803\nEpoch 44/60\n379/379 [==============================] - 47s 124ms/step - loss: 0.0113 - mae: 0.0797 - val_loss: 0.0115 - val_mae: 0.0801\nEpoch 45/60\n379/379 [==============================] - 47s 123ms/step - loss: 0.0112 - mae: 0.0794 - val_loss: 0.0113 - val_mae: 0.0797\nEpoch 46/60\n379/379 [==============================] - 47s 124ms/step - loss: 0.0112 - mae: 0.0791 - val_loss: 0.0113 - val_mae: 0.0794\nEpoch 47/60\n379/379 [==============================] - 47s 124ms/step - loss: 0.0111 - mae: 0.0788 - val_loss: 0.0112 - val_mae: 0.0791\nEpoch 48/60\n379/379 [==============================] - 47s 124ms/step - loss: 0.0110 - mae: 0.0785 - val_loss: 0.0112 - val_mae: 0.0788\nEpoch 49/60\n379/379 [==============================] - 47s 124ms/step - loss: 0.0110 - mae: 0.0782 - val_loss: 0.0111 - val_mae: 0.0785\nEpoch 50/60\n379/379 [==============================] - 48s 127ms/step - loss: 0.0109 - mae: 0.0779 - val_loss: 0.0110 - val_mae: 0.0782\nEpoch 51/60\n379/379 [==============================] - 49s 129ms/step - loss: 0.0109 - mae: 0.0776 - val_loss: 0.0110 - val_mae: 0.0780\nEpoch 52/60\n379/379 [==============================] - 47s 124ms/step - loss: 0.0108 - mae: 0.0773 - val_loss: 0.0109 - val_mae: 0.0777\nEpoch 53/60\n379/379 [==============================] - 47s 124ms/step - loss: 0.0108 - mae: 0.0770 - val_loss: 0.0109 - val_mae: 0.0774\nEpoch 54/60\n379/379 [==============================] - 47s 123ms/step - loss: 0.0107 - mae: 0.0767 - val_loss: 0.0108 - val_mae: 0.0771\nEpoch 55/60\n379/379 [==============================] - 47s 124ms/step - loss: 0.0106 - mae: 0.0764 - val_loss: 0.0108 - val_mae: 0.0769\nEpoch 56/60\n379/379 [==============================] - 47s 124ms/step - loss: 0.0106 - mae: 0.0762 - val_loss: 0.0107 - val_mae: 0.0766\nEpoch 57/60\n379/379 [==============================] - 47s 124ms/step - loss: 0.0105 - mae: 0.0759 - val_loss: 0.0107 - val_mae: 0.0762\nEpoch 58/60\n379/379 [==============================] - 47s 124ms/step - loss: 0.0105 - mae: 0.0756 - val_loss: 0.0106 - val_mae: 0.0760\nEpoch 59/60\n379/379 [==============================] - 47s 124ms/step - loss: 0.0104 - mae: 0.0754 - val_loss: 0.0106 - val_mae: 0.0757\nEpoch 60/60\n379/379 [==============================] - 50s 131ms/step - loss: 0.0104 - mae: 0.0751 - val_loss: 0.0105 - val_mae: 0.0755\n"
    },
    {
     "output_type": "execute_result",
     "data": {
      "text/plain": "<tensorflow.python.keras.callbacks.History at 0x16c96e75a08>"
     },
     "metadata": {},
     "execution_count": 10
    }
   ],
   "source": [
    "model=build_model()\n",
    "model.compile(optimizer='sgd', loss='mse', metrics=['mae'])\n",
    "#model.summary()\n",
    "num_epochs=60\n",
    "training_steps=int(df.shape[0]*(1-validation_split_frac)/batch_size)\n",
    "validation_steps=int(df.shape[0]*validation_split_frac/batch_size)\n",
    "#assert (training_steps+validation_steps)*batch_size == df.shape[0]\n",
    "log_dir = os.path.join(\"Training_logs\\\\fit\", datetime.datetime.now().strftime(\"%Y%m%d-%H%M%S\"))\n",
    "tensorboard_callback = TensorBoard(log_dir=log_dir, histogram_freq=1)\n",
    "model.fit(\n",
    "    train_generator,\n",
    "    steps_per_epoch=training_steps,\n",
    "    validation_data=validation_generator,\n",
    "    validation_steps=validation_steps,\n",
    "    epochs=num_epochs,\n",
    "    verbose=1, \n",
    "    callbacks=[tensorboard_callback]\n",
    "    )\n"
   ]
  },
  {
   "cell_type": "code",
   "execution_count": 11,
   "metadata": {},
   "outputs": [
    {
     "output_type": "stream",
     "name": "stdout",
     "text": "WARNING:tensorflow:From D:\\anaconda3\\envs\\PythonGPU\\lib\\site-packages\\tensorflow_core\\python\\ops\\resource_variable_ops.py:1786: calling BaseResourceVariable.__init__ (from tensorflow.python.ops.resource_variable_ops) with constraint is deprecated and will be removed in a future version.\nInstructions for updating:\nIf using Keras pass *_constraint arguments to layers.\nINFO:tensorflow:Assets written to: 60epochrun6_16\\assets\n"
    }
   ],
   "source": [
    "model.save(\"60epochrun6_16\")"
   ]
  },
  {
   "cell_type": "code",
   "execution_count": 19,
   "metadata": {},
   "outputs": [],
   "source": [
    "model=models.load_model('60epochrun6_16')"
   ]
  },
  {
   "cell_type": "code",
   "execution_count": 22,
   "metadata": {},
   "outputs": [
    {
     "output_type": "stream",
     "name": "stdout",
     "text": "WARNING:tensorflow:sample_weight modes were coerced from\n  ...\n    to  \n  ['...']\n42/42 [==============================] - 4s 91ms/step - loss: 0.0112 - mae: 0.0784\n"
    },
    {
     "output_type": "execute_result",
     "data": {
      "text/plain": "[0.011231104200262399, 0.078366056]"
     },
     "metadata": {},
     "execution_count": 22
    }
   ],
   "source": [
    "#Evaluates the model on testing set\n",
    "testing_steps=dft.shape[0]//batch_size\n",
    "log_dir = os.path.join(\"Training_logs\\\\test\", datetime.datetime.now().strftime(\"%Y%m%d-%H%M%S\"))\n",
    "tensorboard_callback = TensorBoard(log_dir=log_dir, histogram_freq=1)\n",
    "model.evaluate(\n",
    "    test_generator,\n",
    "    steps=testing_steps\n",
    "    #callbacks=[tensorboard_callback]\n",
    ")"
   ]
  },
  {
   "cell_type": "code",
   "execution_count": 23,
   "metadata": {},
   "outputs": [
    {
     "output_type": "execute_result",
     "data": {
      "text/plain": "['loss', 'mae']"
     },
     "metadata": {},
     "execution_count": 23
    }
   ],
   "source": []
  },
  {
   "cell_type": "code",
   "execution_count": null,
   "metadata": {},
   "outputs": [],
   "source": []
  }
 ],
 "metadata": {
  "kernelspec": {
   "display_name": "Python 3",
   "language": "python",
   "name": "python3"
  },
  "language_info": {
   "codemirror_mode": {
    "name": "ipython",
    "version": 3
   },
   "file_extension": ".py",
   "mimetype": "text/x-python",
   "name": "python",
   "nbconvert_exporter": "python",
   "pygments_lexer": "ipython3",
   "version": "3.7.7-final"
  }
 },
 "nbformat": 4,
 "nbformat_minor": 2
}