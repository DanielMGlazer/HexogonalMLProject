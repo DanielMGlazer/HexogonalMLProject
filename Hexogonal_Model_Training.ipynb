{
 "cells": [
  {
   "cell_type": "code",
   "execution_count": 1,
   "metadata": {},
   "outputs": [],
   "source": [
    "#import tensorflow as tf\n",
    "import datetime\n",
    "from tensorflow.keras import layers\n",
    "from tensorflow.keras import models\n",
    "from tensorflow.keras import optimizers\n",
    "import numpy as np\n",
    "import matplotlib.pyplot as plt\n",
    "from tensorflow.keras.utils import to_categorical\n",
    "from tensorflow.keras.preprocessing.image import ImageDataGenerator\n",
    "from tensorflow.keras.preprocessing import image\n",
    "from tensorflow.keras.callbacks import TensorBoard\n",
    "import os, shutil\n",
    "from PIL import Image, ImageDraw, ImageFont, ImageColor\n",
    "import random\n",
    "import pandas as pd"
   ]
  },
  {
   "cell_type": "code",
   "execution_count": 2,
   "metadata": {},
   "outputs": [],
   "source": [
    "%reload_ext tensorboard"
   ]
  },
  {
   "cell_type": "code",
   "execution_count": 3,
   "metadata": {},
   "outputs": [],
   "source": [
    "train_dataset_dir ='\\\\Users\\\\danie\\\\Penn_State_REU_Jupyter\\\\Hexagon ML Project\\\\Training_set_6_15' \n",
    "\n",
    "df=pd.read_csv(os.path.join(train_dataset_dir,\"training_dataframe.csv\"))\n",
    "df = df.sample(frac=1).reset_index(drop=True)"
   ]
  },
  {
   "cell_type": "code",
   "execution_count": 5,
   "metadata": {},
   "outputs": [
    {
     "output_type": "execute_result",
     "data": {
      "text/plain": "(121500, 9)"
     },
     "metadata": {},
     "execution_count": 5
    }
   ],
   "source": [
    "df.shape"
   ]
  },
  {
   "cell_type": "code",
   "execution_count": 8,
   "metadata": {},
   "outputs": [],
   "source": [
    "def build_model():\n",
    "    model = models.Sequential()                                  \n",
    "    model.add(layers.Conv2D(16, (3,3) ,activation='relu', input_shape=(32,32,3)))\n",
    "    model.add(layers.MaxPooling2D((2,2)))\n",
    "    model.add(layers.Conv2D(16,(3,3), activation='relu'))\n",
    "    model.add(layers.MaxPooling2D((2,2)))\n",
    "    model.add(layers.Flatten())\n",
    "    #model.add(layers.Dropout(0.2))\n",
    "    model.add(layers.Dense(64, activation='relu'))\n",
    "    model.add(layers.Dense(32, activation='relu'))\n",
    "    model.add(layers.Dense(8))\n",
    "    return model"
   ]
  },
  {
   "cell_type": "code",
   "execution_count": 9,
   "metadata": {},
   "outputs": [
    {
     "output_type": "stream",
     "name": "stdout",
     "text": "Found 97200 validated image filenames.\nFound 24300 validated image filenames.\n"
    }
   ],
   "source": [
    "#Creates generators for training and validation images\n",
    "SEED=5\n",
    "validation_split_frac=0.2\n",
    "batch_size=256\n",
    "train_datagen = ImageDataGenerator(rescale=1./255,validation_split=validation_split_frac) \n",
    "train_generator= train_datagen.flow_from_dataframe(\n",
    "        df,\n",
    "        directory=train_dataset_dir,\n",
    "        x_col=\"filename\",\n",
    "        y_col=['x_coord','y_coord','neighbor1x','neighbor1y','neighbor2x','neighbor2y','neighbor3x','neighbor3y'],\n",
    "        target_size=(32,32),\n",
    "        shuffle=True,\n",
    "        seed= SEED,\n",
    "        class_mode=\"raw\",\n",
    "        batch_size=batch_size,\n",
    "        subset='training')\n",
    "\n",
    "validation_generator= train_datagen.flow_from_dataframe(\n",
    "        df,\n",
    "        directory=train_dataset_dir,\n",
    "        x_col=\"filename\",\n",
    "        y_col=['x_coord','y_coord','neighbor1x','neighbor1y','neighbor2x','neighbor2y','neighbor3x','neighbor3y'],\n",
    "        target_size=(32,32),\n",
    "        shuffle=True,\n",
    "        seed= SEED,\n",
    "        class_mode=\"raw\",\n",
    "        batch_size=batch_size,\n",
    "        subset='validation')"
   ]
  },
  {
   "cell_type": "code",
   "execution_count": 11,
   "metadata": {
    "scrolled": true,
    "tags": [
     "outputPrepend",
     "outputPrepend",
     "outputPrepend",
     "outputPrepend",
     "outputPrepend",
     "outputPrepend",
     "outputPrepend",
     "outputPrepend",
     "outputPrepend",
     "outputPrepend",
     "outputPrepend",
     "outputPrepend",
     "outputPrepend",
     "outputPrepend",
     "outputPrepend",
     "outputPrepend",
     "outputPrepend",
     "outputPrepend",
     "outputPrepend",
     "outputPrepend",
     "outputPrepend",
     "outputPrepend",
     "outputPrepend",
     "outputPrepend",
     "outputPrepend",
     "outputPrepend",
     "outputPrepend",
     "outputPrepend",
     "outputPrepend",
     "outputPrepend",
     "outputPrepend",
     "outputPrepend",
     "outputPrepend",
     "outputPrepend",
     "outputPrepend",
     "outputPrepend",
     "outputPrepend",
     "outputPrepend",
     "outputPrepend",
     "outputPrepend",
     "outputPrepend",
     "outputPrepend",
     "outputPrepend",
     "outputPrepend",
     "outputPrepend",
     "outputPrepend",
     "outputPrepend",
     "outputPrepend",
     "outputPrepend",
     "outputPrepend",
     "outputPrepend",
     "outputPrepend",
     "outputPrepend",
     "outputPrepend",
     "outputPrepend",
     "outputPrepend",
     "outputPrepend",
     "outputPrepend",
     "outputPrepend",
     "outputPrepend",
     "outputPrepend",
     "outputPrepend",
     "outputPrepend",
     "outputPrepend",
     "outputPrepend",
     "outputPrepend",
     "outputPrepend",
     "outputPrepend",
     "outputPrepend",
     "outputPrepend",
     "outputPrepend",
     "outputPrepend",
     "outputPrepend",
     "outputPrepend",
     "outputPrepend",
     "outputPrepend",
     "outputPrepend",
     "outputPrepend",
     "outputPrepend",
     "outputPrepend",
     "outputPrepend",
     "outputPrepend",
     "outputPrepend",
     "outputPrepend",
     "outputPrepend",
     "outputPrepend",
     "outputPrepend",
     "outputPrepend",
     "outputPrepend",
     "outputPrepend",
     "outputPrepend",
     "outputPrepend",
     "outputPrepend",
     "outputPrepend",
     "outputPrepend",
     "outputPrepend",
     "outputPrepend",
     "outputPrepend",
     "outputPrepend",
     "outputPrepend",
     "outputPrepend",
     "outputPrepend",
     "outputPrepend",
     "outputPrepend",
     "outputPrepend",
     "outputPrepend",
     "outputPrepend",
     "outputPrepend",
     "outputPrepend",
     "outputPrepend",
     "outputPrepend",
     "outputPrepend",
     "outputPrepend",
     "outputPrepend",
     "outputPrepend",
     "outputPrepend",
     "outputPrepend"
    ]
   },
   "outputs": [
    {
     "output_type": "stream",
     "name": "stdout",
     "text": "WARNING:tensorflow:sample_weight modes were coerced from\n  ...\n    to  \n  ['...']\nWARNING:tensorflow:sample_weight modes were coerced from\n  ...\n    to  \n  ['...']\nTrain for 379 steps, validate for 94 steps\nEpoch 1/20\n379/379 [==============================] - 74s 194ms/step - loss: 0.0345 - mae: 0.1569 - val_loss: 0.0271 - val_mae: 0.1406\nEpoch 2/20\n379/379 [==============================] - 58s 152ms/step - loss: 0.0268 - mae: 0.1395 - val_loss: 0.0262 - val_mae: 0.1381\nEpoch 3/20\n379/379 [==============================] - 57s 151ms/step - loss: 0.0258 - mae: 0.1367 - val_loss: 0.0252 - val_mae: 0.1352\nEpoch 4/20\n379/379 [==============================] - 55s 145ms/step - loss: 0.0248 - mae: 0.1342 - val_loss: 0.0243 - val_mae: 0.1326\nEpoch 5/20\n379/379 [==============================] - 56s 149ms/step - loss: 0.0238 - mae: 0.1309 - val_loss: 0.0231 - val_mae: 0.1288\nEpoch 6/20\n379/379 [==============================] - 59s 156ms/step - loss: 0.0226 - mae: 0.1269 - val_loss: 0.0220 - val_mae: 0.1245\nEpoch 7/20\n379/379 [==============================] - 54s 143ms/step - loss: 0.0214 - mae: 0.1224 - val_loss: 0.0207 - val_mae: 0.1197\nEpoch 8/20\n379/379 [==============================] - 53s 141ms/step - loss: 0.0201 - mae: 0.1172 - val_loss: 0.0193 - val_mae: 0.1140\nEpoch 9/20\n379/379 [==============================] - 54s 142ms/step - loss: 0.0188 - mae: 0.1116 - val_loss: 0.0181 - val_mae: 0.1087\nEpoch 10/20\n379/379 [==============================] - 56s 148ms/step - loss: 0.0178 - mae: 0.1070 - val_loss: 0.0172 - val_mae: 0.1046\nEpoch 11/20\n379/379 [==============================] - 57s 150ms/step - loss: 0.0169 - mae: 0.1034 - val_loss: 0.0164 - val_mae: 0.1014\nEpoch 12/20\n379/379 [==============================] - 56s 148ms/step - loss: 0.0162 - mae: 0.1006 - val_loss: 0.0158 - val_mae: 0.0990\nEpoch 13/20\n379/379 [==============================] - 56s 149ms/step - loss: 0.0157 - mae: 0.0986 - val_loss: 0.0153 - val_mae: 0.0972\nEpoch 14/20\n379/379 [==============================] - 56s 147ms/step - loss: 0.0153 - mae: 0.0970 - val_loss: 0.0150 - val_mae: 0.0959\nEpoch 15/20\n379/379 [==============================] - 53s 139ms/step - loss: 0.0150 - mae: 0.0957 - val_loss: 0.0147 - val_mae: 0.0946\nEpoch 16/20\n379/379 [==============================] - 53s 141ms/step - loss: 0.0147 - mae: 0.0946 - val_loss: 0.0145 - val_mae: 0.0937\nEpoch 17/20\n379/379 [==============================] - 55s 145ms/step - loss: 0.0145 - mae: 0.0937 - val_loss: 0.0143 - val_mae: 0.0929\nEpoch 18/20\n379/379 [==============================] - 54s 141ms/step - loss: 0.0143 - mae: 0.0929 - val_loss: 0.0141 - val_mae: 0.0921\nEpoch 19/20\n379/379 [==============================] - 57s 150ms/step - loss: 0.0141 - mae: 0.0922 - val_loss: 0.0139 - val_mae: 0.0914\nEpoch 20/20\n379/379 [==============================] - 54s 143ms/step - loss: 0.0139 - mae: 0.0915 - val_loss: 0.0138 - val_mae: 0.0908\n"
    },
    {
     "output_type": "execute_result",
     "data": {
      "text/plain": "<tensorflow.python.keras.callbacks.History at 0x234c59b0a08>"
     },
     "metadata": {},
     "execution_count": 11
    }
   ],
   "source": [
    "model=build_model()\n",
    "model.compile(optimizer='sgd', loss='mse', metrics=['mae'])\n",
    "#model.summary()\n",
    "num_epochs=20\n",
    "training_steps=int(df.shape[0]*(1-validation_split_frac)/batch_size)\n",
    "validation_steps=int(df.shape[0]*validation_split_frac/batch_size)\n",
    "#assert (training_steps+validation_steps)*batch_size == df.shape[0]\n",
    "log_dir = os.path.join(\"logs\\\\fit\", datetime.datetime.now().strftime(\"%Y%m%d-%H%M%S\"))\n",
    "tensorboard_callback = TensorBoard(log_dir=log_dir, histogram_freq=1)\n",
    "model.fit(\n",
    "    train_generator,\n",
    "    steps_per_epoch=training_steps,\n",
    "    validation_data=validation_generator,\n",
    "    validation_steps=validation_steps,\n",
    "    epochs=num_epochs,\n",
    "    verbose=1, \n",
    "    callbacks=[tensorboard_callback]\n",
    "    )\n"
   ]
  },
  {
   "cell_type": "code",
   "execution_count": 9,
   "metadata": {},
   "outputs": [],
   "source": [
    "model=build_model()\n",
    "model.compile(optimizer='sgd', loss='mse', metrics=['mae'])\n",
    "#model.summary()"
   ]
  },
  {
   "cell_type": "code",
   "execution_count": 13,
   "metadata": {},
   "outputs": [
    {
     "name": "stdout",
     "output_type": "stream",
     "text": "Known TensorBoard instances:\n  - port 6006: logdir logs/fit (started 5 days, 20:26:52 ago; pid 10216)\n  - port 6006: logdir logs/fit (started 5 days, 0:48:56 ago; pid 10656)\n  - port 6006: logdir Training_set_6_10/logs/fit (started 4 days, 20:04:09 ago; pid 13120)\n  - port 6006: logdir Training_set_6_10/logs/fit (started 4 days, 19:58:34 ago; pid 15348)\n  - port 6006: logdir logs (started 4 days, 20:27:04 ago; pid 16588)\n"
    },
    {
     "data": {
      "text/plain": "ERROR: Timed out waiting for TensorBoard to start. It may still be running as pid 24248."
     },
     "metadata": {},
     "output_type": "display_data"
    }
   ],
   "source": [
    "from tensorboard import notebook\n",
    "notebook.list()\n",
    "%tensorboard --logdir /logs/fit --port 0"
   ]
  },
  {
   "cell_type": "code",
   "execution_count": 12,
   "metadata": {},
   "outputs": [
    {
     "output_type": "stream",
     "name": "stderr",
     "text": "UsageError: Line magic function `%jobs` not found.\n"
    }
   ],
   "source": []
  },
  {
   "cell_type": "code",
   "execution_count": null,
   "metadata": {},
   "outputs": [],
   "source": [
    "\n",
    "#Loads labels and training data into two arrays, such that their indicies match\n",
    "# train_labels=[]\n",
    "# with open(\"Training_set_6_10\\\\training_labels.json\",'r') as dict_contents:\n",
    "#     train_labels_dict=json.load(dict_contents)\n",
    "# train_labels= [value for key,value in sorted(train_labels_dict.items())]\n",
    "\n",
    "# train_images1 = []\n",
    "# path = original_dataset_dir\n",
    "# valid_images = [\".jpg\",\".gif\",\".png\",\".tga\"]\n",
    "# for f in os.listdir(path):\n",
    "#     ext = os.path.splitext(f)[1]\n",
    "#     if ext.lower() not in valid_images:\n",
    "#         continue\n",
    "#     #print(f[10:-4])\n",
    "#     train_images1.append(Image.open(os.path.join(path,f)))\n",
    "#     train_targets1.append(train_targets_dict[str(f[10:-4])])\n"
   ]
  },
  {
   "cell_type": "code",
   "execution_count": null,
   "metadata": {},
   "outputs": [],
   "source": [
    "# k = 4\n",
    "# num_val_samples = len(train_images) // k\n",
    "# num_epochs = 20\n",
    "# all_histories = []\n",
    "# train_datagen = ImageDataGenerator(rescale=1./255)             \n",
    "# val_datagen = ImageDataGenerator(rescale=1./255) \n",
    "# for i in range(k):\n",
    "#     print('processing fold #', i)\n",
    "#     val_images = train_images[i * num_val_samples: (i + 1) * num_val_samples]    \n",
    "#     val_targets = train_targets[i * num_val_samples: (i + 1) * num_val_samples]\n",
    "\n",
    "#     partial_train_images = train_images[:i * num_val_samples] + train_images[(i + 1) * num_val_samples:]\n",
    "#     partial_train_targets = train_targets[:i * num_val_samples] + train_targets[(i + 1) * num_val_samples:]\n",
    "    \n",
    "#     train_generator= train_datagen.flow(\n",
    "#         partial_train_images,\n",
    "#         y=partial_train_targets,\n",
    "#         shuffle=True,\n",
    "#         batch_size=1)\n",
    "#     val_generator= val_datagen.flow(\n",
    "#         val_images,\n",
    "#         y=val_targets,\n",
    "#         shuffle=True,\n",
    "#         batch_size=1)\n",
    "\n",
    "#     model = build_model()                                                    \n",
    "#     history= model.fit_generator(\n",
    "#         train_generator,\n",
    "#         steps_per_epoch=len(partial_train_images),\n",
    "#         epochs=num_epochs,\n",
    "#         validation_data=val_generator,\n",
    "#         validation_steps=num_val_samples)\n",
    "#     #mae_history = history.history['val_mean_absolute_error']\n",
    "#     all_histories.append(history)"
   ]
  },
  {
   "cell_type": "code",
   "execution_count": null,
   "metadata": {},
   "outputs": [],
   "source": [
    "# #index_list=random.sample(range(len(train_images)),len(train_images))\n",
    "# index_list=[12, 77, 11, 32, 35, 28, 58, 70, 0, 46, 64, 74, 13, 1, 19, 2, 57, 39, 56, 30, 71, 49, 38, 7, 47, 75, 43, 25, 5, 44, 18, 50, 51, 17, 21, 27, 48, 29, 6, 10, 8, 34, 76, 9, 69, 60, 62, 15, 65, 53, 59, 16, 24, 4, 55, 22, 63, 78, 73, 67, 20, 42, 68, 52, 26, 79, 36, 33, 45, 41, 37, 72, 14, 40, 66, 3, 54, 31, 61, 23]\n",
    "# train_images=[]\n",
    "# train_targets=[]\n",
    "# for i in index_list:\n",
    "#     train_images.append(train_images1[i])\n",
    "#     train_targets.append(train_targets1[i])\n"
   ]
  },
  {
   "cell_type": "code",
   "execution_count": null,
   "metadata": {},
   "outputs": [],
   "source": [
    "# fig = plt.figure(figsize = (10, 10))\n",
    "# ax = plt.subplot(1,1,1)\n",
    "# ax.imshow(train_images1[3])\n",
    "# ax.axis('off')"
   ]
  },
  {
   "cell_type": "code",
   "execution_count": null,
   "metadata": {},
   "outputs": [],
   "source": []
  }
 ],
 "metadata": {
  "kernelspec": {
   "display_name": "Python 3",
   "language": "python",
   "name": "python3"
  },
  "language_info": {
   "codemirror_mode": {
    "name": "ipython",
    "version": 3
   },
   "file_extension": ".py",
   "mimetype": "text/x-python",
   "name": "python",
   "nbconvert_exporter": "python",
   "pygments_lexer": "ipython3",
   "version": "3.7.7-final"
  }
 },
 "nbformat": 4,
 "nbformat_minor": 2
}