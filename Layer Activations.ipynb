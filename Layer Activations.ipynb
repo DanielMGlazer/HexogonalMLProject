{
 "cells": [
  {
   "cell_type": "code",
   "execution_count": 1,
   "metadata": {},
   "outputs": [],
   "source": [
    "from tensorflow.keras import models\n",
    "from tensorflow.keras import layers\n",
    "from tensorflow.keras import backend as K\n",
    "from tensorflow.keras import optimizers\n",
    "import matplotlib.pyplot as plt \n",
    "import matplotlib.mlab as mlab\n",
    "from mpl_toolkits.mplot3d import Axes3D\n",
    "import numpy as np\n",
    "from PIL import Image\n",
    "from tensorflow.keras.preprocessing.image import ImageDataGenerator\n",
    "from tensorflow.keras.preprocessing import image\n",
    "import pandas as pd\n",
    "import os\n",
    "import tensorflow.keras.losses\n",
    "import math\n",
    "import datetime\n",
    "from my_classes import DataGenerator,STMImage\n",
    "from scipy.ndimage.filters import gaussian_filter"
   ]
  },
  {
   "cell_type": "code",
   "execution_count": 2,
   "metadata": {},
   "outputs": [
    {
     "name": "stdout",
     "output_type": "stream",
     "text": [
      "Model: \"sequential_3\"\n",
      "_________________________________________________________________\n",
      "Layer (type)                 Output Shape              Param #   \n",
      "=================================================================\n",
      "conv2d_7 (Conv2D)            (None, 32, 32, 32)        320       \n",
      "_________________________________________________________________\n",
      "max_pooling2d_6 (MaxPooling2 (None, 16, 16, 32)        0         \n",
      "_________________________________________________________________\n",
      "conv2d_8 (Conv2D)            (None, 14, 14, 64)        18496     \n",
      "_________________________________________________________________\n",
      "max_pooling2d_7 (MaxPooling2 (None, 7, 7, 64)          0         \n",
      "_________________________________________________________________\n",
      "conv2d_9 (Conv2D)            (None, 5, 5, 64)          36928     \n",
      "_________________________________________________________________\n",
      "max_pooling2d_8 (MaxPooling2 (None, 2, 2, 64)          0         \n",
      "_________________________________________________________________\n",
      "dropout_2 (Dropout)          (None, 2, 2, 64)          0         \n",
      "_________________________________________________________________\n",
      "flatten_2 (Flatten)          (None, 256)               0         \n",
      "_________________________________________________________________\n",
      "dense_6 (Dense)              (None, 128)               32896     \n",
      "_________________________________________________________________\n",
      "dense_7 (Dense)              (None, 32)                4128      \n",
      "_________________________________________________________________\n",
      "dense_8 (Dense)              (None, 8)                 264       \n",
      "=================================================================\n",
      "Total params: 93,032\n",
      "Trainable params: 93,032\n",
      "Non-trainable params: 0\n",
      "_________________________________________________________________\n"
     ]
    }
   ],
   "source": [
    "model_name='run6_30_padding'\n",
    "def root_mean_squared_error(y_true, y_pred):\n",
    "        return K.sqrt(K.mean(K.square(y_pred - y_true)))\n",
    "model=models.load_model(os.path.join('Models',model_name),compile=False)\n",
    "model.compile(optimizer='Adam', loss=root_mean_squared_error, metrics=['mse','mae'])\n",
    "model.summary()"
   ]
  },
  {
   "cell_type": "code",
   "execution_count": 3,
   "metadata": {
    "code_folding": [
     2,
     13,
     18
    ]
   },
   "outputs": [
    {
     "data": {
      "image/png": "[encoded data removed]",
      "text/plain": [
       "<Figure size 576x576 with 1 Axes>"
      ]
     },
     "metadata": {
      "needs_background": "light"
     },
     "output_type": "display_data"
    }
   ],
   "source": [
    "#ARRAY:Loads in a single testing image and plots its prediction vs true labels\n",
    "#Method for separting label array into useful data points\n",
    "def split_label(labels):\n",
    "    center_atom=np.array([labels[0],labels[1]])*32\n",
    "    neighborvec1=np.array([labels[2],labels[3]])*32\n",
    "    neighborvec2=np.array([labels[4],labels[5]])*32\n",
    "    neighborvec3=np.array([labels[6],labels[7]])*32\n",
    "    neighbors=[]\n",
    "    neighbors.append(center_atom+neighborvec1)\n",
    "    neighbors.append(center_atom+neighborvec2)\n",
    "    neighbors.append(center_atom+neighborvec3)\n",
    "    return center_atom , neighbors \n",
    "#Methods for coloring in the central atom and labels on the images.\n",
    "def plot_labels():\n",
    "    plt.plot(center_atom[0],center_atom[1],'o',color='black')\n",
    "    plt.plot(neighbors[0][0],neighbors[0][1],'o',color='red')\n",
    "    plt.plot(neighbors[1][0],neighbors[1][1],'o',color='green')\n",
    "    plt.plot(neighbors[2][0],neighbors[2][1],'o',color='blue')\n",
    "def plot_test_labels():\n",
    "    plt.plot(center_atom_t[0],center_atom_t[1],'o',color='xkcd:gray')\n",
    "    plt.plot(neighbors_t[0][0],neighbors_t[0][1],'o',color='xkcd:dark red')\n",
    "    plt.plot(neighbors_t[1][0],neighbors_t[1][1],'o',color='xkcd:dark green')\n",
    "    plt.plot(neighbors_t[2][0],neighbors_t[2][1],'o',color='xkcd:dark blue')\n",
    "\n",
    "    \n",
    "\n",
    "model_name='run6_30_padding'\n",
    "test_dataset_dir ='\\\\Users\\\\danie\\\\Penn_State_REU_Jupyter\\\\Hexagon ML Project GitHub\\\\Training_set_6_29'\n",
    "prediction_dir=os.path.join(\"Training_Set_Predictions\",model_name)\n",
    "dft = pd.read_csv(os.path.join(test_dataset_dir,\"training_dataframe.csv\"))\n",
    "dfp= pd.read_csv(os.path.join(prediction_dir,\"predictions_dataframe.csv\"))\n",
    "\n",
    "\n",
    "index=21642\n",
    "im_filename=dft['filename'][index]\n",
    "atom_size=dft['atom_size'][index]\n",
    "corr=dft['corr'][index]+.1\n",
    "\n",
    "#test_im=np.asarray(image.load_img(os.path.join(test_dataset_dir,im_filename)))\n",
    "test_im=np.load(os.path.join(test_dataset_dir,im_filename))\n",
    "im_tensor=np.reshape(test_im,(32,32,1))\n",
    "im_tensor=np.expand_dims(im_tensor, axis=0)\n",
    "\n",
    "label_names=['x_coord','y_coord','neighbor1x','neighbor1y','neighbor2x','neighbor2y','neighbor3x','neighbor3y']\n",
    "test_labels=dft[label_names].loc[index].to_numpy()\n",
    "prediction_labels=dfp[label_names].loc[index].to_numpy()\n",
    "\n",
    "center_atom_t,neighbors_t=split_label(test_labels)\n",
    "center_atom,neighbors=split_label(prediction_labels)\n",
    "\n",
    "#os.makedirs(os.path.join('Prediction_Plots',datetime.datetime.now().strftime(\"%m_%d\")))\n",
    "prediction_plots_dir=os.path.join('Prediction_Plots',datetime.datetime.now().strftime(\"%m_%d\"))\n",
    "\n",
    "# %matplotlib notebook\n",
    "# %matplotlib inline\n",
    "\n",
    "\n",
    "im=STMImage(test_im)\n",
    "fig = plt.figure(figsize = (8, 8))\n",
    "ax = plt.subplot(1,1,1)\n",
    "ax.imshow(im.image)\n",
    "ax.axis('off')\n",
    "plot_test_labels()\n",
    "#plot_labels()\n",
    "\n",
    "\n",
    "# im_tensor=STMImage(test_im).image\n",
    "# im_tensor=np.expand_dims(im_tensor, axis=0)"
   ]
  },
  {
   "cell_type": "code",
   "execution_count": 4,
   "metadata": {},
   "outputs": [],
   "source": [
    "layer_outputs=[layer.output for layer in model.layers[:8]]\n",
    "activation_model = models.Model(inputs=model.input, outputs=layer_outputs)\n",
    "activations = activation_model.predict(im_tensor)"
   ]
  },
  {
   "cell_type": "code",
   "execution_count": null,
   "metadata": {
    "scrolled": false
   },
   "outputs": [],
   "source": [
    "model_name='run6_30_padding'\n",
    "plot_dir=os.path.join(\"Layer Activations\",model_name)\n",
    "#os.makedirs(plot_dir)\n",
    "layer_names = []                                                          \n",
    "for layer in model.layers[:8]:                                            \n",
    "    layer_names.append(layer.name)                                        \n",
    "\n",
    "images_per_row = 16\n",
    "\n",
    "plt.figure()\n",
    "for layer_name, layer_activation in zip(layer_names, activations):      \n",
    "    n_features = layer_activation.shape[-1]                               \n",
    "\n",
    "    size = layer_activation.shape[1]                                      \n",
    "\n",
    "    n_cols = n_features // images_per_row                                 \n",
    "    display_grid = np.zeros((size * n_cols, images_per_row * size))\n",
    "\n",
    "    for col in range(n_cols):                                             \n",
    "        for row in range(images_per_row):\n",
    "            channel_image = layer_activation[0,\n",
    "                                             :, :,\n",
    "                                             col * images_per_row + row]\n",
    "            channel_image -= channel_image.mean()                         \n",
    "            channel_image /= channel_image.std()\n",
    "            channel_image *= 64\n",
    "            channel_image += 128\n",
    "            channel_image = np.clip(channel_image, 0, 255).astype('uint8')\n",
    "            display_grid[col * size : (col + 1) * size,                   \n",
    "                         row * size : (row + 1) * size] = channel_image\n",
    "\n",
    "    scale = 1. / size\n",
    "    plt.figure(figsize=(scale * display_grid.shape[1],\n",
    "                        scale * display_grid.shape[0]))\n",
    "    plt.title(layer_name)\n",
    "    plt.grid(False)\n",
    "    plt.imshow(display_grid, aspect='auto', cmap='viridis')\n",
    "    plt.savefig(os.path.join(plot_dir,'run6_24_newdataset activations'+layer_name+'.png'))\n",
    "\n",
    "    \n"
   ]
  },
  {
   "cell_type": "code",
   "execution_count": null,
   "metadata": {},
   "outputs": [],
   "source": []
  }
 ],
 "metadata": {
  "kernelspec": {
   "display_name": "Python 3",
   "language": "python",
   "name": "python3"
  },
  "language_info": {
   "codemirror_mode": {
    "name": "ipython",
    "version": 3
   },
   "file_extension": ".py",
   "mimetype": "text/x-python",
   "name": "python",
   "nbconvert_exporter": "python",
   "pygments_lexer": "ipython3",
   "version": "3.7.7"
  }
 },
 "nbformat": 4,
 "nbformat_minor": 4
}
